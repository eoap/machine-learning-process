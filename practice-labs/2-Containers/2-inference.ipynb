{
 "cells": [
  {
   "cell_type": "markdown",
   "metadata": {},
   "source": [
    "# Build and test the Inference container\n",
    "\n",
    "This notebook will provide an step-by-step instruction to create a docker image for inference module of tile-based classification and test its performance.\n",
    "\n",
    "> Note: Before proceeding, make sure to select the correct kernel. In the top-right corner of the notebook, choose the Jupyter kernel named `Bash`.\n"
   ]
  },
  {
   "cell_type": "markdown",
   "metadata": {},
   "source": [
    "## Setup the environment"
   ]
  },
  {
   "cell_type": "code",
   "execution_count": 3,
   "metadata": {
    "vscode": {
     "languageId": "shellscript"
    }
   },
   "outputs": [
    {
     "name": "stdout",
     "output_type": "stream",
     "text": [
      "XDG_RUNTIME_DIR=/workspace/.local\n",
      "RUNTIME=/workspace/machine-learning-process/runs\n",
      "/workspace/machine-learning-process/runs\n"
     ]
    }
   ],
   "source": [
    "export WORKSPACE=/workspace/machine-learning-process\n",
    "export RUNTIME=${WORKSPACE}/runs\n",
    "mkdir -p ${RUNTIME}\n",
    "cd ${RUNTIME}\n",
    "printenv | grep RUNTIME\n",
    "pwd"
   ]
  },
  {
   "cell_type": "markdown",
   "metadata": {},
   "source": [
    "## Build the container\n",
    "\n",
    "Inspect the container file:"
   ]
  },
  {
   "cell_type": "code",
   "execution_count": 4,
   "metadata": {
    "vscode": {
     "languageId": "shellscript"
    }
   },
   "outputs": [
    {
     "name": "stdout",
     "output_type": "stream",
     "text": [
      "# Stage 1: Build stage\n",
      "FROM rockylinux:9.3-minimal AS build\n",
      "\n",
      "# Install necessary build tools\n",
      "RUN microdnf install -y curl tar\n",
      "\n",
      "# Download the hatch tar.gz file from GitHub\n",
      "RUN curl -L https://github.com/pypa/hatch/releases/download/hatch-v1.14.0/hatch-x86_64-unknown-linux-gnu.tar.gz -o /tmp/hatch-x86_64-unknown-linux-gnu.tar.gz\n",
      "\n",
      "# Extract the hatch binary\n",
      "RUN tar -xzf /tmp/hatch-x86_64-unknown-linux-gnu.tar.gz -C /tmp/\n",
      "\n",
      "# Stage 2: Final stage\n",
      "FROM rockylinux:9.3-minimal\n",
      "\n",
      "# Set up a default user and home directory\n",
      "ENV HOME=/home/neo\n",
      "\n",
      "# Install essential libraries including expat and python3 without `config` commands\n",
      "RUN microdnf install -y \\\n",
      "    expat \\\n",
      "    libpq \\\n",
      "    curl \\\n",
      "    git \\\n",
      "    wget \\\n",
      "    tar \\\n",
      "    && microdnf install -y python3 \\\n",
      "    && microdnf clean all\n",
      "\n",
      "# Create a user with UID 1001, group root, and a home directory\n",
      "RUN useradd -u 1001 -g 100 -m -d ${HOME} -s /sbin/nologin \\\n",
      "         -c \"Default Neo User\" neo && \\\n",
      "    mkdir -p /code /prod ${HOME}/.cache /home/neo/.local/share/hatch && \\\n",
      "    chown -R neo:100 /code ${HOME} /home/neo/.local/share/hatch && \\\n",
      "    chmod -R 775 /code ${HOME}\n",
      "\n",
      "# Copy the hatch binary from the build stage\n",
      "COPY --from=build /tmp/hatch /usr/bin/hatch\n",
      "\n",
      "# Ensure the hatch binary is executable\n",
      "RUN chmod +x /usr/bin/hatch\n",
      "\n",
      "# Switch to the non-root user\n",
      "USER neo\n",
      "\n",
      "# Copy the application files into the /code directory\n",
      "COPY --chown=1001:100 . /code\n",
      "\n",
      "WORKDIR /code\n",
      "\n",
      "# Set up virtual environment paths\n",
      "ENV VIRTUAL_ENV=/code/envs/make_inference\n",
      "ENV PATH=\"$VIRTUAL_ENV/bin:$PATH\"\n",
      "ENV HATCH_PYTHON_VARIANT_LINUX=v2\n",
      "\n",
      "# Prune any existing environments and create a new production environment\n",
      "RUN hatch env prune && \\\n",
      "    hatch env create prod && \\\n",
      "    hatch run prod:make-inference --help\n"
     ]
    }
   ],
   "source": [
    "cat ${WORKSPACE}/inference/make-inference/Dockerfile"
   ]
  },
  {
   "cell_type": "markdown",
   "metadata": {},
   "source": [
    "Build the container using `docker`:"
   ]
  },
  {
   "cell_type": "code",
   "execution_count": 5,
   "metadata": {
    "vscode": {
     "languageId": "shellscript"
    }
   },
   "outputs": [
    {
     "name": "stdout",
     "output_type": "stream",
     "text": [
      "[1/2] STEP 1/4: FROM rockylinux:9.3-minimal AS build\n",
      "Resolved \"rockylinux\" as an alias (/etc/containers/registries.conf.d/shortnames.conf)\n",
      "Trying to pull docker.io/library/rockylinux:9.3-minimal...\n",
      "Getting image source signatures\n",
      "Copying blob 8ec988941d66 [--------------------------------------] 0.0b / 0.0b\n",
      "\u001b[1A\u001b[JCopying blob 8ec988941d66 skipped: already exists  \n",
      "\u001b[1A\u001b[JCopying blob 8ec988941d66 skipped: already exists  \n",
      "Copying config dfaa211c6b [====================================] 578.0b / 578.0b\n",
      "\u001b[1A\u001b[JCopying config dfaa211c6b done  \n",
      "\u001b[1A\u001b[JCopying config dfaa211c6b done  \n",
      "Writing manifest to image destination\n",
      "Storing signatures\n",
      "[1/2] STEP 2/4: RUN microdnf install -y curl tar\n",
      "Downloading metadata...\n",
      "Downloading metadata...\n",
      "Downloading metadata...\n",
      "Package                                          Repository     Size\n",
      "Installing:                                                         \n",
      " tar-2:1.34-7.el9.x86_64                         baseos     896.5 kB\n",
      "Upgrading:                                                          \n",
      " curl-7.76.1-31.el9.x86_64                       baseos     299.7 kB\n",
      "  replacing curl-7.76.1-26.el9_3.2.0.1.x86_64                       \n",
      " libcurl-7.76.1-31.el9.x86_64                    baseos     289.9 kB\n",
      "  replacing libcurl-7.76.1-26.el9_3.2.0.1.x86_64                    \n",
      " openssl-1:3.2.2-6.el9_5.1.x86_64                baseos       1.3 MB\n",
      "  replacing openssl-1:3.0.7-24.el9.x86_64                           \n",
      " openssl-libs-1:3.2.2-6.el9_5.1.x86_64           baseos       2.5 MB\n",
      "   replacing openssl-libs-1:3.0.7-24.el9.x86_64                     \n",
      "Transaction Summary:\n",
      " Installing:        1 packages\n",
      " Reinstalling:      0 packages\n",
      " Upgrading:         4 packages\n",
      " Obsoleting:        0 packages\n",
      " Removing:          0 packages\n",
      " Downgrading:       0 packages\n",
      "Downloading packages...\n",
      "Running transaction test...\n",
      "Updating: openssl-libs;1:3.2.2-6.el9_5.1;x86_64;baseos\n",
      "Updating: libcurl;7.76.1-31.el9;x86_64;baseos\n",
      "Updating: curl;7.76.1-31.el9;x86_64;baseos\n",
      "Updating: openssl;1:3.2.2-6.el9_5.1;x86_64;baseos\n",
      "Installing: tar;2:1.34-7.el9;x86_64;baseos\n",
      "Cleanup: openssl;1:3.0.7-24.el9;x86_64;installed\n",
      "Cleanup: curl;7.76.1-26.el9_3.2.0.1;x86_64;installed\n",
      "Cleanup: libcurl;7.76.1-26.el9_3.2.0.1;x86_64;installed\n",
      "Cleanup: openssl-libs;1:3.0.7-24.el9;x86_64;installed\n",
      "Complete.\n",
      "\u001b[31mERRO\u001b[0m[0006] Can't add file /workspace/.local/share/containers/storage/overlay/d52664830bb144d6ba939f9e89a0306e542d625fd3d4d68a61da319f5a100868/diff/var/cache/yum/metadata/appstream-9-x86_64/gpgdir/S.gpg-agent to tar: archive/tar: sockets not supported \n",
      "\u001b[31mERRO\u001b[0m[0006] Can't add file /workspace/.local/share/containers/storage/overlay/d52664830bb144d6ba939f9e89a0306e542d625fd3d4d68a61da319f5a100868/diff/var/cache/yum/metadata/appstream-9-x86_64/gpgdir/S.gpg-agent.browser to tar: archive/tar: sockets not supported \n",
      "\u001b[31mERRO\u001b[0m[0006] Can't add file /workspace/.local/share/containers/storage/overlay/d52664830bb144d6ba939f9e89a0306e542d625fd3d4d68a61da319f5a100868/diff/var/cache/yum/metadata/appstream-9-x86_64/gpgdir/S.gpg-agent.extra to tar: archive/tar: sockets not supported \n",
      "\u001b[31mERRO\u001b[0m[0006] Can't add file /workspace/.local/share/containers/storage/overlay/d52664830bb144d6ba939f9e89a0306e542d625fd3d4d68a61da319f5a100868/diff/var/cache/yum/metadata/appstream-9-x86_64/gpgdir/S.gpg-agent.ssh to tar: archive/tar: sockets not supported \n",
      "\u001b[31mERRO\u001b[0m[0006] Can't add file /workspace/.local/share/containers/storage/overlay/d52664830bb144d6ba939f9e89a0306e542d625fd3d4d68a61da319f5a100868/diff/var/cache/yum/metadata/appstream-9-x86_64/gpgdir/S.scdaemon to tar: archive/tar: sockets not supported \n",
      "\u001b[31mERRO\u001b[0m[0006] Can't add file /workspace/.local/share/containers/storage/overlay/d52664830bb144d6ba939f9e89a0306e542d625fd3d4d68a61da319f5a100868/diff/var/cache/yum/metadata/baseos-9-x86_64/gpgdir/S.gpg-agent to tar: archive/tar: sockets not supported \n",
      "\u001b[31mERRO\u001b[0m[0006] Can't add file /workspace/.local/share/containers/storage/overlay/d52664830bb144d6ba939f9e89a0306e542d625fd3d4d68a61da319f5a100868/diff/var/cache/yum/metadata/baseos-9-x86_64/gpgdir/S.gpg-agent.browser to tar: archive/tar: sockets not supported \n",
      "\u001b[31mERRO\u001b[0m[0006] Can't add file /workspace/.local/share/containers/storage/overlay/d52664830bb144d6ba939f9e89a0306e542d625fd3d4d68a61da319f5a100868/diff/var/cache/yum/metadata/baseos-9-x86_64/gpgdir/S.gpg-agent.extra to tar: archive/tar: sockets not supported \n",
      "\u001b[31mERRO\u001b[0m[0006] Can't add file /workspace/.local/share/containers/storage/overlay/d52664830bb144d6ba939f9e89a0306e542d625fd3d4d68a61da319f5a100868/diff/var/cache/yum/metadata/baseos-9-x86_64/gpgdir/S.gpg-agent.ssh to tar: archive/tar: sockets not supported \n",
      "\u001b[31mERRO\u001b[0m[0006] Can't add file /workspace/.local/share/containers/storage/overlay/d52664830bb144d6ba939f9e89a0306e542d625fd3d4d68a61da319f5a100868/diff/var/cache/yum/metadata/baseos-9-x86_64/gpgdir/S.scdaemon to tar: archive/tar: sockets not supported \n",
      "\u001b[31mERRO\u001b[0m[0006] Can't add file /workspace/.local/share/containers/storage/overlay/d52664830bb144d6ba939f9e89a0306e542d625fd3d4d68a61da319f5a100868/diff/var/cache/yum/metadata/extras-9-x86_64/gpgdir/S.gpg-agent to tar: archive/tar: sockets not supported \n",
      "\u001b[31mERRO\u001b[0m[0006] Can't add file /workspace/.local/share/containers/storage/overlay/d52664830bb144d6ba939f9e89a0306e542d625fd3d4d68a61da319f5a100868/diff/var/cache/yum/metadata/extras-9-x86_64/gpgdir/S.gpg-agent.browser to tar: archive/tar: sockets not supported \n",
      "\u001b[31mERRO\u001b[0m[0006] Can't add file /workspace/.local/share/containers/storage/overlay/d52664830bb144d6ba939f9e89a0306e542d625fd3d4d68a61da319f5a100868/diff/var/cache/yum/metadata/extras-9-x86_64/gpgdir/S.gpg-agent.extra to tar: archive/tar: sockets not supported \n",
      "\u001b[31mERRO\u001b[0m[0006] Can't add file /workspace/.local/share/containers/storage/overlay/d52664830bb144d6ba939f9e89a0306e542d625fd3d4d68a61da319f5a100868/diff/var/cache/yum/metadata/extras-9-x86_64/gpgdir/S.gpg-agent.ssh to tar: archive/tar: sockets not supported \n",
      "\u001b[31mERRO\u001b[0m[0006] Can't add file /workspace/.local/share/containers/storage/overlay/d52664830bb144d6ba939f9e89a0306e542d625fd3d4d68a61da319f5a100868/diff/var/cache/yum/metadata/extras-9-x86_64/gpgdir/S.scdaemon to tar: archive/tar: sockets not supported \n",
      "--> 62ce6c42059\n",
      "[1/2] STEP 3/4: RUN curl -L https://github.com/pypa/hatch/releases/download/hatch-v1.14.0/hatch-x86_64-unknown-linux-gnu.tar.gz -o /tmp/hatch-x86_64-unknown-linux-gnu.tar.gz\n",
      "  % Total    % Received % Xferd  Average Speed   Time    Time     Time  Current\n",
      "                                 Dload  Upload   Total   Spent    Left  Speed\n",
      "  0     0    0     0    0     0      0      0 --:--:-- --:--:-- --:--:--     0\n",
      "100 1855k  100 1855k    0     0  2096k      0 --:--:-- --:--:-- --:--:-- 3312k\n",
      "--> 8907002189a\n",
      "[1/2] STEP 4/4: RUN tar -xzf /tmp/hatch-x86_64-unknown-linux-gnu.tar.gz -C /tmp/\n",
      "--> 761a8c777a0\n",
      "[2/2] STEP 1/13: FROM rockylinux:9.3-minimal\n",
      "[2/2] STEP 2/13: ENV HOME=/home/neo\n",
      "--> ddbc774d11d\n",
      "[2/2] STEP 3/13: RUN microdnf install -y     expat     libpq     curl     git     wget     tar     && microdnf install -y python3     && microdnf clean all\n",
      "Downloading metadata...\n",
      "Downloading metadata...\n",
      "Downloading metadata...\n",
      "Package                                          Repository     Size\n",
      "Installing:                                                         \n",
      " emacs-filesystem-1:27.2-11.el9_5.1.noarch       appstream    8.0 kB\n",
      " expat-2.5.0-3.el9_5.3.x86_64                    baseos     118.1 kB\n",
      " git-2.43.5-2.el9_5.x86_64                       appstream   51.1 kB\n",
      " git-core-2.43.5-2.el9_5.x86_64                  appstream    4.6 MB\n",
      " git-core-doc-2.43.5-2.el9_5.noarch              appstream    2.8 MB\n",
      " groff-base-1.22.4-10.el9.x86_64                 baseos       1.1 MB\n",
      " less-590-5.el9.x86_64                           baseos     164.4 kB\n",
      " libcbor-0.7.0-5.el9.x86_64                      baseos      57.5 kB\n",
      " libedit-3.1-38.20210216cvs.el9.x86_64           baseos     105.9 kB\n",
      " libfido2-1.13.0-2.el9.x86_64                    baseos      99.4 kB\n",
      " libpq-13.20-1.el9_5.x86_64                      appstream  212.0 kB\n",
      " ncurses-6.2-10.20210508.el9.x86_64              baseos     408.1 kB\n",
      " openssh-8.7p1-43.el9.x86_64                     baseos     468.4 kB\n",
      " openssh-clients-8.7p1-43.el9.x86_64             baseos     729.6 kB\n",
      " perl-AutoLoader-5.74-481.el9.noarch             appstream   20.3 kB\n",
      " perl-B-1.80-481.el9.x86_64                      appstream  182.0 kB\n",
      " perl-Carp-1.50-460.el9.noarch                   appstream   29.4 kB\n",
      " perl-Class-Struct-0.66-481.el9.noarch           appstream   21.2 kB\n",
      " perl-Data-Dumper-2.174-462.el9.x86_64           appstream   56.1 kB\n",
      " perl-Digest-1.19-4.el9.noarch                   appstream   25.9 kB\n",
      " perl-Digest-MD5-2.58-4.el9.x86_64               appstream   36.6 kB\n",
      " perl-DynaLoader-1.47-481.el9.x86_64             appstream   24.9 kB\n",
      " perl-Encode-4:3.08-462.el9.x86_64               appstream    1.8 MB\n",
      " perl-Errno-1.30-481.el9.x86_64                  appstream   13.8 kB\n",
      " perl-Error-1:0.17029-7.el9.noarch               appstream   42.0 kB\n",
      " perl-Exporter-5.74-461.el9.noarch               appstream   31.6 kB\n",
      " perl-Fcntl-1.13-481.el9.x86_64                  appstream   19.5 kB\n",
      " perl-File-Basename-2.85-481.el9.noarch          appstream   16.2 kB\n",
      " perl-File-Find-1.37-481.el9.noarch              appstream   24.6 kB\n",
      " perl-File-Path-2.18-4.el9.noarch                appstream   36.0 kB\n",
      " perl-File-Temp-1:0.231.100-4.el9.noarch         appstream   60.6 kB\n",
      " perl-File-stat-1.09-481.el9.noarch              appstream   16.1 kB\n",
      " perl-FileHandle-2.03-481.el9.noarch             appstream   14.4 kB\n",
      " perl-Getopt-Long-1:2.52-4.el9.noarch            appstream   60.9 kB\n",
      " perl-Getopt-Std-1.12-481.el9.noarch             appstream   14.5 kB\n",
      " perl-Git-2.43.5-2.el9_5.noarch                  appstream   38.0 kB\n",
      " perl-HTTP-Tiny-0.076-462.el9.noarch             appstream   54.7 kB\n",
      " perl-IO-1.43-481.el9.x86_64                     appstream   87.0 kB\n",
      " perl-IO-Socket-IP-0.41-5.el9.noarch             appstream   42.7 kB\n",
      " perl-IO-Socket-SSL-2.073-2.el9.noarch           appstream  219.3 kB\n",
      " perl-IPC-Open3-1.21-481.el9.noarch              appstream   22.0 kB\n",
      " perl-MIME-Base64-3.16-4.el9.x86_64              appstream   30.9 kB\n",
      " perl-Mozilla-CA-20200520-6.el9.noarch           appstream   12.4 kB\n",
      " perl-NDBM_File-1.15-481.el9.x86_64              appstream   21.2 kB\n",
      " perl-Net-SSLeay-1.94-1.el9.x86_64               appstream  400.1 kB\n",
      " perl-POSIX-1.94-481.el9.x86_64                  appstream   97.2 kB\n",
      " perl-PathTools-3.78-461.el9.x86_64              appstream   87.0 kB\n",
      " perl-Pod-Escapes-1:1.07-460.el9.noarch          appstream   20.2 kB\n",
      " perl-Pod-Perldoc-3.28.01-461.el9.noarch         appstream   84.8 kB\n",
      " perl-Pod-Simple-1:3.42-4.el9.noarch             appstream  220.0 kB\n",
      " perl-Pod-Usage-4:2.01-4.el9.noarch              appstream   41.1 kB\n",
      " perl-Scalar-List-Utils-4:1.56-462.el9.x86_64    appstream   71.4 kB\n",
      " perl-SelectSaver-1.02-481.el9.noarch            appstream   10.5 kB\n",
      " perl-Socket-4:2.031-4.el9.x86_64                appstream   55.8 kB\n",
      " perl-Storable-1:3.21-460.el9.x86_64             appstream   97.0 kB\n",
      " perl-Symbol-1.08-481.el9.noarch                 appstream   13.0 kB\n",
      " perl-Term-ANSIColor-5.01-461.el9.noarch         appstream   48.9 kB\n",
      " perl-Term-Cap-1.17-460.el9.noarch               appstream   22.2 kB\n",
      " perl-TermReadKey-2.38-11.el9.x86_64             appstream   36.6 kB\n",
      " perl-Text-ParseWords-3.30-460.el9.noarch        appstream   16.2 kB\n",
      " perl-Text-Tabs+Wrap-2013.0523-460.el9.noarch    appstream   23.1 kB\n",
      " perl-Time-Local-2:1.300-7.el9.noarch            appstream   34.1 kB\n",
      " perl-URI-5.09-3.el9.noarch                      appstream  110.4 kB\n",
      " perl-base-2.27-481.el9.noarch                   appstream   15.2 kB\n",
      " perl-constant-1.33-461.el9.noarch               appstream   23.2 kB\n",
      " perl-if-0.60.800-481.el9.noarch                 appstream   12.9 kB\n",
      " perl-interpreter-4:5.32.1-481.el9.x86_64        appstream   71.2 kB\n",
      " perl-lib-0.65-481.el9.x86_64                    appstream   13.8 kB\n",
      " perl-libnet-3.13-4.el9.noarch                   appstream  128.4 kB\n",
      " perl-libs-4:5.32.1-481.el9.x86_64               appstream    2.1 MB\n",
      " perl-mro-1.23-481.el9.x86_64                    appstream   27.5 kB\n",
      " perl-overload-1.31-481.el9.noarch               appstream   45.2 kB\n",
      " perl-overloading-0.02-481.el9.noarch            appstream   11.7 kB\n",
      " perl-parent-1:0.238-460.el9.noarch              appstream   14.3 kB\n",
      " perl-podlators-1:4.14-460.el9.noarch            appstream  114.2 kB\n",
      " perl-subs-1.03-481.el9.noarch                   appstream   10.5 kB\n",
      " perl-vars-1.05-481.el9.noarch                   appstream   11.9 kB\n",
      " tar-2:1.34-7.el9.x86_64                         baseos     896.5 kB\n",
      " wget-1.21.1-8.el9_4.x86_64                      appstream  786.0 kB\n",
      "Upgrading:                                                          \n",
      " curl-7.76.1-31.el9.x86_64                       baseos     299.7 kB\n",
      "  replacing curl-7.76.1-26.el9_3.2.0.1.x86_64                       \n",
      " libcurl-7.76.1-31.el9.x86_64                    baseos     289.9 kB\n",
      "  replacing libcurl-7.76.1-26.el9_3.2.0.1.x86_64                    \n",
      " openssl-1:3.2.2-6.el9_5.1.x86_64                baseos       1.3 MB\n",
      "  replacing openssl-1:3.0.7-24.el9.x86_64                           \n",
      " openssl-libs-1:3.2.2-6.el9_5.1.x86_64           baseos       2.5 MB\n",
      "   replacing openssl-libs-1:3.0.7-24.el9.x86_64                     \n",
      "Transaction Summary:\n",
      " Installing:       79 packages\n",
      " Reinstalling:      0 packages\n",
      " Upgrading:         4 packages\n",
      " Obsoleting:        0 packages\n",
      " Removing:          0 packages\n",
      " Downgrading:       0 packages\n",
      "Downloading packages...\n",
      "Running transaction test...\n",
      "Updating: openssl-libs;1:3.2.2-6.el9_5.1;x86_64;baseos\n",
      "Updating: libcurl;7.76.1-31.el9;x86_64;baseos\n",
      "Installing: openssh;8.7p1-43.el9;x86_64;baseos\n",
      "Installing: emacs-filesystem;1:27.2-11.el9_5.1;noarch;appstream\n",
      "Installing: ncurses;6.2-10.20210508.el9;x86_64;baseos\n",
      "Installing: libcbor;0.7.0-5.el9;x86_64;baseos\n",
      "Installing: libfido2;1.13.0-2.el9;x86_64;baseos\n",
      "Installing: libedit;3.1-38.20210216cvs.el9;x86_64;baseos\n",
      "Installing: openssh-clients;8.7p1-43.el9;x86_64;baseos\n",
      "Installing: less;590-5.el9;x86_64;baseos\n",
      "Installing: groff-base;1.22.4-10.el9;x86_64;baseos\n",
      "Installing: perl-Digest;1.19-4.el9;noarch;appstream\n",
      "Installing: perl-Digest-MD5;2.58-4.el9;x86_64;appstream\n",
      "Installing: perl-B;1.80-481.el9;x86_64;appstream\n",
      "Installing: perl-FileHandle;2.03-481.el9;noarch;appstream\n",
      "Installing: perl-Data-Dumper;2.174-462.el9;x86_64;appstream\n",
      "Installing: perl-libnet;3.13-4.el9;noarch;appstream\n",
      "Installing: perl-base;2.27-481.el9;noarch;appstream\n",
      "Installing: perl-AutoLoader;5.74-481.el9;noarch;appstream\n",
      "Installing: perl-URI;5.09-3.el9;noarch;appstream\n",
      "Installing: perl-Mozilla-CA;20200520-6.el9;noarch;appstream\n",
      "Installing: perl-Text-Tabs+Wrap;2013.0523-460.el9;noarch;appstream\n",
      "Installing: perl-Pod-Escapes;1:1.07-460.el9;noarch;appstream\n",
      "Installing: perl-if;0.60.800-481.el9;noarch;appstream\n",
      "Installing: perl-File-Path;2.18-4.el9;noarch;appstream\n",
      "Installing: perl-IO-Socket-IP;0.41-5.el9;noarch;appstream\n",
      "Installing: perl-Net-SSLeay;1.94-1.el9;x86_64;appstream\n",
      "Installing: perl-Time-Local;2:1.300-7.el9;noarch;appstream\n",
      "Installing: perl-IO-Socket-SSL;2.073-2.el9;noarch;appstream\n",
      "Installing: perl-Term-ANSIColor;5.01-461.el9;noarch;appstream\n",
      "Installing: perl-POSIX;1.94-481.el9;x86_64;appstream\n",
      "Installing: perl-Term-Cap;1.17-460.el9;noarch;appstream\n",
      "Installing: perl-subs;1.03-481.el9;noarch;appstream\n",
      "Installing: perl-Pod-Simple;1:3.42-4.el9;noarch;appstream\n",
      "Installing: perl-IPC-Open3;1.21-481.el9;noarch;appstream\n",
      "Installing: perl-Class-Struct;0.66-481.el9;noarch;appstream\n",
      "Installing: perl-HTTP-Tiny;0.076-462.el9;noarch;appstream\n",
      "Installing: perl-File-Temp;1:0.231.100-4.el9;noarch;appstream\n",
      "Installing: perl-Socket;4:2.031-4.el9;x86_64;appstream\n",
      "Installing: perl-Symbol;1.08-481.el9;noarch;appstream\n",
      "Installing: perl-SelectSaver;1.02-481.el9;noarch;appstream\n",
      "Installing: perl-File-stat;1.09-481.el9;noarch;appstream\n",
      "Installing: perl-podlators;1:4.14-460.el9;noarch;appstream\n",
      "Installing: perl-Pod-Perldoc;3.28.01-461.el9;noarch;appstream\n",
      "Installing: perl-Text-ParseWords;3.30-460.el9;noarch;appstream\n",
      "Installing: perl-mro;1.23-481.el9;x86_64;appstream\n",
      "Installing: perl-Fcntl;1.13-481.el9;x86_64;appstream\n",
      "Installing: perl-overloading;0.02-481.el9;noarch;appstream\n",
      "Installing: perl-IO;1.43-481.el9;x86_64;appstream\n",
      "Installing: perl-Pod-Usage;4:2.01-4.el9;noarch;appstream\n",
      "Installing: perl-constant;1.33-461.el9;noarch;appstream\n",
      "Installing: perl-Scalar-List-Utils;4:1.56-462.el9;x86_64;appstream\n",
      "Installing: perl-MIME-Base64;3.16-4.el9;x86_64;appstream\n",
      "Installing: perl-Errno;1.30-481.el9;x86_64;appstream\n",
      "Installing: perl-vars;1.05-481.el9;noarch;appstream\n",
      "Installing: perl-overload;1.31-481.el9;noarch;appstream\n",
      "Installing: perl-Getopt-Std;1.12-481.el9;noarch;appstream\n",
      "Installing: perl-File-Basename;2.85-481.el9;noarch;appstream\n",
      "Installing: perl-Storable;1:3.21-460.el9;x86_64;appstream\n",
      "Installing: perl-parent;1:0.238-460.el9;noarch;appstream\n",
      "Installing: perl-Getopt-Long;1:2.52-4.el9;noarch;appstream\n",
      "Installing: perl-Exporter;5.74-461.el9;noarch;appstream\n",
      "Installing: perl-Carp;1.50-460.el9;noarch;appstream\n",
      "Installing: perl-NDBM_File;1.15-481.el9;x86_64;appstream\n",
      "Installing: perl-PathTools;3.78-461.el9;x86_64;appstream\n",
      "Installing: perl-Encode;4:3.08-462.el9;x86_64;appstream\n",
      "Installing: perl-libs;4:5.32.1-481.el9;x86_64;appstream\n",
      "Installing: perl-interpreter;4:5.32.1-481.el9;x86_64;appstream\n",
      "Installing: perl-Error;1:0.17029-7.el9;noarch;appstream\n",
      "Installing: perl-lib;0.65-481.el9;x86_64;appstream\n",
      "Installing: perl-DynaLoader;1.47-481.el9;x86_64;appstream\n",
      "Installing: perl-TermReadKey;2.38-11.el9;x86_64;appstream\n",
      "Installing: perl-File-Find;1.37-481.el9;noarch;appstream\n",
      "Installing: expat;2.5.0-3.el9_5.3;x86_64;baseos\n",
      "Installing: git-core;2.43.5-2.el9_5;x86_64;appstream\n",
      "Installing: git-core-doc;2.43.5-2.el9_5;noarch;appstream\n",
      "Installing: perl-Git;2.43.5-2.el9_5;noarch;appstream\n",
      "Installing: git;2.43.5-2.el9_5;x86_64;appstream\n",
      "Updating: curl;7.76.1-31.el9;x86_64;baseos\n",
      "Installing: libpq;13.20-1.el9_5;x86_64;appstream\n",
      "Updating: openssl;1:3.2.2-6.el9_5.1;x86_64;baseos\n",
      "Installing: wget;1.21.1-8.el9_4;x86_64;appstream\n",
      "Installing: tar;2:1.34-7.el9;x86_64;baseos\n",
      "Cleanup: openssl;1:3.0.7-24.el9;x86_64;installed\n",
      "Cleanup: curl;7.76.1-26.el9_3.2.0.1;x86_64;installed\n",
      "Cleanup: libcurl;7.76.1-26.el9_3.2.0.1;x86_64;installed\n",
      "Cleanup: openssl-libs;1:3.0.7-24.el9;x86_64;installed\n",
      "Complete.\n",
      "Package                                           Repository     Size\n",
      "Installing:                                                          \n",
      " libxcrypt-compat-4.4.18-3.el9.x86_64             appstream   90.2 kB\n",
      " python-unversioned-command-3.9.21-1.el9_5.noarch appstream    9.3 kB\n",
      " python3-3.9.21-1.el9_5.x86_64                    baseos      26.5 kB\n",
      " python3-libs-3.9.21-1.el9_5.x86_64               baseos       7.9 MB\n",
      " python3-pip-wheel-21.3.1-1.el9.noarch            baseos       1.2 MB\n",
      " python3-setuptools-wheel-53.0.0-13.el9.noarch    baseos     478.1 kB\n",
      "Transaction Summary:\n",
      " Installing:        6 packages\n",
      " Reinstalling:      0 packages\n",
      " Upgrading:         0 packages\n",
      " Obsoleting:        0 packages\n",
      " Removing:          0 packages\n",
      " Downgrading:       0 packages\n",
      "Downloading packages...\n",
      "Running transaction test...\n",
      "Installing: libxcrypt-compat;4.4.18-3.el9;x86_64;appstream\n",
      "Installing: python3-pip-wheel;21.3.1-1.el9;noarch;baseos\n",
      "Installing: python3-setuptools-wheel;53.0.0-13.el9;noarch;baseos\n",
      "Installing: python-unversioned-command;3.9.21-1.el9_5;noarch;appstream\n",
      "Installing: python3;3.9.21-1.el9_5;x86_64;baseos\n",
      "Installing: python3-libs;3.9.21-1.el9_5;x86_64;baseos\n",
      "Complete.\n",
      "Complete.\n",
      "--> b12f1190408\n",
      "[2/2] STEP 4/13: RUN useradd -u 1001 -g 100 -m -d ${HOME} -s /sbin/nologin          -c \"Default Neo User\" neo &&     mkdir -p /code /prod ${HOME}/.cache /home/neo/.local/share/hatch &&     chown -R neo:100 /code ${HOME} /home/neo/.local/share/hatch &&     chmod -R 775 /code ${HOME}\n",
      "--> ea5450119b5\n",
      "[2/2] STEP 5/13: COPY --from=build /tmp/hatch /usr/bin/hatch\n",
      "--> 0a0f61696a0\n",
      "[2/2] STEP 6/13: RUN chmod +x /usr/bin/hatch\n",
      "--> 2dd7fbcd699\n",
      "[2/2] STEP 7/13: USER neo\n",
      "--> 8551cb65665\n",
      "[2/2] STEP 8/13: COPY --chown=1001:100 . /code\n",
      "--> 4dd494f5a01\n",
      "[2/2] STEP 9/13: WORKDIR /code\n",
      "--> 8b03369ad5d\n",
      "[2/2] STEP 10/13: ENV VIRTUAL_ENV=/code/envs/make_inference\n",
      "--> 00db89ba74c\n",
      "[2/2] STEP 11/13: ENV PATH=\"$VIRTUAL_ENV/bin:$PATH\"\n",
      "--> da05769e01d\n",
      "[2/2] STEP 12/13: ENV HATCH_PYTHON_VARIANT_LINUX=v2\n",
      "--> d76450fc4e6\n",
      "[2/2] STEP 13/13: RUN hatch env prune &&     hatch env create prod &&     hatch run prod:make-inference --help\n",
      "Removing environment: prod\n",
      "Creating environment: prod\n",
      "Installing Python distribution: 3.12\n",
      "Installing project in development mode\n",
      "Checking dependencies\n",
      "Syncing dependencies\n",
      "Usage: make-inference [OPTIONS]\n",
      "\n",
      "  A selected model with highest evaluation metrics will making an inference on\n",
      "  a sentinel-2  data\n",
      "\n",
      "Options:\n",
      "  -i, --input_reference PATH  Url to sentinel-2 STAC Item to provide inference\n",
      "                              on tif images for 12 common bands(excluding\n",
      "                              cirrus)  [required]\n",
      "  --help                      Show this message and exit.\n",
      "[2/2] COMMIT localhost/inference:latest\n",
      "--> 1ce828628c4\n",
      "Successfully tagged localhost/inference:latest\n",
      "1ce828628c4e536e0135b2b7082deac9d667ba096f921fa29aca588a4fc50898\n"
     ]
    }
   ],
   "source": [
    "docker build --format docker -t localhost/inference:latest ${WORKSPACE}/inference/make-inference\n"
   ]
  },
  {
   "cell_type": "markdown",
   "metadata": {},
   "source": [
    "Show the `make-inference` help:"
   ]
  },
  {
   "cell_type": "code",
   "execution_count": 6,
   "metadata": {
    "vscode": {
     "languageId": "shellscript"
    }
   },
   "outputs": [
    {
     "name": "stdout",
     "output_type": "stream",
     "text": [
      "Usage: make-inference [OPTIONS]\n",
      "\n",
      "  A selected model with highest evaluation metrics will making an inference on\n",
      "  a sentinel-2  data\n",
      "\n",
      "Options:\n",
      "  -i, --input_reference PATH  Url to sentinel-2 STAC Item to provide inference\n",
      "                              on tif images for 12 common bands(excluding\n",
      "                              cirrus)  [required]\n",
      "  --help                      Show this message and exit.\n"
     ]
    }
   ],
   "source": [
    "docker run --rm -it localhost/inference:latest hatch run prod:make-inference --help"
   ]
  },
  {
   "cell_type": "markdown",
   "metadata": {},
   "source": [
    "## Test the normalized difference step in the container\n",
    "\n",
    "Generate the normalized difference between the green and nir bands:"
   ]
  },
  {
   "cell_type": "code",
   "execution_count": 13,
   "metadata": {
    "vscode": {
     "languageId": "shellscript"
    }
   },
   "outputs": [],
   "source": [
    "PRODUCT_ID=\"S2C_MSIL2A_20250420T093051_R136_T35ULS_20250420T125212\""
   ]
  },
  {
   "cell_type": "code",
   "execution_count": 14,
   "metadata": {
    "vscode": {
     "languageId": "shellscript"
    }
   },
   "outputs": [
    {
     "name": "stdout",
     "output_type": "stream",
     "text": [
      "\u001b[2K\u001b[32m.  \u001b[0m \u001b[1;35mCreating environment: default\u001b[0m0m\n",
      "\u001b[1A\u001b[2K\u001b[?25l\u001b[32m.  \u001b[0m \u001b[1;35mChecking dependencies\u001b[0m\n",
      "\u001b[1A\u001b[2KAsset href https://sentinel2l2a01.blob.core.windows.net/sentinel2-l2/35/U/LS/2025/04/20/S2C_MSIL2A_20250420T093051_N0511_R136_T35ULS_20250420T125212.SAFE/GRANULE/L2A_T35ULS_A003252_20250420T093552/IMG_DATA/R60m/T35ULS_20250420T093051_B01_60m.tif?st=2025-05-07T16%3A13%3A51Z&se=2025-05-08T16%3A58%3A51Z&sp=rl&sv=2024-05-04&sr=c&skoid=9c8ff44a-6a2c-4dfb-b298-1c9212f64d9a&sktid=72f988bf-86f1-41af-91ab-2d7cd011db47&skt=2025-05-08T01%3A31%3A47Z&ske=2025-05-15T01%3A31%3A47Z&sks=b&skv=2024-05-04&sig=lKHbkYcF8d1yP8QZDkK3EEFegJP6Q9DH8q/lwfBi6bw%3D with common name B01 found\n",
      "Asset href https://sentinel2l2a01.blob.core.windows.net/sentinel2-l2/35/U/LS/2025/04/20/S2C_MSIL2A_20250420T093051_N0511_R136_T35ULS_20250420T125212.SAFE/GRANULE/L2A_T35ULS_A003252_20250420T093552/IMG_DATA/R10m/T35ULS_20250420T093051_B02_10m.tif?st=2025-05-07T16%3A13%3A51Z&se=2025-05-08T16%3A58%3A51Z&sp=rl&sv=2024-05-04&sr=c&skoid=9c8ff44a-6a2c-4dfb-b298-1c9212f64d9a&sktid=72f988bf-86f1-41af-91ab-2d7cd011db47&skt=2025-05-08T01%3A31%3A47Z&ske=2025-05-15T01%3A31%3A47Z&sks=b&skv=2024-05-04&sig=lKHbkYcF8d1yP8QZDkK3EEFegJP6Q9DH8q/lwfBi6bw%3D with common name B02 found\n",
      "Asset href https://sentinel2l2a01.blob.core.windows.net/sentinel2-l2/35/U/LS/2025/04/20/S2C_MSIL2A_20250420T093051_N0511_R136_T35ULS_20250420T125212.SAFE/GRANULE/L2A_T35ULS_A003252_20250420T093552/IMG_DATA/R10m/T35ULS_20250420T093051_B03_10m.tif?st=2025-05-07T16%3A13%3A51Z&se=2025-05-08T16%3A58%3A51Z&sp=rl&sv=2024-05-04&sr=c&skoid=9c8ff44a-6a2c-4dfb-b298-1c9212f64d9a&sktid=72f988bf-86f1-41af-91ab-2d7cd011db47&skt=2025-05-08T01%3A31%3A47Z&ske=2025-05-15T01%3A31%3A47Z&sks=b&skv=2024-05-04&sig=lKHbkYcF8d1yP8QZDkK3EEFegJP6Q9DH8q/lwfBi6bw%3D with common name B03 found\n",
      "Asset href https://sentinel2l2a01.blob.core.windows.net/sentinel2-l2/35/U/LS/2025/04/20/S2C_MSIL2A_20250420T093051_N0511_R136_T35ULS_20250420T125212.SAFE/GRANULE/L2A_T35ULS_A003252_20250420T093552/IMG_DATA/R10m/T35ULS_20250420T093051_B04_10m.tif?st=2025-05-07T16%3A13%3A51Z&se=2025-05-08T16%3A58%3A51Z&sp=rl&sv=2024-05-04&sr=c&skoid=9c8ff44a-6a2c-4dfb-b298-1c9212f64d9a&sktid=72f988bf-86f1-41af-91ab-2d7cd011db47&skt=2025-05-08T01%3A31%3A47Z&ske=2025-05-15T01%3A31%3A47Z&sks=b&skv=2024-05-04&sig=lKHbkYcF8d1yP8QZDkK3EEFegJP6Q9DH8q/lwfBi6bw%3D with common name B04 found\n",
      "Asset href https://sentinel2l2a01.blob.core.windows.net/sentinel2-l2/35/U/LS/2025/04/20/S2C_MSIL2A_20250420T093051_N0511_R136_T35ULS_20250420T125212.SAFE/GRANULE/L2A_T35ULS_A003252_20250420T093552/IMG_DATA/R20m/T35ULS_20250420T093051_B05_20m.tif?st=2025-05-07T16%3A13%3A51Z&se=2025-05-08T16%3A58%3A51Z&sp=rl&sv=2024-05-04&sr=c&skoid=9c8ff44a-6a2c-4dfb-b298-1c9212f64d9a&sktid=72f988bf-86f1-41af-91ab-2d7cd011db47&skt=2025-05-08T01%3A31%3A47Z&ske=2025-05-15T01%3A31%3A47Z&sks=b&skv=2024-05-04&sig=lKHbkYcF8d1yP8QZDkK3EEFegJP6Q9DH8q/lwfBi6bw%3D with common name B05 found\n",
      "Asset href https://sentinel2l2a01.blob.core.windows.net/sentinel2-l2/35/U/LS/2025/04/20/S2C_MSIL2A_20250420T093051_N0511_R136_T35ULS_20250420T125212.SAFE/GRANULE/L2A_T35ULS_A003252_20250420T093552/IMG_DATA/R20m/T35ULS_20250420T093051_B06_20m.tif?st=2025-05-07T16%3A13%3A51Z&se=2025-05-08T16%3A58%3A51Z&sp=rl&sv=2024-05-04&sr=c&skoid=9c8ff44a-6a2c-4dfb-b298-1c9212f64d9a&sktid=72f988bf-86f1-41af-91ab-2d7cd011db47&skt=2025-05-08T01%3A31%3A47Z&ske=2025-05-15T01%3A31%3A47Z&sks=b&skv=2024-05-04&sig=lKHbkYcF8d1yP8QZDkK3EEFegJP6Q9DH8q/lwfBi6bw%3D with common name B06 found\n",
      "Asset href https://sentinel2l2a01.blob.core.windows.net/sentinel2-l2/35/U/LS/2025/04/20/S2C_MSIL2A_20250420T093051_N0511_R136_T35ULS_20250420T125212.SAFE/GRANULE/L2A_T35ULS_A003252_20250420T093552/IMG_DATA/R20m/T35ULS_20250420T093051_B07_20m.tif?st=2025-05-07T16%3A13%3A51Z&se=2025-05-08T16%3A58%3A51Z&sp=rl&sv=2024-05-04&sr=c&skoid=9c8ff44a-6a2c-4dfb-b298-1c9212f64d9a&sktid=72f988bf-86f1-41af-91ab-2d7cd011db47&skt=2025-05-08T01%3A31%3A47Z&ske=2025-05-15T01%3A31%3A47Z&sks=b&skv=2024-05-04&sig=lKHbkYcF8d1yP8QZDkK3EEFegJP6Q9DH8q/lwfBi6bw%3D with common name B07 found\n",
      "Asset href https://sentinel2l2a01.blob.core.windows.net/sentinel2-l2/35/U/LS/2025/04/20/S2C_MSIL2A_20250420T093051_N0511_R136_T35ULS_20250420T125212.SAFE/GRANULE/L2A_T35ULS_A003252_20250420T093552/IMG_DATA/R10m/T35ULS_20250420T093051_B08_10m.tif?st=2025-05-07T16%3A13%3A51Z&se=2025-05-08T16%3A58%3A51Z&sp=rl&sv=2024-05-04&sr=c&skoid=9c8ff44a-6a2c-4dfb-b298-1c9212f64d9a&sktid=72f988bf-86f1-41af-91ab-2d7cd011db47&skt=2025-05-08T01%3A31%3A47Z&ske=2025-05-15T01%3A31%3A47Z&sks=b&skv=2024-05-04&sig=lKHbkYcF8d1yP8QZDkK3EEFegJP6Q9DH8q/lwfBi6bw%3D with common name B08 found\n",
      "Asset href https://sentinel2l2a01.blob.core.windows.net/sentinel2-l2/35/U/LS/2025/04/20/S2C_MSIL2A_20250420T093051_N0511_R136_T35ULS_20250420T125212.SAFE/GRANULE/L2A_T35ULS_A003252_20250420T093552/IMG_DATA/R20m/T35ULS_20250420T093051_B8A_20m.tif?st=2025-05-07T16%3A13%3A51Z&se=2025-05-08T16%3A58%3A51Z&sp=rl&sv=2024-05-04&sr=c&skoid=9c8ff44a-6a2c-4dfb-b298-1c9212f64d9a&sktid=72f988bf-86f1-41af-91ab-2d7cd011db47&skt=2025-05-08T01%3A31%3A47Z&ske=2025-05-15T01%3A31%3A47Z&sks=b&skv=2024-05-04&sig=lKHbkYcF8d1yP8QZDkK3EEFegJP6Q9DH8q/lwfBi6bw%3D with common name B8A found\n",
      "Asset href https://sentinel2l2a01.blob.core.windows.net/sentinel2-l2/35/U/LS/2025/04/20/S2C_MSIL2A_20250420T093051_N0511_R136_T35ULS_20250420T125212.SAFE/GRANULE/L2A_T35ULS_A003252_20250420T093552/IMG_DATA/R60m/T35ULS_20250420T093051_B09_60m.tif?st=2025-05-07T16%3A13%3A51Z&se=2025-05-08T16%3A58%3A51Z&sp=rl&sv=2024-05-04&sr=c&skoid=9c8ff44a-6a2c-4dfb-b298-1c9212f64d9a&sktid=72f988bf-86f1-41af-91ab-2d7cd011db47&skt=2025-05-08T01%3A31%3A47Z&ske=2025-05-15T01%3A31%3A47Z&sks=b&skv=2024-05-04&sig=lKHbkYcF8d1yP8QZDkK3EEFegJP6Q9DH8q/lwfBi6bw%3D with common name B09 found\n",
      "Asset href https://sentinel2l2a01.blob.core.windows.net/sentinel2-l2/35/U/LS/2025/04/20/S2C_MSIL2A_20250420T093051_N0511_R136_T35ULS_20250420T125212.SAFE/GRANULE/L2A_T35ULS_A003252_20250420T093552/IMG_DATA/R20m/T35ULS_20250420T093051_B11_20m.tif?st=2025-05-07T16%3A13%3A51Z&se=2025-05-08T16%3A58%3A51Z&sp=rl&sv=2024-05-04&sr=c&skoid=9c8ff44a-6a2c-4dfb-b298-1c9212f64d9a&sktid=72f988bf-86f1-41af-91ab-2d7cd011db47&skt=2025-05-08T01%3A31%3A47Z&ske=2025-05-15T01%3A31%3A47Z&sks=b&skv=2024-05-04&sig=lKHbkYcF8d1yP8QZDkK3EEFegJP6Q9DH8q/lwfBi6bw%3D with common name B11 found\n",
      "Asset href https://sentinel2l2a01.blob.core.windows.net/sentinel2-l2/35/U/LS/2025/04/20/S2C_MSIL2A_20250420T093051_N0511_R136_T35ULS_20250420T125212.SAFE/GRANULE/L2A_T35ULS_A003252_20250420T093552/IMG_DATA/R20m/T35ULS_20250420T093051_B12_20m.tif?st=2025-05-07T16%3A13%3A51Z&se=2025-05-08T16%3A58%3A51Z&sp=rl&sv=2024-05-04&sr=c&skoid=9c8ff44a-6a2c-4dfb-b298-1c9212f64d9a&sktid=72f988bf-86f1-41af-91ab-2d7cd011db47&skt=2025-05-08T01%3A31%3A47Z&ske=2025-05-15T01%3A31%3A47Z&sks=b&skv=2024-05-04&sig=lKHbkYcF8d1yP8QZDkK3EEFegJP6Q9DH8q/lwfBi6bw%3D with common name B12 found\n",
      "\u001b[32m2025-05-08 16:13:51.986\u001b[0m | \u001b[1mINFO    \u001b[0m | \u001b[36mmake_inference.main\u001b[0m:\u001b[36mrun_inference\u001b[0m:\u001b[36m40\u001b[0m - \u001b[1mRead https://planetarycomputer.microsoft.com/api/stac/v1/collections/sentinel-2-l2a/items/S2C_MSIL2A_20250420T093051_R136_T35ULS_20250420T125212\u001b[0m\n",
      "\u001b[32m2025-05-08 16:13:52.000\u001b[0m | \u001b[1mINFO    \u001b[0m | \u001b[36mmake_inference.main\u001b[0m:\u001b[36mrun_inference\u001b[0m:\u001b[36m42\u001b[0m - \u001b[1mItem assets keys are: dict_keys(['AOT', 'B01', 'B02', 'B03', 'B04', 'B05', 'B06', 'B07', 'B08', 'B09', 'B11', 'B12', 'B8A', 'SCL', 'WVP', 'visual', 'safe-manifest', 'granule-metadata', 'inspire-metadata', 'product-metadata', 'datastrip-metadata', 'tilejson', 'rendered_preview']) \n",
      "\n",
      "Filtered assets: dict_keys(['B01', 'B02', 'B03', 'B04', 'B05', 'B06', 'B07', 'B08', 'B8A', 'B09', 'B11', 'B12'])\u001b[0m\n",
      "\u001b[32m2025-05-08 16:13:52.247\u001b[0m | \u001b[1mINFO    \u001b[0m | \u001b[36mmake_inference.ml_helper\u001b[0m:\u001b[36mresize_and_convert_to_cog\u001b[0m:\u001b[36m312\u001b[0m - \u001b[1mResizing ./B01.tif to 10980x10980\u001b[0m\n",
      "^C\n",
      "Aborted!\n"
     ]
    }
   ],
   "source": [
    "docker run \\\n",
    "    -it \\\n",
    "    --userns=keep-id \\\n",
    "    --mount=type=bind,source=/workspace/machine-learning-process/runs,target=/runs \\\n",
    "    --workdir=/runs \\\n",
    "    --user=1001:100 \\\n",
    "    --rm \\\n",
    "    localhost/inference:latest \\\n",
    "    hatch run make-inference \\\n",
    "    --input_reference https://planetarycomputer.microsoft.com/api/stac/v1/collections/sentinel-2-l2a/items/${PRODUCT_ID}\n"
   ]
  },
  {
   "cell_type": "markdown",
   "metadata": {},
   "source": [
    "List the outputs:"
   ]
  },
  {
   "cell_type": "code",
   "execution_count": null,
   "metadata": {
    "vscode": {
     "languageId": "shellscript"
    }
   },
   "outputs": [],
   "source": [
    "tree ${RUNTIME}"
   ]
  },
  {
   "cell_type": "markdown",
   "metadata": {},
   "source": [
    "## Clean-up "
   ]
  },
  {
   "cell_type": "code",
   "execution_count": null,
   "metadata": {
    "vscode": {
     "languageId": "shellscript"
    }
   },
   "outputs": [],
   "source": [
    "rm -fr ${RUNTIME}\n",
    "docker rmi -f $(docker images -aq)"
   ]
  }
 ],
 "metadata": {
  "kernelspec": {
   "display_name": "Bash",
   "language": "bash",
   "name": "bash"
  },
  "language_info": {
   "codemirror_mode": "shell",
   "file_extension": ".sh",
   "mimetype": "text/x-sh",
   "name": "bash"
  }
 },
 "nbformat": 4,
 "nbformat_minor": 2
}
