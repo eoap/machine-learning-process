{
 "cells": [
  {
   "cell_type": "markdown",
   "metadata": {},
   "source": [
    "# Training CommonandLineTool\n",
    "\n",
    "This notebook provide an step-by-step instruction to explain how to wrap the `training` step as a Common Workflow Language CommandLineTool and execute it with a CWL runner.\n",
    "\n",
    "> Note: Before proceeding, make sure to select the correct kernel. In the top-right corner of the notebook, choose the Jupyter kernel named `Bash`.\n",
    "\n"
   ]
  },
  {
   "cell_type": "markdown",
   "metadata": {},
   "source": [
    "## Setup"
   ]
  },
  {
   "cell_type": "code",
   "execution_count": 1,
   "metadata": {
    "vscode": {
     "languageId": "shellscript"
    }
   },
   "outputs": [
    {
     "name": "stdout",
     "output_type": "stream",
     "text": [
      "XDG_RUNTIME_DIR=/workspace/.local\n",
      "RUNTIME=/workspace/machine-learning-process/runs\n",
      "/workspace/machine-learning-process/runs\n"
     ]
    }
   ],
   "source": [
    "export WORKSPACE=/workspace/machine-learning-process\n",
    "export RUNTIME=${WORKSPACE}/runs\n",
    "mkdir -p ${RUNTIME}\n",
    "cd ${RUNTIME}\n",
    "printenv | grep RUNTIME\n",
    "pwd"
   ]
  },
  {
   "cell_type": "markdown",
   "metadata": {},
   "source": [
    "## Run the training\n",
    "\n",
    "Inspect and use `cwltool` to run the CommandLineTool definition:\n",
    "\n",
    "The CWL document below shows the `crop` step wrapped as a CWL CommandLineTool:"
   ]
  },
  {
   "cell_type": "code",
   "execution_count": 17,
   "metadata": {
    "vscode": {
     "languageId": "shellscript"
    }
   },
   "outputs": [
    {
     "name": "stdout",
     "output_type": "stream",
     "text": [
      "\u001b[1;39m{\n",
      "  \u001b[0m\u001b[34;1m\"cwlVersion\"\u001b[0m\u001b[1;39m: \u001b[0m\u001b[0;32m\"v1.2\"\u001b[0m\u001b[1;39m,\n",
      "  \u001b[0m\u001b[34;1m\"$namespaces\"\u001b[0m\u001b[1;39m: \u001b[0m\u001b[1;39m{\n",
      "    \u001b[0m\u001b[34;1m\"s\"\u001b[0m\u001b[1;39m: \u001b[0m\u001b[0;32m\"https://schema.org/\"\u001b[0m\u001b[1;39m\n",
      "  \u001b[1;39m}\u001b[0m\u001b[1;39m,\n",
      "  \u001b[0m\u001b[34;1m\"s:softwareVersion\"\u001b[0m\u001b[1;39m: \u001b[0m\u001b[0;32m\"1.0.8\"\u001b[0m\u001b[1;39m,\n",
      "  \u001b[0m\u001b[34;1m\"schemas\"\u001b[0m\u001b[1;39m: \u001b[0m\u001b[1;39m[\n",
      "    \u001b[0;32m\"http://schema.org/version/9.0/schemaorg-current-http.rdf\"\u001b[0m\u001b[1;39m\n",
      "  \u001b[1;39m]\u001b[0m\u001b[1;39m,\n",
      "  \u001b[0m\u001b[34;1m\"$graph\"\u001b[0m\u001b[1;39m: \u001b[0m\u001b[1;39m[\n",
      "    \u001b[1;39m{\n",
      "      \u001b[0m\u001b[34;1m\"class\"\u001b[0m\u001b[1;39m: \u001b[0m\u001b[0;32m\"Workflow\"\u001b[0m\u001b[1;39m,\n",
      "      \u001b[0m\u001b[34;1m\"id\"\u001b[0m\u001b[1;39m: \u001b[0m\u001b[0;32m\"tile-sat-training\"\u001b[0m\u001b[1;39m,\n",
      "      \u001b[0m\u001b[34;1m\"label\"\u001b[0m\u001b[1;39m: \u001b[0m\u001b[0;32m\"Tile-based calssifier on EuroSAT data\"\u001b[0m\u001b[1;39m,\n",
      "      \u001b[0m\u001b[34;1m\"doc\"\u001b[0m\u001b[1;39m: \u001b[0m\u001b[0;32m\"Training a CNN on Sentinel-2 data(EuroSAT) to classify small patch of image into different landcover classes.\"\u001b[0m\u001b[1;39m,\n",
      "      \u001b[0m\u001b[34;1m\"requirements\"\u001b[0m\u001b[1;39m: \u001b[0m\u001b[1;39m[\n",
      "        \u001b[1;39m{\n",
      "          \u001b[0m\u001b[34;1m\"class\"\u001b[0m\u001b[1;39m: \u001b[0m\u001b[0;32m\"InlineJavascriptRequirement\"\u001b[0m\u001b[1;39m\n",
      "        \u001b[1;39m}\u001b[0m\u001b[1;39m,\n",
      "        \u001b[1;39m{\n",
      "          \u001b[0m\u001b[34;1m\"class\"\u001b[0m\u001b[1;39m: \u001b[0m\u001b[0;32m\"ScatterFeatureRequirement\"\u001b[0m\u001b[1;39m\n",
      "        \u001b[1;39m}\u001b[0m\u001b[1;39m\n",
      "      \u001b[1;39m]\u001b[0m\u001b[1;39m,\n",
      "      \u001b[0m\u001b[34;1m\"inputs\"\u001b[0m\u001b[1;39m: \u001b[0m\u001b[1;39m{\n",
      "        \u001b[0m\u001b[34;1m\"MLFLOW_TRACKING_URI\"\u001b[0m\u001b[1;39m: \u001b[0m\u001b[1;39m{\n",
      "          \u001b[0m\u001b[34;1m\"label\"\u001b[0m\u001b[1;39m: \u001b[0m\u001b[0;32m\"MLFLOW_TRACKING_URI\"\u001b[0m\u001b[1;39m,\n",
      "          \u001b[0m\u001b[34;1m\"type\"\u001b[0m\u001b[1;39m: \u001b[0m\u001b[0;32m\"string\"\u001b[0m\u001b[1;39m\n",
      "        \u001b[1;39m}\u001b[0m\u001b[1;39m,\n",
      "        \u001b[0m\u001b[34;1m\"stac_reference\"\u001b[0m\u001b[1;39m: \u001b[0m\u001b[1;39m{\n",
      "          \u001b[0m\u001b[34;1m\"label\"\u001b[0m\u001b[1;39m: \u001b[0m\u001b[0;32m\"stac_reference\"\u001b[0m\u001b[1;39m,\n",
      "          \u001b[0m\u001b[34;1m\"doc\"\u001b[0m\u001b[1;39m: \u001b[0m\u001b[0;32m\"STAC Item label url\"\u001b[0m\u001b[1;39m,\n",
      "          \u001b[0m\u001b[34;1m\"type\"\u001b[0m\u001b[1;39m: \u001b[0m\u001b[0;32m\"string\"\u001b[0m\u001b[1;39m\n",
      "        \u001b[1;39m}\u001b[0m\u001b[1;39m,\n",
      "        \u001b[0m\u001b[34;1m\"BATCH_SIZE\"\u001b[0m\u001b[1;39m: \u001b[0m\u001b[1;39m{\n",
      "          \u001b[0m\u001b[34;1m\"label\"\u001b[0m\u001b[1;39m: \u001b[0m\u001b[0;32m\"BATCH_SIZE\"\u001b[0m\u001b[1;39m,\n",
      "          \u001b[0m\u001b[34;1m\"default\"\u001b[0m\u001b[1;39m: \u001b[0m\u001b[0;39m4\u001b[0m\u001b[1;39m,\n",
      "          \u001b[0m\u001b[34;1m\"doc\"\u001b[0m\u001b[1;39m: \u001b[0m\u001b[0;32m\"BATCH_SIZE- model metadata\"\u001b[0m\u001b[1;39m,\n",
      "          \u001b[0m\u001b[34;1m\"type\"\u001b[0m\u001b[1;39m: \u001b[0m\u001b[0;32m\"int[]\"\u001b[0m\u001b[1;39m\n",
      "        \u001b[1;39m}\u001b[0m\u001b[1;39m,\n",
      "        \u001b[0m\u001b[34;1m\"CLASSES\"\u001b[0m\u001b[1;39m: \u001b[0m\u001b[1;39m{\n",
      "          \u001b[0m\u001b[34;1m\"label\"\u001b[0m\u001b[1;39m: \u001b[0m\u001b[0;32m\"CLASSES\"\u001b[0m\u001b[1;39m,\n",
      "          \u001b[0m\u001b[34;1m\"default\"\u001b[0m\u001b[1;39m: \u001b[0m\u001b[0;39m10\u001b[0m\u001b[1;39m,\n",
      "          \u001b[0m\u001b[34;1m\"doc\"\u001b[0m\u001b[1;39m: \u001b[0m\u001b[0;32m\"CLASSES- model metadata\"\u001b[0m\u001b[1;39m,\n",
      "          \u001b[0m\u001b[34;1m\"type\"\u001b[0m\u001b[1;39m: \u001b[0m\u001b[0;32m\"int\"\u001b[0m\u001b[1;39m\n",
      "        \u001b[1;39m}\u001b[0m\u001b[1;39m,\n",
      "        \u001b[0m\u001b[34;1m\"DECAY\"\u001b[0m\u001b[1;39m: \u001b[0m\u001b[1;39m{\n",
      "          \u001b[0m\u001b[34;1m\"label\"\u001b[0m\u001b[1;39m: \u001b[0m\u001b[0;32m\"DECAY\"\u001b[0m\u001b[1;39m,\n",
      "          \u001b[0m\u001b[34;1m\"default\"\u001b[0m\u001b[1;39m: \u001b[0m\u001b[0;39m0.1\u001b[0m\u001b[1;39m,\n",
      "          \u001b[0m\u001b[34;1m\"doc\"\u001b[0m\u001b[1;39m: \u001b[0m\u001b[0;32m\"DECAY- model metadata\"\u001b[0m\u001b[1;39m,\n",
      "          \u001b[0m\u001b[34;1m\"type\"\u001b[0m\u001b[1;39m: \u001b[0m\u001b[0;32m\"float[]\"\u001b[0m\u001b[1;39m\n",
      "        \u001b[1;39m}\u001b[0m\u001b[1;39m,\n",
      "        \u001b[0m\u001b[34;1m\"EPOCHS\"\u001b[0m\u001b[1;39m: \u001b[0m\u001b[1;39m{\n",
      "          \u001b[0m\u001b[34;1m\"label\"\u001b[0m\u001b[1;39m: \u001b[0m\u001b[0;32m\"EPOCHS\"\u001b[0m\u001b[1;39m,\n",
      "          \u001b[0m\u001b[34;1m\"default\"\u001b[0m\u001b[1;39m: \u001b[0m\u001b[0;39m5\u001b[0m\u001b[1;39m,\n",
      "          \u001b[0m\u001b[34;1m\"doc\"\u001b[0m\u001b[1;39m: \u001b[0m\u001b[0;32m\"EPOCHS- model metadata\"\u001b[0m\u001b[1;39m,\n",
      "          \u001b[0m\u001b[34;1m\"type\"\u001b[0m\u001b[1;39m: \u001b[0m\u001b[0;32m\"int[]\"\u001b[0m\u001b[1;39m\n",
      "        \u001b[1;39m}\u001b[0m\u001b[1;39m,\n",
      "        \u001b[0m\u001b[34;1m\"EPSILON\"\u001b[0m\u001b[1;39m: \u001b[0m\u001b[1;39m{\n",
      "          \u001b[0m\u001b[34;1m\"label\"\u001b[0m\u001b[1;39m: \u001b[0m\u001b[0;32m\"EPSILON\"\u001b[0m\u001b[1;39m,\n",
      "          \u001b[0m\u001b[34;1m\"default\"\u001b[0m\u001b[1;39m: \u001b[0m\u001b[0;39m2e-06\u001b[0m\u001b[1;39m,\n",
      "          \u001b[0m\u001b[34;1m\"doc\"\u001b[0m\u001b[1;39m: \u001b[0m\u001b[0;32m\"EPSILON- model metadata\"\u001b[0m\u001b[1;39m,\n",
      "          \u001b[0m\u001b[34;1m\"type\"\u001b[0m\u001b[1;39m: \u001b[0m\u001b[0;32m\"float[]\"\u001b[0m\u001b[1;39m\n",
      "        \u001b[1;39m}\u001b[0m\u001b[1;39m,\n",
      "        \u001b[0m\u001b[34;1m\"LEARNING_RATE\"\u001b[0m\u001b[1;39m: \u001b[0m\u001b[1;39m{\n",
      "          \u001b[0m\u001b[34;1m\"label\"\u001b[0m\u001b[1;39m: \u001b[0m\u001b[0;32m\"LEARNING_RATE\"\u001b[0m\u001b[1;39m,\n",
      "          \u001b[0m\u001b[34;1m\"default\"\u001b[0m\u001b[1;39m: \u001b[0m\u001b[0;39m0.0001\u001b[0m\u001b[1;39m,\n",
      "          \u001b[0m\u001b[34;1m\"doc\"\u001b[0m\u001b[1;39m: \u001b[0m\u001b[0;32m\"LEARNING_RATE- model metadata\"\u001b[0m\u001b[1;39m,\n",
      "          \u001b[0m\u001b[34;1m\"type\"\u001b[0m\u001b[1;39m: \u001b[0m\u001b[0;32m\"float[]\"\u001b[0m\u001b[1;39m\n",
      "        \u001b[1;39m}\u001b[0m\u001b[1;39m,\n",
      "        \u001b[0m\u001b[34;1m\"LOSS\"\u001b[0m\u001b[1;39m: \u001b[0m\u001b[1;39m{\n",
      "          \u001b[0m\u001b[34;1m\"label\"\u001b[0m\u001b[1;39m: \u001b[0m\u001b[0;32m\"LOSS\"\u001b[0m\u001b[1;39m,\n",
      "          \u001b[0m\u001b[34;1m\"default\"\u001b[0m\u001b[1;39m: \u001b[0m\u001b[0;32m\"categorical_crossentropy\"\u001b[0m\u001b[1;39m,\n",
      "          \u001b[0m\u001b[34;1m\"doc\"\u001b[0m\u001b[1;39m: \u001b[0m\u001b[0;32m\"LOSS- model metadata\"\u001b[0m\u001b[1;39m,\n",
      "          \u001b[0m\u001b[34;1m\"type\"\u001b[0m\u001b[1;39m: \u001b[0m\u001b[0;32m\"string[]\"\u001b[0m\u001b[1;39m\n",
      "        \u001b[1;39m}\u001b[0m\u001b[1;39m,\n",
      "        \u001b[0m\u001b[34;1m\"MEMENTUM\"\u001b[0m\u001b[1;39m: \u001b[0m\u001b[1;39m{\n",
      "          \u001b[0m\u001b[34;1m\"label\"\u001b[0m\u001b[1;39m: \u001b[0m\u001b[0;32m\"MEMENTUM\"\u001b[0m\u001b[1;39m,\n",
      "          \u001b[0m\u001b[34;1m\"default\"\u001b[0m\u001b[1;39m: \u001b[0m\u001b[0;39m0.95\u001b[0m\u001b[1;39m,\n",
      "          \u001b[0m\u001b[34;1m\"doc\"\u001b[0m\u001b[1;39m: \u001b[0m\u001b[0;32m\"MEMENTUM- model metadata\"\u001b[0m\u001b[1;39m,\n",
      "          \u001b[0m\u001b[34;1m\"type\"\u001b[0m\u001b[1;39m: \u001b[0m\u001b[0;32m\"float[]\"\u001b[0m\u001b[1;39m\n",
      "        \u001b[1;39m}\u001b[0m\u001b[1;39m,\n",
      "        \u001b[0m\u001b[34;1m\"OPTIMIZER\"\u001b[0m\u001b[1;39m: \u001b[0m\u001b[1;39m{\n",
      "          \u001b[0m\u001b[34;1m\"label\"\u001b[0m\u001b[1;39m: \u001b[0m\u001b[0;32m\"OPTIMIZER\"\u001b[0m\u001b[1;39m,\n",
      "          \u001b[0m\u001b[34;1m\"default\"\u001b[0m\u001b[1;39m: \u001b[0m\u001b[0;32m\"Adam\"\u001b[0m\u001b[1;39m,\n",
      "          \u001b[0m\u001b[34;1m\"doc\"\u001b[0m\u001b[1;39m: \u001b[0m\u001b[0;32m\"OPTIMIZER- model metadata\"\u001b[0m\u001b[1;39m,\n",
      "          \u001b[0m\u001b[34;1m\"type\"\u001b[0m\u001b[1;39m: \u001b[0m\u001b[0;32m\"string[]\"\u001b[0m\u001b[1;39m\n",
      "        \u001b[1;39m}\u001b[0m\u001b[1;39m,\n",
      "        \u001b[0m\u001b[34;1m\"REGULARIZER\"\u001b[0m\u001b[1;39m: \u001b[0m\u001b[1;39m{\n",
      "          \u001b[0m\u001b[34;1m\"label\"\u001b[0m\u001b[1;39m: \u001b[0m\u001b[0;32m\"REGULARIZER\"\u001b[0m\u001b[1;39m,\n",
      "          \u001b[0m\u001b[34;1m\"default\"\u001b[0m\u001b[1;39m: \u001b[0m\u001b[0;32m\"None\"\u001b[0m\u001b[1;39m,\n",
      "          \u001b[0m\u001b[34;1m\"doc\"\u001b[0m\u001b[1;39m: \u001b[0m\u001b[0;32m\"REGULARIZER- model metadata\"\u001b[0m\u001b[1;39m,\n",
      "          \u001b[0m\u001b[34;1m\"type\"\u001b[0m\u001b[1;39m: \u001b[0m\u001b[0;32m\"string[]\"\u001b[0m\u001b[1;39m\n",
      "        \u001b[1;39m}\u001b[0m\u001b[1;39m,\n",
      "        \u001b[0m\u001b[34;1m\"SAMPLES_PER_CLASS\"\u001b[0m\u001b[1;39m: \u001b[0m\u001b[1;39m{\n",
      "          \u001b[0m\u001b[34;1m\"label\"\u001b[0m\u001b[1;39m: \u001b[0m\u001b[0;32m\"SAMPLES_PER_CLASS\"\u001b[0m\u001b[1;39m,\n",
      "          \u001b[0m\u001b[34;1m\"default\"\u001b[0m\u001b[1;39m: \u001b[0m\u001b[0;39m500\u001b[0m\u001b[1;39m,\n",
      "          \u001b[0m\u001b[34;1m\"doc\"\u001b[0m\u001b[1;39m: \u001b[0m\u001b[0;32m\"SAMPLES_PER_CLASS- model metadata\"\u001b[0m\u001b[1;39m,\n",
      "          \u001b[0m\u001b[34;1m\"type\"\u001b[0m\u001b[1;39m: \u001b[0m\u001b[0;32m\"int\"\u001b[0m\u001b[1;39m\n",
      "        \u001b[1;39m}\u001b[0m\u001b[1;39m\n",
      "      \u001b[1;39m}\u001b[0m\u001b[1;39m,\n",
      "      \u001b[0m\u001b[34;1m\"outputs\"\u001b[0m\u001b[1;39m: \u001b[0m\u001b[1;39m[\n",
      "        \u001b[1;39m{\n",
      "          \u001b[0m\u001b[34;1m\"id\"\u001b[0m\u001b[1;39m: \u001b[0m\u001b[0;32m\"artifacts\"\u001b[0m\u001b[1;39m,\n",
      "          \u001b[0m\u001b[34;1m\"outputSource\"\u001b[0m\u001b[1;39m: \u001b[0m\u001b[1;39m[\n",
      "            \u001b[0;32m\"training/artifacts\"\u001b[0m\u001b[1;39m\n",
      "          \u001b[1;39m]\u001b[0m\u001b[1;39m,\n",
      "          \u001b[0m\u001b[34;1m\"type\"\u001b[0m\u001b[1;39m: \u001b[0m\u001b[0;32m\"Directory[]\"\u001b[0m\u001b[1;39m\n",
      "        \u001b[1;39m}\u001b[0m\u001b[1;39m\n",
      "      \u001b[1;39m]\u001b[0m\u001b[1;39m,\n",
      "      \u001b[0m\u001b[34;1m\"steps\"\u001b[0m\u001b[1;39m: \u001b[0m\u001b[1;39m{\n",
      "        \u001b[0m\u001b[34;1m\"training\"\u001b[0m\u001b[1;39m: \u001b[0m\u001b[1;39m{\n",
      "          \u001b[0m\u001b[34;1m\"run\"\u001b[0m\u001b[1;39m: \u001b[0m\u001b[0;32m\"#training\"\u001b[0m\u001b[1;39m,\n",
      "          \u001b[0m\u001b[34;1m\"in\"\u001b[0m\u001b[1;39m: \u001b[0m\u001b[1;39m{\n",
      "            \u001b[0m\u001b[34;1m\"MLFLOW_TRACKING_URI\"\u001b[0m\u001b[1;39m: \u001b[0m\u001b[0;32m\"MLFLOW_TRACKING_URI\"\u001b[0m\u001b[1;39m,\n",
      "            \u001b[0m\u001b[34;1m\"stac_reference\"\u001b[0m\u001b[1;39m: \u001b[0m\u001b[0;32m\"stac_reference\"\u001b[0m\u001b[1;39m,\n",
      "            \u001b[0m\u001b[34;1m\"BATCH_SIZE\"\u001b[0m\u001b[1;39m: \u001b[0m\u001b[0;32m\"BATCH_SIZE\"\u001b[0m\u001b[1;39m,\n",
      "            \u001b[0m\u001b[34;1m\"CLASSES\"\u001b[0m\u001b[1;39m: \u001b[0m\u001b[0;32m\"CLASSES\"\u001b[0m\u001b[1;39m,\n",
      "            \u001b[0m\u001b[34;1m\"DECAY\"\u001b[0m\u001b[1;39m: \u001b[0m\u001b[0;32m\"DECAY\"\u001b[0m\u001b[1;39m,\n",
      "            \u001b[0m\u001b[34;1m\"EPOCHS\"\u001b[0m\u001b[1;39m: \u001b[0m\u001b[0;32m\"EPOCHS\"\u001b[0m\u001b[1;39m,\n",
      "            \u001b[0m\u001b[34;1m\"EPSILON\"\u001b[0m\u001b[1;39m: \u001b[0m\u001b[0;32m\"EPSILON\"\u001b[0m\u001b[1;39m,\n",
      "            \u001b[0m\u001b[34;1m\"LEARNING_RATE\"\u001b[0m\u001b[1;39m: \u001b[0m\u001b[0;32m\"LEARNING_RATE\"\u001b[0m\u001b[1;39m,\n",
      "            \u001b[0m\u001b[34;1m\"LOSS\"\u001b[0m\u001b[1;39m: \u001b[0m\u001b[0;32m\"LOSS\"\u001b[0m\u001b[1;39m,\n",
      "            \u001b[0m\u001b[34;1m\"MEMENTUM\"\u001b[0m\u001b[1;39m: \u001b[0m\u001b[0;32m\"MEMENTUM\"\u001b[0m\u001b[1;39m,\n",
      "            \u001b[0m\u001b[34;1m\"OPTIMIZER\"\u001b[0m\u001b[1;39m: \u001b[0m\u001b[0;32m\"OPTIMIZER\"\u001b[0m\u001b[1;39m,\n",
      "            \u001b[0m\u001b[34;1m\"REGULARIZER\"\u001b[0m\u001b[1;39m: \u001b[0m\u001b[0;32m\"REGULARIZER\"\u001b[0m\u001b[1;39m,\n",
      "            \u001b[0m\u001b[34;1m\"SAMPLES_PER_CLASS\"\u001b[0m\u001b[1;39m: \u001b[0m\u001b[0;32m\"SAMPLES_PER_CLASS\"\u001b[0m\u001b[1;39m\n",
      "          \u001b[1;39m}\u001b[0m\u001b[1;39m,\n",
      "          \u001b[0m\u001b[34;1m\"scatter\"\u001b[0m\u001b[1;39m: \u001b[0m\u001b[1;39m[\n",
      "            \u001b[0;32m\"BATCH_SIZE\"\u001b[0m\u001b[1;39m,\n",
      "            \u001b[0;32m\"DECAY\"\u001b[0m\u001b[1;39m,\n",
      "            \u001b[0;32m\"EPOCHS\"\u001b[0m\u001b[1;39m,\n",
      "            \u001b[0;32m\"EPSILON\"\u001b[0m\u001b[1;39m,\n",
      "            \u001b[0;32m\"LEARNING_RATE\"\u001b[0m\u001b[1;39m,\n",
      "            \u001b[0;32m\"LOSS\"\u001b[0m\u001b[1;39m,\n",
      "            \u001b[0;32m\"MEMENTUM\"\u001b[0m\u001b[1;39m,\n",
      "            \u001b[0;32m\"OPTIMIZER\"\u001b[0m\u001b[1;39m,\n",
      "            \u001b[0;32m\"REGULARIZER\"\u001b[0m\u001b[1;39m\n",
      "          \u001b[1;39m]\u001b[0m\u001b[1;39m,\n",
      "          \u001b[0m\u001b[34;1m\"scatterMethod\"\u001b[0m\u001b[1;39m: \u001b[0m\u001b[0;32m\"dotproduct\"\u001b[0m\u001b[1;39m,\n",
      "          \u001b[0m\u001b[34;1m\"out\"\u001b[0m\u001b[1;39m: \u001b[0m\u001b[1;39m[\n",
      "            \u001b[0;32m\"artifacts\"\u001b[0m\u001b[1;39m\n",
      "          \u001b[1;39m]\u001b[0m\u001b[1;39m\n",
      "        \u001b[1;39m}\u001b[0m\u001b[1;39m\n",
      "      \u001b[1;39m}\u001b[0m\u001b[1;39m\n",
      "    \u001b[1;39m}\u001b[0m\u001b[1;39m,\n",
      "    \u001b[1;39m{\n",
      "      \u001b[0m\u001b[34;1m\"class\"\u001b[0m\u001b[1;39m: \u001b[0m\u001b[0;32m\"CommandLineTool\"\u001b[0m\u001b[1;39m,\n",
      "      \u001b[0m\u001b[34;1m\"id\"\u001b[0m\u001b[1;39m: \u001b[0m\u001b[0;32m\"training\"\u001b[0m\u001b[1;39m,\n",
      "      \u001b[0m\u001b[34;1m\"requirements\"\u001b[0m\u001b[1;39m: \u001b[0m\u001b[1;39m{\n",
      "        \u001b[0m\u001b[34;1m\"InlineJavascriptRequirement\"\u001b[0m\u001b[1;39m: \u001b[0m\u001b[1;39m{}\u001b[0m\u001b[1;39m,\n",
      "        \u001b[0m\u001b[34;1m\"NetworkAccess\"\u001b[0m\u001b[1;39m: \u001b[0m\u001b[1;39m{\n",
      "          \u001b[0m\u001b[34;1m\"networkAccess\"\u001b[0m\u001b[1;39m: \u001b[0m\u001b[0;39mtrue\u001b[0m\u001b[1;39m\n",
      "        \u001b[1;39m}\u001b[0m\u001b[1;39m,\n",
      "        \u001b[0m\u001b[34;1m\"EnvVarRequirement\"\u001b[0m\u001b[1;39m: \u001b[0m\u001b[1;39m{\n",
      "          \u001b[0m\u001b[34;1m\"envDef\"\u001b[0m\u001b[1;39m: \u001b[0m\u001b[1;39m{\n",
      "            \u001b[0m\u001b[34;1m\"MLFLOW_TRACKING_URI\"\u001b[0m\u001b[1;39m: \u001b[0m\u001b[0;32m\"$(inputs.MLFLOW_TRACKING_URI)\"\u001b[0m\u001b[1;39m\n",
      "          \u001b[1;39m}\u001b[0m\u001b[1;39m\n",
      "        \u001b[1;39m}\u001b[0m\u001b[1;39m,\n",
      "        \u001b[0m\u001b[34;1m\"ResourceRequirement\"\u001b[0m\u001b[1;39m: \u001b[0m\u001b[1;39m{\n",
      "          \u001b[0m\u001b[34;1m\"coresMax\"\u001b[0m\u001b[1;39m: \u001b[0m\u001b[0;39m1\u001b[0m\u001b[1;39m,\n",
      "          \u001b[0m\u001b[34;1m\"ramMax\"\u001b[0m\u001b[1;39m: \u001b[0m\u001b[0;39m4096\u001b[0m\u001b[1;39m\n",
      "        \u001b[1;39m}\u001b[0m\u001b[1;39m\n",
      "      \u001b[1;39m}\u001b[0m\u001b[1;39m,\n",
      "      \u001b[0m\u001b[34;1m\"hints\"\u001b[0m\u001b[1;39m: \u001b[0m\u001b[1;39m{\n",
      "        \u001b[0m\u001b[34;1m\"DockerRequirement\"\u001b[0m\u001b[1;39m: \u001b[0m\u001b[1;39m{\n",
      "          \u001b[0m\u001b[34;1m\"dockerPull\"\u001b[0m\u001b[1;39m: \u001b[0m\u001b[0;32m\"train:latest\"\u001b[0m\u001b[1;39m\n",
      "        \u001b[1;39m}\u001b[0m\u001b[1;39m\n",
      "      \u001b[1;39m}\u001b[0m\u001b[1;39m,\n",
      "      \u001b[0m\u001b[34;1m\"baseCommand\"\u001b[0m\u001b[1;39m: \u001b[0m\u001b[1;39m[\n",
      "        \u001b[0;32m\"tile-based-training\"\u001b[0m\u001b[1;39m\n",
      "      \u001b[1;39m]\u001b[0m\u001b[1;39m,\n",
      "      \u001b[0m\u001b[34;1m\"arguments\"\u001b[0m\u001b[1;39m: \u001b[0m\u001b[1;39m[]\u001b[0m\u001b[1;39m,\n",
      "      \u001b[0m\u001b[34;1m\"inputs\"\u001b[0m\u001b[1;39m: \u001b[0m\u001b[1;39m{\n",
      "        \u001b[0m\u001b[34;1m\"MLFLOW_TRACKING_URI\"\u001b[0m\u001b[1;39m: \u001b[0m\u001b[1;39m{\n",
      "          \u001b[0m\u001b[34;1m\"type\"\u001b[0m\u001b[1;39m: \u001b[0m\u001b[0;32m\"string\"\u001b[0m\u001b[1;39m\n",
      "        \u001b[1;39m}\u001b[0m\u001b[1;39m,\n",
      "        \u001b[0m\u001b[34;1m\"stac_reference\"\u001b[0m\u001b[1;39m: \u001b[0m\u001b[1;39m{\n",
      "          \u001b[0m\u001b[34;1m\"type\"\u001b[0m\u001b[1;39m: \u001b[0m\u001b[0;32m\"string\"\u001b[0m\u001b[1;39m,\n",
      "          \u001b[0m\u001b[34;1m\"inputBinding\"\u001b[0m\u001b[1;39m: \u001b[0m\u001b[1;39m{\n",
      "            \u001b[0m\u001b[34;1m\"prefix\"\u001b[0m\u001b[1;39m: \u001b[0m\u001b[0;32m\"--stac_reference\"\u001b[0m\u001b[1;39m\n",
      "          \u001b[1;39m}\u001b[0m\u001b[1;39m\n",
      "        \u001b[1;39m}\u001b[0m\u001b[1;39m,\n",
      "        \u001b[0m\u001b[34;1m\"BATCH_SIZE\"\u001b[0m\u001b[1;39m: \u001b[0m\u001b[1;39m{\n",
      "          \u001b[0m\u001b[34;1m\"type\"\u001b[0m\u001b[1;39m: \u001b[0m\u001b[0;32m\"int\"\u001b[0m\u001b[1;39m,\n",
      "          \u001b[0m\u001b[34;1m\"inputBinding\"\u001b[0m\u001b[1;39m: \u001b[0m\u001b[1;39m{\n",
      "            \u001b[0m\u001b[34;1m\"prefix\"\u001b[0m\u001b[1;39m: \u001b[0m\u001b[0;32m\"--BATCH_SIZE\"\u001b[0m\u001b[1;39m\n",
      "          \u001b[1;39m}\u001b[0m\u001b[1;39m\n",
      "        \u001b[1;39m}\u001b[0m\u001b[1;39m,\n",
      "        \u001b[0m\u001b[34;1m\"CLASSES\"\u001b[0m\u001b[1;39m: \u001b[0m\u001b[1;39m{\n",
      "          \u001b[0m\u001b[34;1m\"type\"\u001b[0m\u001b[1;39m: \u001b[0m\u001b[0;32m\"int\"\u001b[0m\u001b[1;39m,\n",
      "          \u001b[0m\u001b[34;1m\"inputBinding\"\u001b[0m\u001b[1;39m: \u001b[0m\u001b[1;39m{\n",
      "            \u001b[0m\u001b[34;1m\"prefix\"\u001b[0m\u001b[1;39m: \u001b[0m\u001b[0;32m\"--CLASSES\"\u001b[0m\u001b[1;39m\n",
      "          \u001b[1;39m}\u001b[0m\u001b[1;39m\n",
      "        \u001b[1;39m}\u001b[0m\u001b[1;39m,\n",
      "        \u001b[0m\u001b[34;1m\"DECAY\"\u001b[0m\u001b[1;39m: \u001b[0m\u001b[1;39m{\n",
      "          \u001b[0m\u001b[34;1m\"type\"\u001b[0m\u001b[1;39m: \u001b[0m\u001b[0;32m\"float\"\u001b[0m\u001b[1;39m,\n",
      "          \u001b[0m\u001b[34;1m\"inputBinding\"\u001b[0m\u001b[1;39m: \u001b[0m\u001b[1;39m{\n",
      "            \u001b[0m\u001b[34;1m\"prefix\"\u001b[0m\u001b[1;39m: \u001b[0m\u001b[0;32m\"--DECAY\"\u001b[0m\u001b[1;39m\n",
      "          \u001b[1;39m}\u001b[0m\u001b[1;39m\n",
      "        \u001b[1;39m}\u001b[0m\u001b[1;39m,\n",
      "        \u001b[0m\u001b[34;1m\"EPOCHS\"\u001b[0m\u001b[1;39m: \u001b[0m\u001b[1;39m{\n",
      "          \u001b[0m\u001b[34;1m\"type\"\u001b[0m\u001b[1;39m: \u001b[0m\u001b[0;32m\"int\"\u001b[0m\u001b[1;39m,\n",
      "          \u001b[0m\u001b[34;1m\"inputBinding\"\u001b[0m\u001b[1;39m: \u001b[0m\u001b[1;39m{\n",
      "            \u001b[0m\u001b[34;1m\"prefix\"\u001b[0m\u001b[1;39m: \u001b[0m\u001b[0;32m\"--EPOCHS\"\u001b[0m\u001b[1;39m\n",
      "          \u001b[1;39m}\u001b[0m\u001b[1;39m\n",
      "        \u001b[1;39m}\u001b[0m\u001b[1;39m,\n",
      "        \u001b[0m\u001b[34;1m\"EPSILON\"\u001b[0m\u001b[1;39m: \u001b[0m\u001b[1;39m{\n",
      "          \u001b[0m\u001b[34;1m\"type\"\u001b[0m\u001b[1;39m: \u001b[0m\u001b[0;32m\"float\"\u001b[0m\u001b[1;39m,\n",
      "          \u001b[0m\u001b[34;1m\"inputBinding\"\u001b[0m\u001b[1;39m: \u001b[0m\u001b[1;39m{\n",
      "            \u001b[0m\u001b[34;1m\"prefix\"\u001b[0m\u001b[1;39m: \u001b[0m\u001b[0;32m\"--EPSILON\"\u001b[0m\u001b[1;39m\n",
      "          \u001b[1;39m}\u001b[0m\u001b[1;39m\n",
      "        \u001b[1;39m}\u001b[0m\u001b[1;39m,\n",
      "        \u001b[0m\u001b[34;1m\"LEARNING_RATE\"\u001b[0m\u001b[1;39m: \u001b[0m\u001b[1;39m{\n",
      "          \u001b[0m\u001b[34;1m\"type\"\u001b[0m\u001b[1;39m: \u001b[0m\u001b[0;32m\"float\"\u001b[0m\u001b[1;39m,\n",
      "          \u001b[0m\u001b[34;1m\"inputBinding\"\u001b[0m\u001b[1;39m: \u001b[0m\u001b[1;39m{\n",
      "            \u001b[0m\u001b[34;1m\"prefix\"\u001b[0m\u001b[1;39m: \u001b[0m\u001b[0;32m\"--LEARNING_RATE\"\u001b[0m\u001b[1;39m\n",
      "          \u001b[1;39m}\u001b[0m\u001b[1;39m\n",
      "        \u001b[1;39m}\u001b[0m\u001b[1;39m,\n",
      "        \u001b[0m\u001b[34;1m\"LOSS\"\u001b[0m\u001b[1;39m: \u001b[0m\u001b[1;39m{\n",
      "          \u001b[0m\u001b[34;1m\"type\"\u001b[0m\u001b[1;39m: \u001b[0m\u001b[0;32m\"string\"\u001b[0m\u001b[1;39m,\n",
      "          \u001b[0m\u001b[34;1m\"inputBinding\"\u001b[0m\u001b[1;39m: \u001b[0m\u001b[1;39m{\n",
      "            \u001b[0m\u001b[34;1m\"prefix\"\u001b[0m\u001b[1;39m: \u001b[0m\u001b[0;32m\"--LOSS\"\u001b[0m\u001b[1;39m\n",
      "          \u001b[1;39m}\u001b[0m\u001b[1;39m\n",
      "        \u001b[1;39m}\u001b[0m\u001b[1;39m,\n",
      "        \u001b[0m\u001b[34;1m\"MEMENTUM\"\u001b[0m\u001b[1;39m: \u001b[0m\u001b[1;39m{\n",
      "          \u001b[0m\u001b[34;1m\"type\"\u001b[0m\u001b[1;39m: \u001b[0m\u001b[0;32m\"float\"\u001b[0m\u001b[1;39m,\n",
      "          \u001b[0m\u001b[34;1m\"inputBinding\"\u001b[0m\u001b[1;39m: \u001b[0m\u001b[1;39m{\n",
      "            \u001b[0m\u001b[34;1m\"prefix\"\u001b[0m\u001b[1;39m: \u001b[0m\u001b[0;32m\"--MEMENTUM\"\u001b[0m\u001b[1;39m\n",
      "          \u001b[1;39m}\u001b[0m\u001b[1;39m\n",
      "        \u001b[1;39m}\u001b[0m\u001b[1;39m,\n",
      "        \u001b[0m\u001b[34;1m\"OPTIMIZER\"\u001b[0m\u001b[1;39m: \u001b[0m\u001b[1;39m{\n",
      "          \u001b[0m\u001b[34;1m\"type\"\u001b[0m\u001b[1;39m: \u001b[0m\u001b[0;32m\"string\"\u001b[0m\u001b[1;39m,\n",
      "          \u001b[0m\u001b[34;1m\"inputBinding\"\u001b[0m\u001b[1;39m: \u001b[0m\u001b[1;39m{\n",
      "            \u001b[0m\u001b[34;1m\"prefix\"\u001b[0m\u001b[1;39m: \u001b[0m\u001b[0;32m\"--OPTIMIZER\"\u001b[0m\u001b[1;39m\n",
      "          \u001b[1;39m}\u001b[0m\u001b[1;39m\n",
      "        \u001b[1;39m}\u001b[0m\u001b[1;39m,\n",
      "        \u001b[0m\u001b[34;1m\"REGULARIZER\"\u001b[0m\u001b[1;39m: \u001b[0m\u001b[1;39m{\n",
      "          \u001b[0m\u001b[34;1m\"type\"\u001b[0m\u001b[1;39m: \u001b[0m\u001b[0;32m\"string\"\u001b[0m\u001b[1;39m,\n",
      "          \u001b[0m\u001b[34;1m\"inputBinding\"\u001b[0m\u001b[1;39m: \u001b[0m\u001b[1;39m{\n",
      "            \u001b[0m\u001b[34;1m\"prefix\"\u001b[0m\u001b[1;39m: \u001b[0m\u001b[0;32m\"--REGULARIZER\"\u001b[0m\u001b[1;39m\n",
      "          \u001b[1;39m}\u001b[0m\u001b[1;39m\n",
      "        \u001b[1;39m}\u001b[0m\u001b[1;39m,\n",
      "        \u001b[0m\u001b[34;1m\"SAMPLES_PER_CLASS\"\u001b[0m\u001b[1;39m: \u001b[0m\u001b[1;39m{\n",
      "          \u001b[0m\u001b[34;1m\"type\"\u001b[0m\u001b[1;39m: \u001b[0m\u001b[0;32m\"int\"\u001b[0m\u001b[1;39m,\n",
      "          \u001b[0m\u001b[34;1m\"inputBinding\"\u001b[0m\u001b[1;39m: \u001b[0m\u001b[1;39m{\n",
      "            \u001b[0m\u001b[34;1m\"prefix\"\u001b[0m\u001b[1;39m: \u001b[0m\u001b[0;32m\"--SAMPLES_PER_CLASS\"\u001b[0m\u001b[1;39m\n",
      "          \u001b[1;39m}\u001b[0m\u001b[1;39m\n",
      "        \u001b[1;39m}\u001b[0m\u001b[1;39m\n",
      "      \u001b[1;39m}\u001b[0m\u001b[1;39m,\n",
      "      \u001b[0m\u001b[34;1m\"outputs\"\u001b[0m\u001b[1;39m: \u001b[0m\u001b[1;39m{\n",
      "        \u001b[0m\u001b[34;1m\"artifacts\"\u001b[0m\u001b[1;39m: \u001b[0m\u001b[1;39m{\n",
      "          \u001b[0m\u001b[34;1m\"outputBinding\"\u001b[0m\u001b[1;39m: \u001b[0m\u001b[1;39m{\n",
      "            \u001b[0m\u001b[34;1m\"glob\"\u001b[0m\u001b[1;39m: \u001b[0m\u001b[0;32m\".\"\u001b[0m\u001b[1;39m\n",
      "          \u001b[1;39m}\u001b[0m\u001b[1;39m,\n",
      "          \u001b[0m\u001b[34;1m\"type\"\u001b[0m\u001b[1;39m: \u001b[0m\u001b[0;32m\"Directory\"\u001b[0m\u001b[1;39m\n",
      "        \u001b[1;39m}\u001b[0m\u001b[1;39m\n",
      "      \u001b[1;39m}\u001b[0m\u001b[1;39m\n",
      "    \u001b[1;39m}\u001b[0m\u001b[1;39m\n",
      "  \u001b[1;39m]\u001b[0m\u001b[1;39m\n",
      "\u001b[1;39m}\u001b[0m\n"
     ]
    }
   ],
   "source": [
    "cat ${WORKSPACE}/training/app-package/tile-sat-training.cwl | yq \n",
    "\n"
   ]
  },
  {
   "cell_type": "markdown",
   "metadata": {},
   "source": [
    "Inspect the docker refrence\n"
   ]
  },
  {
   "cell_type": "code",
   "execution_count": 21,
   "metadata": {
    "vscode": {
     "languageId": "shellscript"
    }
   },
   "outputs": [
    {
     "name": "stdout",
     "output_type": "stream",
     "text": [
      "\u001b[0;32m\"train:latest\"\u001b[0m\n"
     ]
    }
   ],
   "source": [
    "yq '.[\"$graph\"][] | select(.class == \"CommandLineTool\") | .hints.DockerRequirement.dockerPull' ${WORKSPACE}/training/app-package/tile-sat-training.cwl\n"
   ]
  },
  {
   "cell_type": "markdown",
   "metadata": {},
   "source": [
    "Updating the docker refrence with the latest verion"
   ]
  },
  {
   "cell_type": "code",
   "execution_count": 22,
   "metadata": {
    "vscode": {
     "languageId": "shellscript"
    }
   },
   "outputs": [
    {
     "name": "stdout",
     "output_type": "stream",
     "text": [
      "  % Total    % Received % Xferd  Average Speed   Time    Time     Time  Current\n",
      "                                 Dload  Upload   Total   Spent    Left  Speed\n",
      "  0     0    0     0    0     0      0      0 --:--:-- --:--:-- --:--:--     0\n",
      "100  5546  100  5546    0     0   5879      0 --:--:-- --:--:-- --:--:-- 1387k\n"
     ]
    }
   ],
   "source": [
    "VERSION=$(curl -s https://api.github.com/repos/eoap/machine-learning-process/releases/latest | jq -r '.tag_name')\n",
    "curl -L -o ${WORKSPACE}/training/app-package/tile-sat-training.cwl \\\n",
    "  \"https://github.com/eoap/machine-learning-process/releases/download/${VERSION}/tile-sat-training.${VERSION}.cwl\""
   ]
  },
  {
   "cell_type": "code",
   "execution_count": 23,
   "metadata": {
    "vscode": {
     "languageId": "shellscript"
    }
   },
   "outputs": [
    {
     "name": "stdout",
     "output_type": "stream",
     "text": [
      "\u001b[0;32m\"ghcr.io/eoap/machine-learning-process/training@sha256:cbb97e479c9c5ca3b15257d034b0fce4ac5cba4e60e4b128b0fbe18f657a743f\"\u001b[0m\n"
     ]
    }
   ],
   "source": [
    "yq '.[\"$graph\"][] | select(.class == \"CommandLineTool\") | .hints.DockerRequirement.dockerPull' ${WORKSPACE}/training/app-package/tile-sat-training.cwl\n"
   ]
  },
  {
   "cell_type": "markdown",
   "metadata": {},
   "source": [
    "Run the CWL description for the `training` command line tool:"
   ]
  },
  {
   "cell_type": "code",
   "execution_count": 33,
   "metadata": {
    "vscode": {
     "languageId": "shellscript"
    }
   },
   "outputs": [
    {
     "name": "stdout",
     "output_type": "stream",
     "text": [
      "\u001b[1;30mINFO\u001b[0m /workspace/.venv/bin/cwltool 3.1.20240708091337\n",
      "\u001b[1;30mINFO\u001b[0m Resolved '/workspace/machine-learning-process/training/app-package/tile-sat-training.cwl#tile-sat-training' to 'file:///workspace/machine-learning-process/training/app-package/tile-sat-training.cwl#tile-sat-training'\n",
      "\u001b[1;30mERROR\u001b[0m \u001b[31mUnhandled error:\n",
      "  'int' object has no attribute 'clear'\u001b[0m\n",
      "Traceback (most recent call last):\n",
      "  File \"/workspace/.venv/lib/python3.9/site-packages/cwltool/main.py\", line 1275, in main\n",
      "    initialized_job_order_object = init_job_order(\n",
      "  File \"/workspace/.venv/lib/python3.9/site-packages/cwltool/main.py\", line 440, in init_job_order\n",
      "    cmd_line = vars(toolparser.parse_args(args.job_order))\n",
      "  File \"/opt/conda/lib/python3.9/argparse.py\", line 1825, in parse_args\n",
      "    args, argv = self.parse_known_args(args, namespace)\n",
      "  File \"/opt/conda/lib/python3.9/argparse.py\", line 1858, in parse_known_args\n",
      "    namespace, args = self._parse_known_args(args, namespace)\n",
      "  File \"/opt/conda/lib/python3.9/argparse.py\", line 2067, in _parse_known_args\n",
      "    start_index = consume_optional(start_index)\n",
      "  File \"/opt/conda/lib/python3.9/argparse.py\", line 2007, in consume_optional\n",
      "    take_action(action, args, option_string)\n",
      "  File \"/opt/conda/lib/python3.9/argparse.py\", line 1935, in take_action\n",
      "    action(self, namespace, argument_values, option_string)\n",
      "  File \"/workspace/.venv/lib/python3.9/site-packages/cwltool/argparser.py\", line 852, in __call__\n",
      "    self.default.clear()\n",
      "AttributeError: 'int' object has no attribute 'clear'\n"
     ]
    },
    {
     "ename": "",
     "evalue": "1",
     "output_type": "error",
     "traceback": []
    }
   ],
   "source": [
    "cwltool \\\n",
    "    --debug \\\n",
    "    --outdir ${WORKSPACE}/runs \\\n",
    "    ${WORKSPACE}/training/app-package/tile-sat-training.cwl#tile-sat-training \\\n",
    "    --MLFLOW_TRACKING_URI http://my-mlflow:5000 \\\n",
    "    --stac_reference https://raw.githubusercontent.com/eoap/machine-learning-process/main/training/app-package/EUROSAT-Training-Dataset/catalog.json \\\n",
    "    --BATCH_SIZE 2 \\\n",
    "    --CLASSES 10 \\\n",
    "    --DECAY 0.1 \\\n",
    "    --EPOCHS 5 \\\n",
    "    --EPSILON 0.000001 \\\n",
    "    --LEARNING_RATE 0.0001 \\\n",
    "    --LOSS categorical_crossentropy \\\n",
    "    --MEMENTUM 0.95 \\\n",
    "    --OPTIMIZER Adam \\\n",
    "    --REGULARIZER None \\\n",
    "    --SAMPLES_PER_CLASS 5"
   ]
  },
  {
   "cell_type": "markdown",
   "metadata": {},
   "source": [
    "Let's look at the content of the stderr:"
   ]
  },
  {
   "cell_type": "code",
   "execution_count": null,
   "metadata": {
    "vscode": {
     "languageId": "shellscript"
    }
   },
   "outputs": [],
   "source": [
    "cat crop.log"
   ]
  },
  {
   "cell_type": "markdown",
   "metadata": {},
   "source": [
    "Remember the `cwltool` CWL runner can also take the parameters as a YAML file:\n"
   ]
  },
  {
   "cell_type": "code",
   "execution_count": null,
   "metadata": {
    "vscode": {
     "languageId": "shellscript"
    }
   },
   "outputs": [],
   "source": [
    "cat << EOF > params.yaml\n",
    "item: https://earth-search.aws.element84.com/v0/collections/sentinel-s2-l2a-cogs/items/S2B_10TFK_20210713_0_L2A\n",
    "aoi: \"-121.399,39.834,-120.74,40.472\"\n",
    "epsg: \"EPSG:4326\"\n",
    "band: nir\n",
    "EOF"
   ]
  },
  {
   "cell_type": "markdown",
   "metadata": {},
   "source": [
    "Invoke `crop` against the NIR band redirecting the stdout to a file:"
   ]
  },
  {
   "cell_type": "code",
   "execution_count": null,
   "metadata": {
    "vscode": {
     "languageId": "shellscript"
    }
   },
   "outputs": [],
   "source": [
    "cwltool \\\n",
    "    --podman \\\n",
    "    --outdir ${WORKSPACE}/runs \\\n",
    "    ${WORKSPACE}/cwl-cli/crop.cwl \\\n",
    "    params.yaml > results.json "
   ]
  },
  {
   "cell_type": "markdown",
   "metadata": {},
   "source": [
    "Let's inspect the stdout produced. The `output` block with the id `cropped` of the CWL description is a file:"
   ]
  },
  {
   "cell_type": "code",
   "execution_count": null,
   "metadata": {
    "vscode": {
     "languageId": "shellscript"
    }
   },
   "outputs": [],
   "source": [
    "cat results.json"
   ]
  },
  {
   "cell_type": "code",
   "execution_count": null,
   "metadata": {
    "vscode": {
     "languageId": "shellscript"
    }
   },
   "outputs": [],
   "source": [
    "cat ${WORKSPACE}/cwl-cli/crop.cwl | yq e .outputs -"
   ]
  },
  {
   "cell_type": "markdown",
   "metadata": {},
   "source": [
    "Let's list the results produced:"
   ]
  },
  {
   "cell_type": "code",
   "execution_count": null,
   "metadata": {
    "vscode": {
     "languageId": "shellscript"
    }
   },
   "outputs": [],
   "source": [
    "ls -l ${RUNTIME}"
   ]
  },
  {
   "cell_type": "code",
   "execution_count": null,
   "metadata": {
    "vscode": {
     "languageId": "shellscript"
    }
   },
   "outputs": [],
   "source": []
  }
 ],
 "metadata": {
  "kernelspec": {
   "display_name": "Bash",
   "language": "bash",
   "name": "bash"
  },
  "language_info": {
   "codemirror_mode": "shell",
   "file_extension": ".sh",
   "mimetype": "text/x-sh",
   "name": "bash"
  }
 },
 "nbformat": 4,
 "nbformat_minor": 2
}
