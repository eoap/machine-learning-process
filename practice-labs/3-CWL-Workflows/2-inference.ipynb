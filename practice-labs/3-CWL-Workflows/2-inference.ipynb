{
 "cells": [
  {
   "cell_type": "markdown",
   "metadata": {},
   "source": [
    "# CWL Workflow for Inference \n",
    "This notebook provide an step-by-step instruction to explain how to wrap the `inference` step as a Common Workflow Language workflow and execute it with a CWL runner.\n",
    "\n",
    "> Note: Before proceeding, make sure to select the correct kernel. In the top-right corner of the notebook, choose the Jupyter kernel named `Bash`."
   ]
  },
  {
   "cell_type": "markdown",
   "metadata": {},
   "source": [
    "## Setup"
   ]
  },
  {
   "cell_type": "code",
   "execution_count": 1,
   "metadata": {
    "vscode": {
     "languageId": "shellscript"
    }
   },
   "outputs": [
    {
     "name": "stdout",
     "output_type": "stream",
     "text": [
      "XDG_RUNTIME_DIR=/workspace/.local\n",
      "RUNTIME=/workspace/machine-learning-process/runs\n",
      "/workspace/machine-learning-process/runs\n"
     ]
    }
   ],
   "source": [
    "export WORKSPACE=/workspace/machine-learning-process\n",
    "export RUNTIME=${WORKSPACE}/runs\n",
    "mkdir -p ${RUNTIME}\n",
    "cd ${RUNTIME}\n",
    "printenv | grep RUNTIME\n",
    "pwd"
   ]
  },
  {
   "cell_type": "markdown",
   "metadata": {},
   "source": [
    "## Inspect `tile-sat-inference`\n",
    "\n",
    "The CWL document below defines the `tile-sat-inference` workflow. In the section below, the user will explore the inputs that must be provided to this CWL workflow.\n"
   ]
  },
  {
   "cell_type": "code",
   "execution_count": 2,
   "metadata": {
    "vscode": {
     "languageId": "shellscript"
    }
   },
   "outputs": [
    {
     "name": "stdout",
     "output_type": "stream",
     "text": [
      "\u001b[1;39m{\n",
      "  \u001b[0m\u001b[34;1m\"MLFLOW_TRACKING_URI\"\u001b[0m\u001b[1;39m: \u001b[0m\u001b[1;39m{\n",
      "    \u001b[0m\u001b[34;1m\"label\"\u001b[0m\u001b[1;39m: \u001b[0m\u001b[0;32m\"MLFLOW_TRACKING_URI\"\u001b[0m\u001b[1;39m,\n",
      "    \u001b[0m\u001b[34;1m\"type\"\u001b[0m\u001b[1;39m: \u001b[0m\u001b[0;32m\"string\"\u001b[0m\u001b[1;39m\n",
      "  \u001b[1;39m}\u001b[0m\u001b[1;39m,\n",
      "  \u001b[0m\u001b[34;1m\"stac_reference\"\u001b[0m\u001b[1;39m: \u001b[0m\u001b[1;39m{\n",
      "    \u001b[0m\u001b[34;1m\"label\"\u001b[0m\u001b[1;39m: \u001b[0m\u001b[0;32m\"stac_reference\"\u001b[0m\u001b[1;39m,\n",
      "    \u001b[0m\u001b[34;1m\"doc\"\u001b[0m\u001b[1;39m: \u001b[0m\u001b[0;32m\"STAC Item label url\"\u001b[0m\u001b[1;39m,\n",
      "    \u001b[0m\u001b[34;1m\"type\"\u001b[0m\u001b[1;39m: \u001b[0m\u001b[0;32m\"string\"\u001b[0m\u001b[1;39m\n",
      "  \u001b[1;39m}\u001b[0m\u001b[1;39m,\n",
      "  \u001b[0m\u001b[34;1m\"BATCH_SIZE\"\u001b[0m\u001b[1;39m: \u001b[0m\u001b[1;39m{\n",
      "    \u001b[0m\u001b[34;1m\"label\"\u001b[0m\u001b[1;39m: \u001b[0m\u001b[0;32m\"BATCH_SIZE\"\u001b[0m\u001b[1;39m,\n",
      "    \u001b[0m\u001b[34;1m\"default\"\u001b[0m\u001b[1;39m: \u001b[0m\u001b[0;39m4\u001b[0m\u001b[1;39m,\n",
      "    \u001b[0m\u001b[34;1m\"doc\"\u001b[0m\u001b[1;39m: \u001b[0m\u001b[0;32m\"BATCH_SIZE- model metadata\"\u001b[0m\u001b[1;39m,\n",
      "    \u001b[0m\u001b[34;1m\"type\"\u001b[0m\u001b[1;39m: \u001b[0m\u001b[0;32m\"int[]\"\u001b[0m\u001b[1;39m\n",
      "  \u001b[1;39m}\u001b[0m\u001b[1;39m,\n",
      "  \u001b[0m\u001b[34;1m\"CLASSES\"\u001b[0m\u001b[1;39m: \u001b[0m\u001b[1;39m{\n",
      "    \u001b[0m\u001b[34;1m\"label\"\u001b[0m\u001b[1;39m: \u001b[0m\u001b[0;32m\"CLASSES\"\u001b[0m\u001b[1;39m,\n",
      "    \u001b[0m\u001b[34;1m\"default\"\u001b[0m\u001b[1;39m: \u001b[0m\u001b[0;39m10\u001b[0m\u001b[1;39m,\n",
      "    \u001b[0m\u001b[34;1m\"doc\"\u001b[0m\u001b[1;39m: \u001b[0m\u001b[0;32m\"CLASSES- model metadata\"\u001b[0m\u001b[1;39m,\n",
      "    \u001b[0m\u001b[34;1m\"type\"\u001b[0m\u001b[1;39m: \u001b[0m\u001b[0;32m\"int\"\u001b[0m\u001b[1;39m\n",
      "  \u001b[1;39m}\u001b[0m\u001b[1;39m,\n",
      "  \u001b[0m\u001b[34;1m\"DECAY\"\u001b[0m\u001b[1;39m: \u001b[0m\u001b[1;39m{\n",
      "    \u001b[0m\u001b[34;1m\"label\"\u001b[0m\u001b[1;39m: \u001b[0m\u001b[0;32m\"DECAY\"\u001b[0m\u001b[1;39m,\n",
      "    \u001b[0m\u001b[34;1m\"default\"\u001b[0m\u001b[1;39m: \u001b[0m\u001b[0;39m0.1\u001b[0m\u001b[1;39m,\n",
      "    \u001b[0m\u001b[34;1m\"doc\"\u001b[0m\u001b[1;39m: \u001b[0m\u001b[0;32m\"DECAY- model metadata\"\u001b[0m\u001b[1;39m,\n",
      "    \u001b[0m\u001b[34;1m\"type\"\u001b[0m\u001b[1;39m: \u001b[0m\u001b[0;32m\"float[]\"\u001b[0m\u001b[1;39m\n",
      "  \u001b[1;39m}\u001b[0m\u001b[1;39m,\n",
      "  \u001b[0m\u001b[34;1m\"EPOCHS\"\u001b[0m\u001b[1;39m: \u001b[0m\u001b[1;39m{\n",
      "    \u001b[0m\u001b[34;1m\"label\"\u001b[0m\u001b[1;39m: \u001b[0m\u001b[0;32m\"EPOCHS\"\u001b[0m\u001b[1;39m,\n",
      "    \u001b[0m\u001b[34;1m\"default\"\u001b[0m\u001b[1;39m: \u001b[0m\u001b[0;39m5\u001b[0m\u001b[1;39m,\n",
      "    \u001b[0m\u001b[34;1m\"doc\"\u001b[0m\u001b[1;39m: \u001b[0m\u001b[0;32m\"EPOCHS- model metadata\"\u001b[0m\u001b[1;39m,\n",
      "    \u001b[0m\u001b[34;1m\"type\"\u001b[0m\u001b[1;39m: \u001b[0m\u001b[0;32m\"int[]\"\u001b[0m\u001b[1;39m\n",
      "  \u001b[1;39m}\u001b[0m\u001b[1;39m,\n",
      "  \u001b[0m\u001b[34;1m\"EPSILON\"\u001b[0m\u001b[1;39m: \u001b[0m\u001b[1;39m{\n",
      "    \u001b[0m\u001b[34;1m\"label\"\u001b[0m\u001b[1;39m: \u001b[0m\u001b[0;32m\"EPSILON\"\u001b[0m\u001b[1;39m,\n",
      "    \u001b[0m\u001b[34;1m\"default\"\u001b[0m\u001b[1;39m: \u001b[0m\u001b[0;39m2e-06\u001b[0m\u001b[1;39m,\n",
      "    \u001b[0m\u001b[34;1m\"doc\"\u001b[0m\u001b[1;39m: \u001b[0m\u001b[0;32m\"EPSILON- model metadata\"\u001b[0m\u001b[1;39m,\n",
      "    \u001b[0m\u001b[34;1m\"type\"\u001b[0m\u001b[1;39m: \u001b[0m\u001b[0;32m\"float[]\"\u001b[0m\u001b[1;39m\n",
      "  \u001b[1;39m}\u001b[0m\u001b[1;39m,\n",
      "  \u001b[0m\u001b[34;1m\"LEARNING_RATE\"\u001b[0m\u001b[1;39m: \u001b[0m\u001b[1;39m{\n",
      "    \u001b[0m\u001b[34;1m\"label\"\u001b[0m\u001b[1;39m: \u001b[0m\u001b[0;32m\"LEARNING_RATE\"\u001b[0m\u001b[1;39m,\n",
      "    \u001b[0m\u001b[34;1m\"default\"\u001b[0m\u001b[1;39m: \u001b[0m\u001b[0;39m0.0001\u001b[0m\u001b[1;39m,\n",
      "    \u001b[0m\u001b[34;1m\"doc\"\u001b[0m\u001b[1;39m: \u001b[0m\u001b[0;32m\"LEARNING_RATE- model metadata\"\u001b[0m\u001b[1;39m,\n",
      "    \u001b[0m\u001b[34;1m\"type\"\u001b[0m\u001b[1;39m: \u001b[0m\u001b[0;32m\"float[]\"\u001b[0m\u001b[1;39m\n",
      "  \u001b[1;39m}\u001b[0m\u001b[1;39m,\n",
      "  \u001b[0m\u001b[34;1m\"LOSS\"\u001b[0m\u001b[1;39m: \u001b[0m\u001b[1;39m{\n",
      "    \u001b[0m\u001b[34;1m\"label\"\u001b[0m\u001b[1;39m: \u001b[0m\u001b[0;32m\"LOSS\"\u001b[0m\u001b[1;39m,\n",
      "    \u001b[0m\u001b[34;1m\"default\"\u001b[0m\u001b[1;39m: \u001b[0m\u001b[0;32m\"categorical_crossentropy\"\u001b[0m\u001b[1;39m,\n",
      "    \u001b[0m\u001b[34;1m\"doc\"\u001b[0m\u001b[1;39m: \u001b[0m\u001b[0;32m\"LOSS- model metadata\"\u001b[0m\u001b[1;39m,\n",
      "    \u001b[0m\u001b[34;1m\"type\"\u001b[0m\u001b[1;39m: \u001b[0m\u001b[0;32m\"string[]\"\u001b[0m\u001b[1;39m\n",
      "  \u001b[1;39m}\u001b[0m\u001b[1;39m,\n",
      "  \u001b[0m\u001b[34;1m\"MEMENTUM\"\u001b[0m\u001b[1;39m: \u001b[0m\u001b[1;39m{\n",
      "    \u001b[0m\u001b[34;1m\"label\"\u001b[0m\u001b[1;39m: \u001b[0m\u001b[0;32m\"MEMENTUM\"\u001b[0m\u001b[1;39m,\n",
      "    \u001b[0m\u001b[34;1m\"default\"\u001b[0m\u001b[1;39m: \u001b[0m\u001b[0;39m0.95\u001b[0m\u001b[1;39m,\n",
      "    \u001b[0m\u001b[34;1m\"doc\"\u001b[0m\u001b[1;39m: \u001b[0m\u001b[0;32m\"MEMENTUM- model metadata\"\u001b[0m\u001b[1;39m,\n",
      "    \u001b[0m\u001b[34;1m\"type\"\u001b[0m\u001b[1;39m: \u001b[0m\u001b[0;32m\"float[]\"\u001b[0m\u001b[1;39m\n",
      "  \u001b[1;39m}\u001b[0m\u001b[1;39m,\n",
      "  \u001b[0m\u001b[34;1m\"OPTIMIZER\"\u001b[0m\u001b[1;39m: \u001b[0m\u001b[1;39m{\n",
      "    \u001b[0m\u001b[34;1m\"label\"\u001b[0m\u001b[1;39m: \u001b[0m\u001b[0;32m\"OPTIMIZER\"\u001b[0m\u001b[1;39m,\n",
      "    \u001b[0m\u001b[34;1m\"default\"\u001b[0m\u001b[1;39m: \u001b[0m\u001b[0;32m\"Adam\"\u001b[0m\u001b[1;39m,\n",
      "    \u001b[0m\u001b[34;1m\"doc\"\u001b[0m\u001b[1;39m: \u001b[0m\u001b[0;32m\"OPTIMIZER- model metadata\"\u001b[0m\u001b[1;39m,\n",
      "    \u001b[0m\u001b[34;1m\"type\"\u001b[0m\u001b[1;39m: \u001b[0m\u001b[0;32m\"string[]\"\u001b[0m\u001b[1;39m\n",
      "  \u001b[1;39m}\u001b[0m\u001b[1;39m,\n",
      "  \u001b[0m\u001b[34;1m\"REGULARIZER\"\u001b[0m\u001b[1;39m: \u001b[0m\u001b[1;39m{\n",
      "    \u001b[0m\u001b[34;1m\"label\"\u001b[0m\u001b[1;39m: \u001b[0m\u001b[0;32m\"REGULARIZER\"\u001b[0m\u001b[1;39m,\n",
      "    \u001b[0m\u001b[34;1m\"default\"\u001b[0m\u001b[1;39m: \u001b[0m\u001b[0;32m\"None\"\u001b[0m\u001b[1;39m,\n",
      "    \u001b[0m\u001b[34;1m\"doc\"\u001b[0m\u001b[1;39m: \u001b[0m\u001b[0;32m\"REGULARIZER- model metadata\"\u001b[0m\u001b[1;39m,\n",
      "    \u001b[0m\u001b[34;1m\"type\"\u001b[0m\u001b[1;39m: \u001b[0m\u001b[0;32m\"string[]\"\u001b[0m\u001b[1;39m\n",
      "  \u001b[1;39m}\u001b[0m\u001b[1;39m,\n",
      "  \u001b[0m\u001b[34;1m\"SAMPLES_PER_CLASS\"\u001b[0m\u001b[1;39m: \u001b[0m\u001b[1;39m{\n",
      "    \u001b[0m\u001b[34;1m\"label\"\u001b[0m\u001b[1;39m: \u001b[0m\u001b[0;32m\"SAMPLES_PER_CLASS\"\u001b[0m\u001b[1;39m,\n",
      "    \u001b[0m\u001b[34;1m\"default\"\u001b[0m\u001b[1;39m: \u001b[0m\u001b[0;39m500\u001b[0m\u001b[1;39m,\n",
      "    \u001b[0m\u001b[34;1m\"doc\"\u001b[0m\u001b[1;39m: \u001b[0m\u001b[0;32m\"SAMPLES_PER_CLASS- model metadata\"\u001b[0m\u001b[1;39m,\n",
      "    \u001b[0m\u001b[34;1m\"type\"\u001b[0m\u001b[1;39m: \u001b[0m\u001b[0;32m\"int\"\u001b[0m\u001b[1;39m\n",
      "  \u001b[1;39m}\u001b[0m\u001b[1;39m\n",
      "\u001b[1;39m}\u001b[0m\n"
     ]
    }
   ],
   "source": [
    "yq '.[\"$graph\"][0].inputs' ${WORKSPACE}/training/app-package/tile-sat-training.cwl"
   ]
  },
  {
   "cell_type": "markdown",
   "metadata": {},
   "source": [
    "Inspect the docker refrence"
   ]
  },
  {
   "cell_type": "code",
   "execution_count": 3,
   "metadata": {
    "vscode": {
     "languageId": "shellscript"
    }
   },
   "outputs": [
    {
     "name": "stdout",
     "output_type": "stream",
     "text": [
      "\u001b[0;32m\"ghcr.io/eoap/machine-learning-process/training@sha256:cbb97e479c9c5ca3b15257d034b0fce4ac5cba4e60e4b128b0fbe18f657a743f\"\u001b[0m\n"
     ]
    }
   ],
   "source": [
    "yq '.[\"$graph\"][] | select(.class == \"CommandLineTool\") | .hints.DockerRequirement.dockerPull' ${WORKSPACE}/training/app-package/tile-sat-training.cwl"
   ]
  },
  {
   "cell_type": "markdown",
   "metadata": {},
   "source": [
    "Updating the docker refrence with the latest verion"
   ]
  },
  {
   "cell_type": "code",
   "execution_count": 10,
   "metadata": {
    "vscode": {
     "languageId": "shellscript"
    }
   },
   "outputs": [
    {
     "name": "stdout",
     "output_type": "stream",
     "text": [
      "  % Total    % Received % Xferd  Average Speed   Time    Time     Time  Current\n",
      "                                 Dload  Upload   Total   Spent    Left  Speed\n",
      "  0     0    0     0    0     0      0      0 --:--:-- --:--:-- --:--:--     0\n",
      "100  1850  100  1850    0     0   2927      0 --:--:-- --:--:-- --:--:--  2927\n",
      "Updated DockerPull: \n",
      "\u001b[0;32m\"ghcr.io/eoap/machine-learning-process/inference@sha256:c347ef65f710bfd215af33867948bef68cd398f08a0998998bde1a6f4a3f8a0f\"\u001b[0m\n"
     ]
    }
   ],
   "source": [
    "VERSION=$(curl -s https://api.github.com/repos/eoap/machine-learning-process/releases/latest | jq -r '.tag_name')\n",
    "\n",
    "curl -L -o ${WORKSPACE}/inference/app-package/tile-sat-inference.cwl \\\n",
    "  \"https://github.com/eoap/machine-learning-process/releases/download/${VERSION}/tile-sat-inference.${VERSION}.cwl\"\n",
    "\n",
    "echo \"Updated DockerPull: \" && yq '.[\"$graph\"][] | select(.class == \"CommandLineTool\") | .hints.DockerRequirement.dockerPull' ${WORKSPACE}/inference/app-package/tile-sat-inference.cwl\n"
   ]
  },
  {
   "cell_type": "markdown",
   "metadata": {},
   "source": [
    "## Run an Inference on a Sentinel-2 Product\n",
    "\n",
    "In the section below, the user will execute a job to run inference by applying the trained model to unseen Sentinel-2 data, generating a classified output image.\n"
   ]
  },
  {
   "cell_type": "code",
   "execution_count": 11,
   "metadata": {
    "vscode": {
     "languageId": "shellscript"
    }
   },
   "outputs": [
    {
     "name": "stdout",
     "output_type": "stream",
     "text": [
      "\u001b[1;30mINFO\u001b[0m /workspace/.venv/bin/cwltool 3.1.20240708091337\n",
      "\u001b[1;30mINFO\u001b[0m Resolved '/workspace/machine-learning-process/inference/app-package/tile-sat-inference.cwl#tile-sat-inference' to 'file:///workspace/machine-learning-process/inference/app-package/tile-sat-inference.cwl#tile-sat-inference'\n",
      "\u001b[1;30mDEBUG\u001b[0m \u001b[32m[workflow ] initialized from file:///workspace/machine-learning-process/inference/app-package/tile-sat-inference.cwl#tile-sat-inference\u001b[0m\n",
      "\u001b[1;30mINFO\u001b[0m [workflow ] start\n",
      "\u001b[1;30mDEBUG\u001b[0m \u001b[32m[workflow ] inputs {\n",
      "    \"input_reference\": [\n",
      "        \"https://planetarycomputer.microsoft.com/api/stac/v1/collections/sentinel-2-l2a/items/S2C_MSIL2A_20250420T093051_R136_T35ULS_20250420T125212\"\n",
      "    ]\n",
      "}\u001b[0m\n",
      "\u001b[1;30mINFO\u001b[0m [workflow ] starting step make_inference\n",
      "\u001b[1;30mINFO\u001b[0m [step make_inference] start\n",
      "\u001b[1;30mDEBUG\u001b[0m \u001b[32m[job make_inference] initializing from file:///workspace/machine-learning-process/inference/app-package/tile-sat-inference.cwl#make_inference as part of step make_inference\u001b[0m\n",
      "\u001b[1;30mDEBUG\u001b[0m \u001b[32m[job make_inference] {\n",
      "    \"input_reference\": \"https://planetarycomputer.microsoft.com/api/stac/v1/collections/sentinel-2-l2a/items/S2C_MSIL2A_20250420T093051_R136_T35ULS_20250420T125212\"\n",
      "}\u001b[0m\n",
      "\u001b[1;30mDEBUG\u001b[0m \u001b[32m[job make_inference] path mappings is {}\u001b[0m\n",
      "\u001b[1;30mDEBUG\u001b[0m \u001b[32m[job make_inference] command line bindings is [\n",
      "    {\n",
      "        \"position\": [\n",
      "            -1000000,\n",
      "            0\n",
      "        ],\n",
      "        \"datum\": \"make-inference\"\n",
      "    },\n",
      "    {\n",
      "        \"position\": [\n",
      "            1,\n",
      "            \"input_reference\"\n",
      "        ],\n",
      "        \"prefix\": \"--input_reference\",\n",
      "        \"datum\": \"https://planetarycomputer.microsoft.com/api/stac/v1/collections/sentinel-2-l2a/items/S2C_MSIL2A_20250420T093051_R136_T35ULS_20250420T125212\"\n",
      "    }\n",
      "]\u001b[0m\n",
      "Error: error inspecting object: no such object: \"ghcr.io/eoap/machine-learning-process/inference@sha256:c347ef65f710bfd215af33867948bef68cd398f08a0998998bde1a6f4a3f8a0f\"\n",
      "\u001b[1;30mINFO\u001b[0m ['podman', 'pull', 'ghcr.io/eoap/machine-learning-process/inference@sha256:c347ef65f710bfd215af33867948bef68cd398f08a0998998bde1a6f4a3f8a0f']\n",
      "Trying to pull ghcr.io/eoap/machine-learning-process/inference@sha256:c347ef65f710bfd215af33867948bef68cd398f08a0998998bde1a6f4a3f8a0f...\n",
      "Getting image source signatures\n",
      "Copying blob 8ec988941d66 [--------------------------------------] 0.0b / 0.0b\n",
      "\u001b[1A\u001b[JCopying blob 8ec988941d66 skipped: already exists  \n",
      "Copying blob 4f4fb700ef54 [======================================] 32.0b / 32.0b\n",
      "\u001b[2A\u001b[JCopying blob 8ec988941d66 skipped: already exists  \n",
      "Copying blob 4f4fb700ef54 done  \n",
      "\u001b[2A\u001b[JCopying blob 8ec988941d66 skipped: already exists  \n",
      "Copying blob 4f4fb700ef54 done  \n",
      "\u001b[2A\u001b[JCopying blob 8ec988941d66 skipped: already exists  \n",
      "Copying blob 4f4fb700ef54 done  \n",
      "\u001b[2A\u001b[JCopying blob 8ec988941d66 skipped: already exists  \n",
      "Copying blob 4f4fb700ef54 done  \n",
      "Copying blob 4f4fb700ef54 [======================================] 32.0b / 32.0b\n",
      "\u001b[3A\u001b[JCopying blob 8ec988941d66 skipped: already exists  \n",
      "Copying blob 4f4fb700ef54 done  \n",
      "Copying blob 4f4fb700ef54 done  \n",
      "\u001b[3A\u001b[JCopying blob 8ec988941d66 skipped: already exists  \n",
      "Copying blob 4f4fb700ef54 done  \n",
      "Copying blob 4f4fb700ef54 done  \n",
      "Copying blob 16dd6c02bf3b [====================================] 1.3KiB / 1.3KiB\n",
      "\u001b[4A\u001b[JCopying blob 8ec988941d66 skipped: already exists  \n",
      "Copying blob 4f4fb700ef54 done  \n",
      "Copying blob 4f4fb700ef54 done  \n",
      "Copying blob 16dd6c02bf3b done  \n",
      "\u001b[4A\u001b[JCopying blob 8ec988941d66 skipped: already exists  \n",
      "Copying blob 4f4fb700ef54 done  \n",
      "Copying blob 4f4fb700ef54 done  \n",
      "Copying blob 16dd6c02bf3b done  \n",
      "Copying blob e9276bf56627 [---------------------------------] 191.1KiB / 22.9MiB\n",
      "\u001b[5A\u001b[JCopying blob 8ec988941d66 skipped: already exists  \n",
      "Copying blob 4f4fb700ef54 done  \n",
      "Copying blob 4f4fb700ef54 done  \n",
      "Copying blob 16dd6c02bf3b done  \n",
      "Copying blob e9276bf56627 [=>---------------------------------] 1.2MiB / 22.9MiB\n",
      "Copying blob 2384ae7b8a4e [---------------------------------] 559.1KiB / 41.9MiB\n",
      "Copying blob 5ed1efd15879 [===>------------------------------] 207.1KiB / 1.9MiB\n",
      "\u001b[7A\u001b[JCopying blob 8ec988941d66 skipped: already exists  \n",
      "Copying blob 4f4fb700ef54 done  \n",
      "Copying blob 4f4fb700ef54 done  \n",
      "Copying blob 16dd6c02bf3b done  \n",
      "Copying blob e9276bf56627 [==>--------------------------------] 1.9MiB / 22.9MiB\n",
      "Copying blob 2384ae7b8a4e [>----------------------------------] 1.0MiB / 41.9MiB\n",
      "Copying blob 5ed1efd15879 [==========>-----------------------] 639.1KiB / 1.9MiB\n",
      "\u001b[7A\u001b[JCopying blob 8ec988941d66 skipped: already exists  \n",
      "Copying blob 4f4fb700ef54 done  \n",
      "Copying blob 4f4fb700ef54 done  \n",
      "Copying blob 16dd6c02bf3b done  \n",
      "Copying blob e9276bf56627 [===>-------------------------------] 2.4MiB / 22.9MiB\n",
      "Copying blob 2384ae7b8a4e [>----------------------------------] 1.6MiB / 41.9MiB\n",
      "Copying blob 5ed1efd15879 [===============>------------------] 879.1KiB / 1.9MiB\n",
      "Copying blob daef3f959cfe [--------------------------------] 431.1KiB / 413.8MiB\n",
      "\u001b[8A\u001b[JCopying blob 8ec988941d66 skipped: already exists  \n",
      "Copying blob 4f4fb700ef54 done  \n",
      "Copying blob 4f4fb700ef54 done  \n",
      "Copying blob 16dd6c02bf3b done  \n",
      "Copying blob e9276bf56627 [====>------------------------------] 3.0MiB / 22.9MiB\n",
      "Copying blob 2384ae7b8a4e [=>---------------------------------] 2.0MiB / 41.9MiB\n",
      "Copying blob 5ed1efd15879 [====================>---------------] 1.1MiB / 1.9MiB\n",
      "Copying blob daef3f959cfe [--------------------------------] 847.1KiB / 413.8MiB\n",
      "\u001b[8A\u001b[JCopying blob 8ec988941d66 skipped: already exists  \n",
      "Copying blob 4f4fb700ef54 done  \n",
      "Copying blob 4f4fb700ef54 done  \n",
      "Copying blob 16dd6c02bf3b done  \n",
      "Copying blob e9276bf56627 [=====>-----------------------------] 3.7MiB / 22.9MiB\n",
      "Copying blob 2384ae7b8a4e [=>---------------------------------] 2.4MiB / 41.9MiB\n",
      "Copying blob 5ed1efd15879 [========================>-----------] 1.3MiB / 1.9MiB\n",
      "Copying blob daef3f959cfe [----------------------------------] 1.2MiB / 413.8MiB\n",
      "\u001b[8A\u001b[JCopying blob 8ec988941d66 skipped: already exists  \n",
      "Copying blob 4f4fb700ef54 done  \n",
      "Copying blob 4f4fb700ef54 done  \n",
      "Copying blob 16dd6c02bf3b done  \n",
      "Copying blob e9276bf56627 [======>----------------------------] 4.3MiB / 22.9MiB\n",
      "Copying blob 2384ae7b8a4e [=>---------------------------------] 2.8MiB / 41.9MiB\n",
      "Copying blob 5ed1efd15879 [=============================>------] 1.5MiB / 1.9MiB\n",
      "Copying blob daef3f959cfe [----------------------------------] 1.6MiB / 413.8MiB\n",
      "\u001b[8A\u001b[JCopying blob 8ec988941d66 skipped: already exists  \n",
      "Copying blob 4f4fb700ef54 done  \n",
      "Copying blob 4f4fb700ef54 done  \n",
      "Copying blob 16dd6c02bf3b done  \n",
      "Copying blob e9276bf56627 [=======>---------------------------] 5.0MiB / 22.9MiB\n",
      "Copying blob 2384ae7b8a4e [==>--------------------------------] 3.2MiB / 41.9MiB\n",
      "Copying blob 5ed1efd15879 [=================================>--] 1.7MiB / 1.9MiB\n",
      "Copying blob daef3f959cfe [----------------------------------] 1.9MiB / 413.8MiB\n",
      "\u001b[8A\u001b[JCopying blob 8ec988941d66 skipped: already exists  \n",
      "Copying blob 4f4fb700ef54 done  \n",
      "Copying blob 4f4fb700ef54 done  \n",
      "Copying blob 16dd6c02bf3b done  \n",
      "Copying blob e9276bf56627 [========>--------------------------] 5.7MiB / 22.9MiB\n",
      "Copying blob 2384ae7b8a4e [==>--------------------------------] 3.7MiB / 41.9MiB\n",
      "Copying blob 5ed1efd15879 [====================================] 1.9MiB / 1.9MiB\n",
      "Copying blob daef3f959cfe [----------------------------------] 2.3MiB / 413.8MiB\n",
      "\u001b[8A\u001b[JCopying blob 8ec988941d66 skipped: already exists  \n",
      "Copying blob 4f4fb700ef54 done  \n",
      "Copying blob 4f4fb700ef54 done  \n",
      "Copying blob 16dd6c02bf3b done  \n",
      "Copying blob e9276bf56627 [=========>-------------------------] 6.5MiB / 22.9MiB\n",
      "Copying blob 2384ae7b8a4e [===>-------------------------------] 4.2MiB / 41.9MiB\n",
      "Copying blob 5ed1efd15879 done  \n",
      "Copying blob daef3f959cfe [----------------------------------] 2.7MiB / 413.8MiB\n",
      "\u001b[8A\u001b[JCopying blob 8ec988941d66 skipped: already exists  \n",
      "Copying blob 4f4fb700ef54 done  \n",
      "Copying blob 4f4fb700ef54 done  \n",
      "Copying blob 16dd6c02bf3b done  \n",
      "Copying blob e9276bf56627 [==========>------------------------] 7.4MiB / 22.9MiB\n",
      "Copying blob 2384ae7b8a4e [===>-------------------------------] 4.7MiB / 41.9MiB\n",
      "Copying blob 5ed1efd15879 done  \n",
      "Copying blob daef3f959cfe [----------------------------------] 3.0MiB / 413.8MiB\n",
      "\u001b[8A\u001b[JCopying blob 8ec988941d66 skipped: already exists  \n",
      "Copying blob 4f4fb700ef54 done  \n",
      "Copying blob 4f4fb700ef54 done  \n",
      "Copying blob 16dd6c02bf3b done  \n",
      "Copying blob e9276bf56627 [============>----------------------] 8.2MiB / 22.9MiB\n",
      "Copying blob 2384ae7b8a4e [===>-------------------------------] 5.1MiB / 41.9MiB\n",
      "Copying blob 5ed1efd15879 done  \n",
      "Copying blob daef3f959cfe [----------------------------------] 3.4MiB / 413.8MiB\n",
      "\u001b[8A\u001b[JCopying blob 8ec988941d66 skipped: already exists  \n",
      "Copying blob 4f4fb700ef54 done  \n",
      "Copying blob 4f4fb700ef54 done  \n",
      "Copying blob 16dd6c02bf3b done  \n",
      "Copying blob e9276bf56627 [=============>---------------------] 9.2MiB / 22.9MiB\n",
      "Copying blob 2384ae7b8a4e [====>------------------------------] 5.6MiB / 41.9MiB\n",
      "Copying blob 5ed1efd15879 done  \n",
      "Copying blob daef3f959cfe [----------------------------------] 3.8MiB / 413.8MiB\n",
      "\u001b[8A\u001b[JCopying blob 8ec988941d66 skipped: already exists  \n",
      "Copying blob 4f4fb700ef54 done  \n",
      "Copying blob 4f4fb700ef54 done  \n",
      "Copying blob 16dd6c02bf3b done  \n",
      "Copying blob e9276bf56627 [==============>-------------------] 10.1MiB / 22.9MiB\n",
      "Copying blob 2384ae7b8a4e [====>------------------------------] 6.0MiB / 41.9MiB\n",
      "Copying blob 5ed1efd15879 done  \n",
      "Copying blob daef3f959cfe [----------------------------------] 4.1MiB / 413.8MiB\n",
      "\u001b[8A\u001b[JCopying blob 8ec988941d66 skipped: already exists  \n",
      "Copying blob 4f4fb700ef54 done  \n",
      "Copying blob 4f4fb700ef54 done  \n",
      "Copying blob 16dd6c02bf3b done  \n",
      "Copying blob e9276bf56627 [===============>------------------] 11.1MiB / 22.9MiB\n",
      "Copying blob 2384ae7b8a4e [====>------------------------------] 6.3MiB / 41.9MiB\n",
      "Copying blob 5ed1efd15879 done  \n",
      "Copying blob daef3f959cfe [----------------------------------] 4.4MiB / 413.8MiB\n",
      "\u001b[8A\u001b[JCopying blob 8ec988941d66 skipped: already exists  \n",
      "Copying blob 4f4fb700ef54 done  \n",
      "Copying blob 4f4fb700ef54 done  \n",
      "Copying blob 16dd6c02bf3b done  \n",
      "Copying blob e9276bf56627 [=================>----------------] 12.2MiB / 22.9MiB\n",
      "Copying blob 2384ae7b8a4e [====>------------------------------] 6.6MiB / 41.9MiB\n",
      "Copying blob 5ed1efd15879 done  \n",
      "Copying blob daef3f959cfe [----------------------------------] 4.8MiB / 413.8MiB\n",
      "\u001b[8A\u001b[JCopying blob 8ec988941d66 skipped: already exists  \n",
      "Copying blob 4f4fb700ef54 done  \n",
      "Copying blob 4f4fb700ef54 done  \n",
      "Copying blob 16dd6c02bf3b done  \n",
      "Copying blob e9276bf56627 [===================>--------------] 13.2MiB / 22.9MiB\n",
      "Copying blob 2384ae7b8a4e [=====>-----------------------------] 6.9MiB / 41.9MiB\n",
      "Copying blob 5ed1efd15879 done  \n",
      "Copying blob daef3f959cfe [----------------------------------] 5.1MiB / 413.8MiB\n",
      "\u001b[8A\u001b[JCopying blob 8ec988941d66 skipped: already exists  \n",
      "Copying blob 4f4fb700ef54 done  \n",
      "Copying blob 4f4fb700ef54 done  \n",
      "Copying blob 16dd6c02bf3b done  \n",
      "Copying blob e9276bf56627 [====================>-------------] 14.3MiB / 22.9MiB\n",
      "Copying blob 2384ae7b8a4e [=====>-----------------------------] 7.2MiB / 41.9MiB\n",
      "Copying blob 5ed1efd15879 done  \n",
      "Copying blob daef3f959cfe [----------------------------------] 5.4MiB / 413.8MiB\n",
      "\u001b[8A\u001b[JCopying blob 8ec988941d66 skipped: already exists  \n",
      "Copying blob 4f4fb700ef54 done  \n",
      "Copying blob 4f4fb700ef54 done  \n",
      "Copying blob 16dd6c02bf3b done  \n",
      "Copying blob e9276bf56627 [======================>-----------] 15.4MiB / 22.9MiB\n",
      "Copying blob 2384ae7b8a4e [=====>-----------------------------] 7.5MiB / 41.9MiB\n",
      "Copying blob 5ed1efd15879 done  \n",
      "Copying blob daef3f959cfe [----------------------------------] 5.6MiB / 413.8MiB\n",
      "\u001b[8A\u001b[JCopying blob 8ec988941d66 skipped: already exists  \n",
      "Copying blob 4f4fb700ef54 done  \n",
      "Copying blob 4f4fb700ef54 done  \n",
      "Copying blob 16dd6c02bf3b done  \n",
      "Copying blob e9276bf56627 [========================>---------] 16.5MiB / 22.9MiB\n",
      "Copying blob 2384ae7b8a4e [======>----------------------------] 7.9MiB / 41.9MiB\n",
      "Copying blob 5ed1efd15879 done  \n",
      "Copying blob daef3f959cfe [----------------------------------] 5.8MiB / 413.8MiB\n",
      "\u001b[8A\u001b[JCopying blob 8ec988941d66 skipped: already exists  \n",
      "Copying blob 4f4fb700ef54 done  \n",
      "Copying blob 4f4fb700ef54 done  \n",
      "Copying blob 16dd6c02bf3b done  \n",
      "Copying blob e9276bf56627 [=========================>--------] 17.5MiB / 22.9MiB\n",
      "Copying blob 2384ae7b8a4e [======>----------------------------] 8.3MiB / 41.9MiB\n",
      "Copying blob 5ed1efd15879 done  \n",
      "Copying blob daef3f959cfe [>---------------------------------] 6.2MiB / 413.8MiB\n",
      "\u001b[8A\u001b[JCopying blob 8ec988941d66 skipped: already exists  \n",
      "Copying blob 4f4fb700ef54 done  \n",
      "Copying blob 4f4fb700ef54 done  \n",
      "Copying blob 16dd6c02bf3b done  \n",
      "Copying blob e9276bf56627 [==========================>-------] 18.4MiB / 22.9MiB\n",
      "Copying blob 2384ae7b8a4e [======>----------------------------] 8.7MiB / 41.9MiB\n",
      "Copying blob 5ed1efd15879 done  \n",
      "Copying blob daef3f959cfe [>---------------------------------] 6.5MiB / 413.8MiB\n",
      "\u001b[8A\u001b[JCopying blob 8ec988941d66 skipped: already exists  \n",
      "Copying blob 4f4fb700ef54 done  \n",
      "Copying blob 4f4fb700ef54 done  \n",
      "Copying blob 16dd6c02bf3b done  \n",
      "Copying blob e9276bf56627 [===========================>------] 19.1MiB / 22.9MiB\n",
      "Copying blob 2384ae7b8a4e [=======>---------------------------] 9.2MiB / 41.9MiB\n",
      "Copying blob 5ed1efd15879 done  \n",
      "Copying blob daef3f959cfe [>---------------------------------] 6.9MiB / 413.8MiB\n",
      "\u001b[8A\u001b[JCopying blob 8ec988941d66 skipped: already exists  \n",
      "Copying blob 4f4fb700ef54 done  \n",
      "Copying blob 4f4fb700ef54 done  \n",
      "Copying blob 16dd6c02bf3b done  \n",
      "Copying blob e9276bf56627 [============================>-----] 19.8MiB / 22.9MiB\n",
      "Copying blob 2384ae7b8a4e [=======>---------------------------] 9.8MiB / 41.9MiB\n",
      "Copying blob 5ed1efd15879 done  \n",
      "Copying blob daef3f959cfe [>---------------------------------] 7.3MiB / 413.8MiB\n",
      "\u001b[8A\u001b[JCopying blob 8ec988941d66 skipped: already exists  \n",
      "Copying blob 4f4fb700ef54 done  \n",
      "Copying blob 4f4fb700ef54 done  \n",
      "Copying blob 16dd6c02bf3b done  \n",
      "Copying blob e9276bf56627 [==============================>---] 20.6MiB / 22.9MiB\n",
      "Copying blob 2384ae7b8a4e [=======>--------------------------] 10.4MiB / 41.9MiB\n",
      "Copying blob 5ed1efd15879 done  \n",
      "Copying blob daef3f959cfe [>---------------------------------] 7.7MiB / 413.8MiB\n",
      "\u001b[8A\u001b[JCopying blob 8ec988941d66 skipped: already exists  \n",
      "Copying blob 4f4fb700ef54 done  \n",
      "Copying blob 4f4fb700ef54 done  \n",
      "Copying blob 16dd6c02bf3b done  \n",
      "Copying blob e9276bf56627 [===============================>--] 21.3MiB / 22.9MiB\n",
      "Copying blob 2384ae7b8a4e [========>-------------------------] 10.8MiB / 41.9MiB\n",
      "Copying blob 5ed1efd15879 done  \n",
      "Copying blob daef3f959cfe [>---------------------------------] 8.1MiB / 413.8MiB\n",
      "\u001b[8A\u001b[JCopying blob 8ec988941d66 skipped: already exists  \n",
      "Copying blob 4f4fb700ef54 done  \n",
      "Copying blob 4f4fb700ef54 done  \n",
      "Copying blob 16dd6c02bf3b done  \n",
      "Copying blob e9276bf56627 [================================>-] 22.2MiB / 22.9MiB\n",
      "Copying blob 2384ae7b8a4e [========>-------------------------] 11.3MiB / 41.9MiB\n",
      "Copying blob 5ed1efd15879 done  \n",
      "Copying blob daef3f959cfe [>---------------------------------] 8.5MiB / 413.8MiB\n",
      "Traceback (most recent call last):\n",
      "  File \"/workspace/.venv/bin/cwltool\", line 8, in <module>\n",
      "    sys.exit(run())\n",
      "  File \"/workspace/.venv/lib/python3.9/site-packages/cwltool/main.py\", line 1470, in run\n",
      "    retval = main(*args, **kwargs)\n",
      "  File \"/workspace/.venv/lib/python3.9/site-packages/cwltool/main.py\", line 1314, in main\n",
      "    (out, status) = real_executor(\n",
      "  File \"/workspace/.venv/lib/python3.9/site-packages/cwltool/executors.py\", line 63, in __call__\n",
      "    return self.execute(process, job_order_object, runtime_context, logger)\n",
      "  File \"/workspace/.venv/lib/python3.9/site-packages/cwltool/executors.py\", line 146, in execute\n",
      "    self.run_jobs(process, job_order_object, logger, runtime_context)\n",
      "  File \"/workspace/.venv/lib/python3.9/site-packages/cwltool/executors.py\", line 254, in run_jobs\n",
      "    job.run(runtime_context)\n",
      "  File \"/workspace/.venv/lib/python3.9/site-packages/cwltool/job.py\", line 773, in run\n",
      "    self.get_from_requirements(\n",
      "  File \"/workspace/.venv/lib/python3.9/site-packages/cwltool/docker.py\", line 207, in get_from_requirements\n",
      "    if self.get_image(cast(Dict[str, str], r), pull_image, force_pull, tmp_outdir_prefix):\n",
      "  File \"/workspace/.venv/lib/python3.9/site-packages/cwltool/docker.py\", line 149, in get_image\n",
      "    subprocess.check_call(cmd, stdout=sys.stderr)  # nosec\n",
      "  File \"/opt/conda/lib/python3.9/subprocess.py\", line 368, in check_call\n",
      "    retcode = call(*popenargs, **kwargs)\n",
      "  File \"/opt/conda/lib/python3.9/subprocess.py\", line 351, in call\n",
      "    return p.wait(timeout=timeout)\n",
      "  File \"/opt/conda/lib/python3.9/subprocess.py\", line 1189, in wait\n",
      "    return self._wait(timeout=timeout)\n",
      "  File \"/opt/conda/lib/python3.9/subprocess.py\", line 1933, in _wait\n",
      "    (pid, sts) = self._try_wait(0)\n",
      "  File \"/opt/conda/lib/python3.9/subprocess.py\", line 1891, in _try_wait\n",
      "    (pid, sts) = os.waitpid(self.pid, wait_flags)\n",
      "KeyboardInterrupt\n",
      "\n"
     ]
    }
   ],
   "source": [
    "cwltool \\\n",
    "    --podman \\\n",
    "    --debug \\\n",
    "    --outdir ${WORKSPACE}/runs \\\n",
    "    ${WORKSPACE}/inference/app-package/tile-sat-inference.cwl#tile-sat-inference \\\n",
    "    ${WORKSPACE}/practice-labs/4-CWL-Workflows/params_inference.yaml > train.log"
   ]
  },
  {
   "cell_type": "markdown",
   "metadata": {},
   "source": [
    "List the outputs:"
   ]
  },
  {
   "cell_type": "code",
   "execution_count": 12,
   "metadata": {
    "vscode": {
     "languageId": "shellscript"
    }
   },
   "outputs": [
    {
     "name": "stdout",
     "output_type": "stream",
     "text": [
      "/workspace/machine-learning-process/runs\n",
      "└── train.log\n",
      "\n",
      "0 directories, 1 file\n"
     ]
    }
   ],
   "source": [
    "tree ${WORKSPACE}/runs"
   ]
  },
  {
   "cell_type": "markdown",
   "metadata": {},
   "source": [
    "## Clean-up "
   ]
  },
  {
   "cell_type": "code",
   "execution_count": null,
   "metadata": {
    "vscode": {
     "languageId": "shellscript"
    }
   },
   "outputs": [],
   "source": [
    "rm -fr ${RUNTIME}\n",
    "#### Un comment the line below to remove the docker image\n",
    "# docker rmi -f $(docker images -aq)"
   ]
  }
 ],
 "metadata": {
  "kernelspec": {
   "display_name": "Bash",
   "language": "bash",
   "name": "bash"
  },
  "language_info": {
   "codemirror_mode": "shell",
   "file_extension": ".sh",
   "mimetype": "text/x-sh",
   "name": "bash"
  }
 },
 "nbformat": 4,
 "nbformat_minor": 2
}
