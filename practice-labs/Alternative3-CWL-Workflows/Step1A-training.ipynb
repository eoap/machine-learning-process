{
 "cells": [
  {
   "cell_type": "markdown",
   "metadata": {},
   "source": [
    "# CWL Workflow for Training \n",
    "This notebook provide an step-by-step instruction to explain how to wrap the `training` step as a Common Workflow Language workflow and execute it with two CWL runners such as `cwltool` and `calrissian`.\n",
    "\n",
    "> Note: Before proceeding, make sure to select the correct kernel. In the top-right corner of the notebook, choose the Jupyter kernel named `Bash`."
   ]
  },
  {
   "cell_type": "markdown",
   "metadata": {},
   "source": [
    "## Setup"
   ]
  },
  {
   "cell_type": "code",
   "execution_count": 1,
   "metadata": {
    "vscode": {
     "languageId": "shellscript"
    }
   },
   "outputs": [
    {
     "name": "stdout",
     "output_type": "stream",
     "text": [
      "XDG_RUNTIME_DIR=/workspace/.local\n",
      "RUNTIME=/workspace/machine-learning-process/runs\n",
      "/workspace/machine-learning-process/runs\n"
     ]
    }
   ],
   "source": [
    "export WORKSPACE=/workspace/machine-learning-process\n",
    "export RUNTIME=${WORKSPACE}/runs\n",
    "mkdir -p ${RUNTIME}\n",
    "cd ${RUNTIME}\n",
    "printenv | grep RUNTIME\n",
    "pwd"
   ]
  },
  {
   "cell_type": "markdown",
   "metadata": {},
   "source": [
    "## Inspect `tile-sat-training`\n",
    "\n",
    "The CWL document below defines the `tile-sat-training` workflow. In the section below, the user will explore the inputs that must be provided to this CWL workflow.\n"
   ]
  },
  {
   "cell_type": "code",
   "execution_count": 2,
   "metadata": {
    "vscode": {
     "languageId": "shellscript"
    }
   },
   "outputs": [
    {
     "name": "stdout",
     "output_type": "stream",
     "text": [
      "\u001b[1;39m{\n",
      "  \u001b[0m\u001b[34;1m\"MLFLOW_TRACKING_URI\"\u001b[0m\u001b[1;39m: \u001b[0m\u001b[1;39m{\n",
      "    \u001b[0m\u001b[34;1m\"label\"\u001b[0m\u001b[1;39m: \u001b[0m\u001b[0;32m\"MLFLOW_TRACKING_URI\"\u001b[0m\u001b[1;39m,\n",
      "    \u001b[0m\u001b[34;1m\"type\"\u001b[0m\u001b[1;39m: \u001b[0m\u001b[0;32m\"string\"\u001b[0m\u001b[1;39m\n",
      "  \u001b[1;39m}\u001b[0m\u001b[1;39m,\n",
      "  \u001b[0m\u001b[34;1m\"stac_reference\"\u001b[0m\u001b[1;39m: \u001b[0m\u001b[1;39m{\n",
      "    \u001b[0m\u001b[34;1m\"label\"\u001b[0m\u001b[1;39m: \u001b[0m\u001b[0;32m\"stac_reference\"\u001b[0m\u001b[1;39m,\n",
      "    \u001b[0m\u001b[34;1m\"doc\"\u001b[0m\u001b[1;39m: \u001b[0m\u001b[0;32m\"STAC Item label url\"\u001b[0m\u001b[1;39m,\n",
      "    \u001b[0m\u001b[34;1m\"type\"\u001b[0m\u001b[1;39m: \u001b[0m\u001b[0;32m\"string\"\u001b[0m\u001b[1;39m\n",
      "  \u001b[1;39m}\u001b[0m\u001b[1;39m,\n",
      "  \u001b[0m\u001b[34;1m\"BATCH_SIZE\"\u001b[0m\u001b[1;39m: \u001b[0m\u001b[1;39m{\n",
      "    \u001b[0m\u001b[34;1m\"label\"\u001b[0m\u001b[1;39m: \u001b[0m\u001b[0;32m\"BATCH_SIZE\"\u001b[0m\u001b[1;39m,\n",
      "    \u001b[0m\u001b[34;1m\"default\"\u001b[0m\u001b[1;39m: \u001b[0m\u001b[0;39m4\u001b[0m\u001b[1;39m,\n",
      "    \u001b[0m\u001b[34;1m\"doc\"\u001b[0m\u001b[1;39m: \u001b[0m\u001b[0;32m\"BATCH_SIZE- model metadata\"\u001b[0m\u001b[1;39m,\n",
      "    \u001b[0m\u001b[34;1m\"type\"\u001b[0m\u001b[1;39m: \u001b[0m\u001b[0;32m\"int[]\"\u001b[0m\u001b[1;39m\n",
      "  \u001b[1;39m}\u001b[0m\u001b[1;39m,\n",
      "  \u001b[0m\u001b[34;1m\"CLASSES\"\u001b[0m\u001b[1;39m: \u001b[0m\u001b[1;39m{\n",
      "    \u001b[0m\u001b[34;1m\"label\"\u001b[0m\u001b[1;39m: \u001b[0m\u001b[0;32m\"CLASSES\"\u001b[0m\u001b[1;39m,\n",
      "    \u001b[0m\u001b[34;1m\"default\"\u001b[0m\u001b[1;39m: \u001b[0m\u001b[0;39m10\u001b[0m\u001b[1;39m,\n",
      "    \u001b[0m\u001b[34;1m\"doc\"\u001b[0m\u001b[1;39m: \u001b[0m\u001b[0;32m\"CLASSES- model metadata\"\u001b[0m\u001b[1;39m,\n",
      "    \u001b[0m\u001b[34;1m\"type\"\u001b[0m\u001b[1;39m: \u001b[0m\u001b[0;32m\"int\"\u001b[0m\u001b[1;39m\n",
      "  \u001b[1;39m}\u001b[0m\u001b[1;39m,\n",
      "  \u001b[0m\u001b[34;1m\"DECAY\"\u001b[0m\u001b[1;39m: \u001b[0m\u001b[1;39m{\n",
      "    \u001b[0m\u001b[34;1m\"label\"\u001b[0m\u001b[1;39m: \u001b[0m\u001b[0;32m\"DECAY\"\u001b[0m\u001b[1;39m,\n",
      "    \u001b[0m\u001b[34;1m\"default\"\u001b[0m\u001b[1;39m: \u001b[0m\u001b[0;39m0.1\u001b[0m\u001b[1;39m,\n",
      "    \u001b[0m\u001b[34;1m\"doc\"\u001b[0m\u001b[1;39m: \u001b[0m\u001b[0;32m\"DECAY- model metadata\"\u001b[0m\u001b[1;39m,\n",
      "    \u001b[0m\u001b[34;1m\"type\"\u001b[0m\u001b[1;39m: \u001b[0m\u001b[0;32m\"float[]\"\u001b[0m\u001b[1;39m\n",
      "  \u001b[1;39m}\u001b[0m\u001b[1;39m,\n",
      "  \u001b[0m\u001b[34;1m\"EPOCHS\"\u001b[0m\u001b[1;39m: \u001b[0m\u001b[1;39m{\n",
      "    \u001b[0m\u001b[34;1m\"label\"\u001b[0m\u001b[1;39m: \u001b[0m\u001b[0;32m\"EPOCHS\"\u001b[0m\u001b[1;39m,\n",
      "    \u001b[0m\u001b[34;1m\"default\"\u001b[0m\u001b[1;39m: \u001b[0m\u001b[0;39m5\u001b[0m\u001b[1;39m,\n",
      "    \u001b[0m\u001b[34;1m\"doc\"\u001b[0m\u001b[1;39m: \u001b[0m\u001b[0;32m\"EPOCHS- model metadata\"\u001b[0m\u001b[1;39m,\n",
      "    \u001b[0m\u001b[34;1m\"type\"\u001b[0m\u001b[1;39m: \u001b[0m\u001b[0;32m\"int[]\"\u001b[0m\u001b[1;39m\n",
      "  \u001b[1;39m}\u001b[0m\u001b[1;39m,\n",
      "  \u001b[0m\u001b[34;1m\"EPSILON\"\u001b[0m\u001b[1;39m: \u001b[0m\u001b[1;39m{\n",
      "    \u001b[0m\u001b[34;1m\"label\"\u001b[0m\u001b[1;39m: \u001b[0m\u001b[0;32m\"EPSILON\"\u001b[0m\u001b[1;39m,\n",
      "    \u001b[0m\u001b[34;1m\"default\"\u001b[0m\u001b[1;39m: \u001b[0m\u001b[0;39m2e-06\u001b[0m\u001b[1;39m,\n",
      "    \u001b[0m\u001b[34;1m\"doc\"\u001b[0m\u001b[1;39m: \u001b[0m\u001b[0;32m\"EPSILON- model metadata\"\u001b[0m\u001b[1;39m,\n",
      "    \u001b[0m\u001b[34;1m\"type\"\u001b[0m\u001b[1;39m: \u001b[0m\u001b[0;32m\"float[]\"\u001b[0m\u001b[1;39m\n",
      "  \u001b[1;39m}\u001b[0m\u001b[1;39m,\n",
      "  \u001b[0m\u001b[34;1m\"LEARNING_RATE\"\u001b[0m\u001b[1;39m: \u001b[0m\u001b[1;39m{\n",
      "    \u001b[0m\u001b[34;1m\"label\"\u001b[0m\u001b[1;39m: \u001b[0m\u001b[0;32m\"LEARNING_RATE\"\u001b[0m\u001b[1;39m,\n",
      "    \u001b[0m\u001b[34;1m\"default\"\u001b[0m\u001b[1;39m: \u001b[0m\u001b[0;39m0.0001\u001b[0m\u001b[1;39m,\n",
      "    \u001b[0m\u001b[34;1m\"doc\"\u001b[0m\u001b[1;39m: \u001b[0m\u001b[0;32m\"LEARNING_RATE- model metadata\"\u001b[0m\u001b[1;39m,\n",
      "    \u001b[0m\u001b[34;1m\"type\"\u001b[0m\u001b[1;39m: \u001b[0m\u001b[0;32m\"float[]\"\u001b[0m\u001b[1;39m\n",
      "  \u001b[1;39m}\u001b[0m\u001b[1;39m,\n",
      "  \u001b[0m\u001b[34;1m\"LOSS\"\u001b[0m\u001b[1;39m: \u001b[0m\u001b[1;39m{\n",
      "    \u001b[0m\u001b[34;1m\"label\"\u001b[0m\u001b[1;39m: \u001b[0m\u001b[0;32m\"LOSS\"\u001b[0m\u001b[1;39m,\n",
      "    \u001b[0m\u001b[34;1m\"default\"\u001b[0m\u001b[1;39m: \u001b[0m\u001b[0;32m\"categorical_crossentropy\"\u001b[0m\u001b[1;39m,\n",
      "    \u001b[0m\u001b[34;1m\"doc\"\u001b[0m\u001b[1;39m: \u001b[0m\u001b[0;32m\"LOSS- model metadata\"\u001b[0m\u001b[1;39m,\n",
      "    \u001b[0m\u001b[34;1m\"type\"\u001b[0m\u001b[1;39m: \u001b[0m\u001b[0;32m\"string[]\"\u001b[0m\u001b[1;39m\n",
      "  \u001b[1;39m}\u001b[0m\u001b[1;39m,\n",
      "  \u001b[0m\u001b[34;1m\"MEMENTUM\"\u001b[0m\u001b[1;39m: \u001b[0m\u001b[1;39m{\n",
      "    \u001b[0m\u001b[34;1m\"label\"\u001b[0m\u001b[1;39m: \u001b[0m\u001b[0;32m\"MEMENTUM\"\u001b[0m\u001b[1;39m,\n",
      "    \u001b[0m\u001b[34;1m\"default\"\u001b[0m\u001b[1;39m: \u001b[0m\u001b[0;39m0.95\u001b[0m\u001b[1;39m,\n",
      "    \u001b[0m\u001b[34;1m\"doc\"\u001b[0m\u001b[1;39m: \u001b[0m\u001b[0;32m\"MEMENTUM- model metadata\"\u001b[0m\u001b[1;39m,\n",
      "    \u001b[0m\u001b[34;1m\"type\"\u001b[0m\u001b[1;39m: \u001b[0m\u001b[0;32m\"float[]\"\u001b[0m\u001b[1;39m\n",
      "  \u001b[1;39m}\u001b[0m\u001b[1;39m,\n",
      "  \u001b[0m\u001b[34;1m\"OPTIMIZER\"\u001b[0m\u001b[1;39m: \u001b[0m\u001b[1;39m{\n",
      "    \u001b[0m\u001b[34;1m\"label\"\u001b[0m\u001b[1;39m: \u001b[0m\u001b[0;32m\"OPTIMIZER\"\u001b[0m\u001b[1;39m,\n",
      "    \u001b[0m\u001b[34;1m\"default\"\u001b[0m\u001b[1;39m: \u001b[0m\u001b[0;32m\"Adam\"\u001b[0m\u001b[1;39m,\n",
      "    \u001b[0m\u001b[34;1m\"doc\"\u001b[0m\u001b[1;39m: \u001b[0m\u001b[0;32m\"OPTIMIZER- model metadata\"\u001b[0m\u001b[1;39m,\n",
      "    \u001b[0m\u001b[34;1m\"type\"\u001b[0m\u001b[1;39m: \u001b[0m\u001b[0;32m\"string[]\"\u001b[0m\u001b[1;39m\n",
      "  \u001b[1;39m}\u001b[0m\u001b[1;39m,\n",
      "  \u001b[0m\u001b[34;1m\"REGULARIZER\"\u001b[0m\u001b[1;39m: \u001b[0m\u001b[1;39m{\n",
      "    \u001b[0m\u001b[34;1m\"label\"\u001b[0m\u001b[1;39m: \u001b[0m\u001b[0;32m\"REGULARIZER\"\u001b[0m\u001b[1;39m,\n",
      "    \u001b[0m\u001b[34;1m\"default\"\u001b[0m\u001b[1;39m: \u001b[0m\u001b[0;32m\"None\"\u001b[0m\u001b[1;39m,\n",
      "    \u001b[0m\u001b[34;1m\"doc\"\u001b[0m\u001b[1;39m: \u001b[0m\u001b[0;32m\"REGULARIZER- model metadata\"\u001b[0m\u001b[1;39m,\n",
      "    \u001b[0m\u001b[34;1m\"type\"\u001b[0m\u001b[1;39m: \u001b[0m\u001b[0;32m\"string[]\"\u001b[0m\u001b[1;39m\n",
      "  \u001b[1;39m}\u001b[0m\u001b[1;39m,\n",
      "  \u001b[0m\u001b[34;1m\"SAMPLES_PER_CLASS\"\u001b[0m\u001b[1;39m: \u001b[0m\u001b[1;39m{\n",
      "    \u001b[0m\u001b[34;1m\"label\"\u001b[0m\u001b[1;39m: \u001b[0m\u001b[0;32m\"SAMPLES_PER_CLASS\"\u001b[0m\u001b[1;39m,\n",
      "    \u001b[0m\u001b[34;1m\"default\"\u001b[0m\u001b[1;39m: \u001b[0m\u001b[0;39m500\u001b[0m\u001b[1;39m,\n",
      "    \u001b[0m\u001b[34;1m\"doc\"\u001b[0m\u001b[1;39m: \u001b[0m\u001b[0;32m\"SAMPLES_PER_CLASS- model metadata\"\u001b[0m\u001b[1;39m,\n",
      "    \u001b[0m\u001b[34;1m\"type\"\u001b[0m\u001b[1;39m: \u001b[0m\u001b[0;32m\"int\"\u001b[0m\u001b[1;39m\n",
      "  \u001b[1;39m}\u001b[0m\u001b[1;39m\n",
      "\u001b[1;39m}\u001b[0m\n"
     ]
    }
   ],
   "source": [
    "yq '.[\"$graph\"][0].inputs' ${WORKSPACE}/training/app-package/tile-sat-training.cwl"
   ]
  },
  {
   "cell_type": "markdown",
   "metadata": {},
   "source": [
    "Inspect the docker refrence"
   ]
  },
  {
   "cell_type": "code",
   "execution_count": 3,
   "metadata": {
    "vscode": {
     "languageId": "shellscript"
    }
   },
   "outputs": [
    {
     "name": "stdout",
     "output_type": "stream",
     "text": [
      "\u001b[0;32m\"ghcr.io/eoap/machine-learning-process/training@sha256:cbb97e479c9c5ca3b15257d034b0fce4ac5cba4e60e4b128b0fbe18f657a743f\"\u001b[0m\n"
     ]
    }
   ],
   "source": [
    "yq '.[\"$graph\"][] | select(.class == \"CommandLineTool\") | .hints.DockerRequirement.dockerPull' ${WORKSPACE}/training/app-package/tile-sat-training.cwl"
   ]
  },
  {
   "cell_type": "markdown",
   "metadata": {},
   "source": [
    "Updating the docker refrence with the latest verion"
   ]
  },
  {
   "cell_type": "code",
   "execution_count": 4,
   "metadata": {
    "vscode": {
     "languageId": "shellscript"
    }
   },
   "outputs": [
    {
     "name": "stdout",
     "output_type": "stream",
     "text": [
      "  % Total    % Received % Xferd  Average Speed   Time    Time     Time  Current\n",
      "                                 Dload  Upload   Total   Spent    Left  Speed\n",
      "  0     0    0     0    0     0      0      0 --:--:-- --:--:-- --:--:--     0\n",
      "100  5546  100  5546    0     0   6044      0 --:--:-- --:--:-- --:--:-- 3261k\n",
      "Updated DockerPull: \n",
      "\u001b[0;32m\"ghcr.io/eoap/machine-learning-process/training@sha256:cbb97e479c9c5ca3b15257d034b0fce4ac5cba4e60e4b128b0fbe18f657a743f\"\u001b[0m\n"
     ]
    }
   ],
   "source": [
    "VERSION=$(curl -s https://api.github.com/repos/eoap/machine-learning-process/releases/latest | jq -r '.tag_name')\n",
    "curl -L -o ${WORKSPACE}/training/app-package/tile-sat-training.cwl \\\n",
    "  \"https://github.com/eoap/machine-learning-process/releases/download/${VERSION}/tile-sat-training.${VERSION}.cwl\"\n",
    "\n",
    "echo \"Updated DockerPull: \" && yq '.[\"$graph\"][] | select(.class == \"CommandLineTool\") | .hints.DockerRequirement.dockerPull' ${WORKSPACE}/training/app-package/tile-sat-training.cwl\n"
   ]
  },
  {
   "cell_type": "markdown",
   "metadata": {},
   "source": [
    "## Train a tile-based classifier with EuroSAT\n",
    "In the cells below, the user have two options to run the `tile-sat-training` application package including:\n",
    "- cwltool\n",
    "- Calrissian"
   ]
  },
  {
   "cell_type": "code",
   "execution_count": null,
   "metadata": {
    "vscode": {
     "languageId": "shellscript"
    }
   },
   "outputs": [],
   "source": [
    "cwltool \\\n",
    "    --debug \\\n",
    "    --outdir ${WORKSPACE}/runs \\\n",
    "    ${WORKSPACE}/training/app-package/tile-sat-training.cwl#tile-sat-training \\\n",
    "    ${WORKSPACE}/practice-labs/3-CWL-Workflows/params_training.yaml "
   ]
  },
  {
   "cell_type": "code",
   "execution_count": null,
   "metadata": {
    "vscode": {
     "languageId": "shellscript"
    }
   },
   "outputs": [],
   "source": [
    "calrissian --debug \\\n",
    "    --stdout /calrissian/out.json \\\n",
    "    --stderr /calrissian/stderr.log \\\n",
    "    --usage-report /calrissian/report.json \\\n",
    "    --parallel \\\n",
    "    --max-ram 10G \\\n",
    "    --max-cores 2 \\\n",
    "    --tmp-outdir-prefix /calrissian/tmp/ \\\n",
    "    --outdir ${WORKSPACE}/runs \\\n",
    "    --tool-logs-basepath /calrissian/logs \\\n",
    "    ${WORKSPACE}/training/app-package/tile-sat-training.cwl#tile-sat-training \\\n",
    "    ${WORKSPACE}/practice-labs/3-CWL-Workflows/params_training.yaml "
   ]
  },
  {
   "cell_type": "markdown",
   "metadata": {},
   "source": [
    "List the outputs:"
   ]
  },
  {
   "cell_type": "code",
   "execution_count": 13,
   "metadata": {
    "vscode": {
     "languageId": "shellscript"
    }
   },
   "outputs": [
    {
     "name": "stdout",
     "output_type": "stream",
     "text": [
      "/workspace/machine-learning-process/runs\n",
      "└── train.log\n",
      "\n",
      "0 directories, 1 file\n"
     ]
    }
   ],
   "source": [
    "tree ${WORKSPACE}/runs"
   ]
  },
  {
   "cell_type": "markdown",
   "metadata": {},
   "source": [
    "The user may train several tile-based classifiers using the `tile-based-training` module. One of the tracked artifacts through MLflow is the model's weights. The next step is to retrieve the best model, based on the desired evaluation metric, from the MLflow artifact registry and convert it to the ONNX format. This activity is explained in [\"Export the Best Model to ONNX Format\"](./ExtractModel.ipynb). Finally, this model can be integrated into the inference application package.\n",
    "\n",
    "> **Note:** This process has already been completed. However, users may need to repeat it with their own candidate models.\n"
   ]
  },
  {
   "cell_type": "markdown",
   "metadata": {},
   "source": [
    "## Clean-up "
   ]
  },
  {
   "cell_type": "code",
   "execution_count": null,
   "metadata": {
    "vscode": {
     "languageId": "shellscript"
    }
   },
   "outputs": [],
   "source": [
    "rm -fr ${RUNTIME}\n",
    "#### Un comment the line below to remove the docker image\n",
    "# docker rmi -f $(docker images -aq)"
   ]
  }
 ],
 "metadata": {
  "kernelspec": {
   "display_name": "Bash",
   "language": "bash",
   "name": "bash"
  },
  "language_info": {
   "codemirror_mode": "shell",
   "file_extension": ".sh",
   "mimetype": "text/x-sh",
   "name": "bash"
  }
 },
 "nbformat": 4,
 "nbformat_minor": 2
}
