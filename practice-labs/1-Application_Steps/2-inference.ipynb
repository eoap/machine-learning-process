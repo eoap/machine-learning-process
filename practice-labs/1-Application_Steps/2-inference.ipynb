{
 "cells": [
  {
   "cell_type": "markdown",
   "metadata": {},
   "source": [
    "# Run the Inference step"
   ]
  },
  {
   "cell_type": "markdown",
   "metadata": {},
   "source": [
    "## Setup the environment"
   ]
  },
  {
   "cell_type": "code",
   "execution_count": 1,
   "metadata": {
    "vscode": {
     "languageId": "shellscript"
    }
   },
   "outputs": [
    {
     "name": "stdout",
     "output_type": "stream",
     "text": [
      "XDG_RUNTIME_DIR=/workspace/.local\n",
      "RUNTIME=/workspace/machine-learning-process/runs\n",
      "/workspace/machine-learning-process/runs\n"
     ]
    }
   ],
   "source": [
    "export WORKSPACE=/workspace/machine-learning-process\n",
    "export RUNTIME=${WORKSPACE}/runs\n",
    "mkdir -p ${RUNTIME}\n",
    "cd ${RUNTIME}\n",
    "printenv | grep RUNTIME\n",
    "pwd"
   ]
  },
  {
   "cell_type": "markdown",
   "metadata": {},
   "source": [
    "## Create a hatch environment\n",
    "\n",
    "The hatch environment provides a dedicated Python where the `make-inference` step dependencies are installed. This process can be done with hatch."
   ]
  },
  {
   "cell_type": "code",
   "execution_count": 5,
   "metadata": {
    "vscode": {
     "languageId": "shellscript"
    }
   },
   "outputs": [
    {
     "name": "stdout",
     "output_type": "stream",
     "text": [
      "\u001b[2K\u001b[32m.  \u001b[0m \u001b[1;35mCreating environment: default\u001b[0m0m\n",
      "\u001b[2K\u001b[32m   \u001b[0m \u001b[1;35mInstalling project in development mode\u001b[0mt mode\u001b[0m\n",
      "\u001b[1A\u001b[2K\u001b[?25l\u001b[32m.  \u001b[0m \u001b[1;35mChecking dependencies\u001b[0m\n",
      "\u001b[2K\u001b[32m.. \u001b[0m \u001b[1;35mSyncing dependencies\u001b[0mencies\u001b[0m\n",
      "\u001b[1A\u001b[2K\n",
      "\u001b[1m/workspace/machine-learning-process/runs/envs/make_inference\u001b[0m\u001b[1m\n",
      "\u001b[0m\n"
     ]
    }
   ],
   "source": [
    "cd ${WORKSPACE}/inference/make-inference\n",
    "hatch env prune\n",
    "hatch env create default\n",
    "hatch env find default"
   ]
  },
  {
   "cell_type": "code",
   "execution_count": 9,
   "metadata": {
    "vscode": {
     "languageId": "shellscript"
    }
   },
   "outputs": [
    {
     "name": "stdout",
     "output_type": "stream",
     "text": [
      "                      Standalone                      \n",
      "┏━━━━━━━━━┳━━━━━━━━━┳━━━━━━━━━━━━━━━━━━━━┳━━━━━━━━━━━┓\n",
      "┃\u001b[1m \u001b[0m\u001b[1mName   \u001b[0m\u001b[1m \u001b[0m┃\u001b[1m \u001b[0m\u001b[1mType   \u001b[0m\u001b[1m \u001b[0m┃\u001b[1m \u001b[0m\u001b[1mDependencies      \u001b[0m\u001b[1m \u001b[0m┃\u001b[1m \u001b[0m\u001b[1mScripts  \u001b[0m\u001b[1m \u001b[0m┃\n",
      "┡━━━━━━━━━╇━━━━━━━━━╇━━━━━━━━━━━━━━━━━━━━╇━━━━━━━━━━━┩\n",
      "│\u001b[1m \u001b[0m\u001b[1mdefault\u001b[0m\u001b[1m \u001b[0m│\u001b[1m \u001b[0m\u001b[1mvirtual\u001b[0m\u001b[1m \u001b[0m│\u001b[1m \u001b[0m\u001b[1mclick             \u001b[0m\u001b[1m \u001b[0m│\u001b[1m \u001b[0m\u001b[1m         \u001b[0m\u001b[1m \u001b[0m│\n",
      "│\u001b[1m         \u001b[0m│\u001b[1m         \u001b[0m│\u001b[1m \u001b[0m\u001b[1mgeoreader-spaceml \u001b[0m\u001b[1m \u001b[0m│\u001b[1m           \u001b[0m│\n",
      "│\u001b[1m         \u001b[0m│\u001b[1m         \u001b[0m│\u001b[1m \u001b[0m\u001b[1mloguru            \u001b[0m\u001b[1m \u001b[0m│\u001b[1m           \u001b[0m│\n",
      "│\u001b[1m         \u001b[0m│\u001b[1m         \u001b[0m│\u001b[1m \u001b[0m\u001b[1mnumpy             \u001b[0m\u001b[1m \u001b[0m│\u001b[1m           \u001b[0m│\n",
      "│\u001b[1m         \u001b[0m│\u001b[1m         \u001b[0m│\u001b[1m \u001b[0m\u001b[1monnx              \u001b[0m\u001b[1m \u001b[0m│\u001b[1m           \u001b[0m│\n",
      "│\u001b[1m         \u001b[0m│\u001b[1m         \u001b[0m│\u001b[1m \u001b[0m\u001b[1monnxmltools       \u001b[0m\u001b[1m \u001b[0m│\u001b[1m           \u001b[0m│\n",
      "│\u001b[1m         \u001b[0m│\u001b[1m         \u001b[0m│\u001b[1m \u001b[0m\u001b[1monnxruntime       \u001b[0m\u001b[1m \u001b[0m│\u001b[1m           \u001b[0m│\n",
      "│\u001b[1m         \u001b[0m│\u001b[1m         \u001b[0m│\u001b[1m \u001b[0m\u001b[1mplanetary-computer\u001b[0m\u001b[1m \u001b[0m│\u001b[1m           \u001b[0m│\n",
      "│\u001b[1m         \u001b[0m│\u001b[1m         \u001b[0m│\u001b[1m \u001b[0m\u001b[1mpystac-client     \u001b[0m\u001b[1m \u001b[0m│\u001b[1m           \u001b[0m│\n",
      "│\u001b[1m         \u001b[0m│\u001b[1m         \u001b[0m│\u001b[1m \u001b[0m\u001b[1mpystac>=1.4.0     \u001b[0m\u001b[1m \u001b[0m│\u001b[1m           \u001b[0m│\n",
      "│\u001b[1m         \u001b[0m│\u001b[1m         \u001b[0m│\u001b[1m \u001b[0m\u001b[1mrasterio          \u001b[0m\u001b[1m \u001b[0m│\u001b[1m           \u001b[0m│\n",
      "│\u001b[1m         \u001b[0m│\u001b[1m         \u001b[0m│\u001b[1m \u001b[0m\u001b[1mrio-stac          \u001b[0m\u001b[1m \u001b[0m│\u001b[1m           \u001b[0m│\n",
      "│\u001b[1m         \u001b[0m│\u001b[1m         \u001b[0m│\u001b[1m \u001b[0m\u001b[1mtf2onnx           \u001b[0m\u001b[1m \u001b[0m│\u001b[1m           \u001b[0m│\n",
      "│\u001b[1m         \u001b[0m│\u001b[1m         \u001b[0m│\u001b[1m \u001b[0m\u001b[1mtqdm              \u001b[0m\u001b[1m \u001b[0m│\u001b[1m           \u001b[0m│\n",
      "├─────────┼─────────┼────────────────────┼───────────┤\n",
      "│\u001b[1m \u001b[0m\u001b[1mprod   \u001b[0m\u001b[1m \u001b[0m│\u001b[1m \u001b[0m\u001b[1mvirtual\u001b[0m\u001b[1m \u001b[0m│\u001b[1m \u001b[0m\u001b[1mclick             \u001b[0m\u001b[1m \u001b[0m│\u001b[1m \u001b[0m\u001b[1minference\u001b[0m\u001b[1m \u001b[0m│\n",
      "│\u001b[1m         \u001b[0m│\u001b[1m         \u001b[0m│\u001b[1m \u001b[0m\u001b[1mgeoreader-spaceml \u001b[0m\u001b[1m \u001b[0m│\u001b[1m           \u001b[0m│\n",
      "│\u001b[1m         \u001b[0m│\u001b[1m         \u001b[0m│\u001b[1m \u001b[0m\u001b[1mloguru            \u001b[0m\u001b[1m \u001b[0m│\u001b[1m           \u001b[0m│\n",
      "│\u001b[1m         \u001b[0m│\u001b[1m         \u001b[0m│\u001b[1m \u001b[0m\u001b[1mnumpy             \u001b[0m\u001b[1m \u001b[0m│\u001b[1m           \u001b[0m│\n",
      "│\u001b[1m         \u001b[0m│\u001b[1m         \u001b[0m│\u001b[1m \u001b[0m\u001b[1monnx              \u001b[0m\u001b[1m \u001b[0m│\u001b[1m           \u001b[0m│\n",
      "│\u001b[1m         \u001b[0m│\u001b[1m         \u001b[0m│\u001b[1m \u001b[0m\u001b[1monnxmltools       \u001b[0m\u001b[1m \u001b[0m│\u001b[1m           \u001b[0m│\n",
      "│\u001b[1m         \u001b[0m│\u001b[1m         \u001b[0m│\u001b[1m \u001b[0m\u001b[1monnxruntime       \u001b[0m\u001b[1m \u001b[0m│\u001b[1m           \u001b[0m│\n",
      "│\u001b[1m         \u001b[0m│\u001b[1m         \u001b[0m│\u001b[1m \u001b[0m\u001b[1mplanetary-computer\u001b[0m\u001b[1m \u001b[0m│\u001b[1m           \u001b[0m│\n",
      "│\u001b[1m         \u001b[0m│\u001b[1m         \u001b[0m│\u001b[1m \u001b[0m\u001b[1mpystac-client     \u001b[0m\u001b[1m \u001b[0m│\u001b[1m           \u001b[0m│\n",
      "│\u001b[1m         \u001b[0m│\u001b[1m         \u001b[0m│\u001b[1m \u001b[0m\u001b[1mpystac>=1.4.0     \u001b[0m\u001b[1m \u001b[0m│\u001b[1m           \u001b[0m│\n",
      "│\u001b[1m         \u001b[0m│\u001b[1m         \u001b[0m│\u001b[1m \u001b[0m\u001b[1mrasterio          \u001b[0m\u001b[1m \u001b[0m│\u001b[1m           \u001b[0m│\n",
      "│\u001b[1m         \u001b[0m│\u001b[1m         \u001b[0m│\u001b[1m \u001b[0m\u001b[1mrio-stac          \u001b[0m\u001b[1m \u001b[0m│\u001b[1m           \u001b[0m│\n",
      "│\u001b[1m         \u001b[0m│\u001b[1m         \u001b[0m│\u001b[1m \u001b[0m\u001b[1mtf2onnx           \u001b[0m\u001b[1m \u001b[0m│\u001b[1m           \u001b[0m│\n",
      "│\u001b[1m         \u001b[0m│\u001b[1m         \u001b[0m│\u001b[1m \u001b[0m\u001b[1mtqdm              \u001b[0m\u001b[1m \u001b[0m│\u001b[1m           \u001b[0m│\n",
      "└─────────┴─────────┴────────────────────┴───────────┘\n",
      "                      Matrices                       \n",
      "┏━━━━━━┳━━━━━━━━━┳━━━━━━━━━━━━━┳━━━━━━━━━━━━━━━━━━━━┓\n",
      "┃\u001b[1m \u001b[0m\u001b[1mName\u001b[0m\u001b[1m \u001b[0m┃\u001b[1m \u001b[0m\u001b[1mType   \u001b[0m\u001b[1m \u001b[0m┃\u001b[1m \u001b[0m\u001b[1mEnvs       \u001b[0m\u001b[1m \u001b[0m┃\u001b[1m \u001b[0m\u001b[1mDependencies      \u001b[0m\u001b[1m \u001b[0m┃\n",
      "┡━━━━━━╇━━━━━━━━━╇━━━━━━━━━━━━━╇━━━━━━━━━━━━━━━━━━━━┩\n",
      "│\u001b[1m \u001b[0m\u001b[1mtest\u001b[0m\u001b[1m \u001b[0m│\u001b[1m \u001b[0m\u001b[1mvirtual\u001b[0m\u001b[1m \u001b[0m│\u001b[1m \u001b[0m\u001b[1mtest.py3.10\u001b[0m\u001b[1m \u001b[0m│\u001b[1m \u001b[0m\u001b[1mclick             \u001b[0m\u001b[1m \u001b[0m│\n",
      "│\u001b[1m      \u001b[0m│\u001b[1m         \u001b[0m│\u001b[1m             \u001b[0m│\u001b[1m \u001b[0m\u001b[1mgeoreader-spaceml \u001b[0m\u001b[1m \u001b[0m│\n",
      "│\u001b[1m      \u001b[0m│\u001b[1m         \u001b[0m│\u001b[1m             \u001b[0m│\u001b[1m \u001b[0m\u001b[1mloguru            \u001b[0m\u001b[1m \u001b[0m│\n",
      "│\u001b[1m      \u001b[0m│\u001b[1m         \u001b[0m│\u001b[1m             \u001b[0m│\u001b[1m \u001b[0m\u001b[1mnumpy             \u001b[0m\u001b[1m \u001b[0m│\n",
      "│\u001b[1m      \u001b[0m│\u001b[1m         \u001b[0m│\u001b[1m             \u001b[0m│\u001b[1m \u001b[0m\u001b[1monnx              \u001b[0m\u001b[1m \u001b[0m│\n",
      "│\u001b[1m      \u001b[0m│\u001b[1m         \u001b[0m│\u001b[1m             \u001b[0m│\u001b[1m \u001b[0m\u001b[1monnxmltools       \u001b[0m\u001b[1m \u001b[0m│\n",
      "│\u001b[1m      \u001b[0m│\u001b[1m         \u001b[0m│\u001b[1m             \u001b[0m│\u001b[1m \u001b[0m\u001b[1monnxruntime       \u001b[0m\u001b[1m \u001b[0m│\n",
      "│\u001b[1m      \u001b[0m│\u001b[1m         \u001b[0m│\u001b[1m             \u001b[0m│\u001b[1m \u001b[0m\u001b[1mplanetary-computer\u001b[0m\u001b[1m \u001b[0m│\n",
      "│\u001b[1m      \u001b[0m│\u001b[1m         \u001b[0m│\u001b[1m             \u001b[0m│\u001b[1m \u001b[0m\u001b[1mpystac-client     \u001b[0m\u001b[1m \u001b[0m│\n",
      "│\u001b[1m      \u001b[0m│\u001b[1m         \u001b[0m│\u001b[1m             \u001b[0m│\u001b[1m \u001b[0m\u001b[1mpystac>=1.4.0     \u001b[0m\u001b[1m \u001b[0m│\n",
      "│\u001b[1m      \u001b[0m│\u001b[1m         \u001b[0m│\u001b[1m             \u001b[0m│\u001b[1m \u001b[0m\u001b[1mrasterio          \u001b[0m\u001b[1m \u001b[0m│\n",
      "│\u001b[1m      \u001b[0m│\u001b[1m         \u001b[0m│\u001b[1m             \u001b[0m│\u001b[1m \u001b[0m\u001b[1mrio-stac          \u001b[0m\u001b[1m \u001b[0m│\n",
      "│\u001b[1m      \u001b[0m│\u001b[1m         \u001b[0m│\u001b[1m             \u001b[0m│\u001b[1m \u001b[0m\u001b[1mtf2onnx           \u001b[0m\u001b[1m \u001b[0m│\n",
      "│\u001b[1m      \u001b[0m│\u001b[1m         \u001b[0m│\u001b[1m             \u001b[0m│\u001b[1m \u001b[0m\u001b[1mtqdm              \u001b[0m\u001b[1m \u001b[0m│\n",
      "└──────┴─────────┴─────────────┴────────────────────┘\n"
     ]
    }
   ],
   "source": [
    "hatch env show"
   ]
  },
  {
   "cell_type": "markdown",
   "metadata": {},
   "source": [
    "## Run the make-inference application \n",
    "\n",
    "First dump the help:"
   ]
  },
  {
   "cell_type": "code",
   "execution_count": 7,
   "metadata": {
    "vscode": {
     "languageId": "shellscript"
    }
   },
   "outputs": [
    {
     "name": "stdout",
     "output_type": "stream",
     "text": [
      "Usage: make-inference [OPTIONS]\n",
      "\n",
      "  A selected model with highest evaluation metrics will making an inference on\n",
      "  a sentinel-2  data\n",
      "\n",
      "Options:\n",
      "  -i, --input_reference PATH  Url to sentinel-2 STAC Item to provide inference\n",
      "                              on tif images for 12 common bands(excluding\n",
      "                              cirrus)  [required]\n",
      "  --help                      Show this message and exit.\n"
     ]
    }
   ],
   "source": [
    "hatch run default:make-inference --help"
   ]
  },
  {
   "cell_type": "markdown",
   "metadata": {},
   "source": [
    "Now, run the `make-inference` command line tool with the parameters:\n",
    "\n",
    "- input_reference: https://planetarycomputer.microsoft.com/api/stac/v1/collections/sentinel-2-l2a/items/S2C_MSIL2A_20250420T093051_R136_T35ULS_20250420T125212"
   ]
  },
  {
   "cell_type": "code",
   "execution_count": 8,
   "metadata": {
    "vscode": {
     "languageId": "shellscript"
    }
   },
   "outputs": [
    {
     "name": "stdout",
     "output_type": "stream",
     "text": [
      "Asset href https://sentinel2l2a01.blob.core.windows.net/sentinel2-l2/35/U/LS/2025/04/20/S2C_MSIL2A_20250420T093051_N0511_R136_T35ULS_20250420T125212.SAFE/GRANULE/L2A_T35ULS_A003252_20250420T093552/IMG_DATA/R60m/T35ULS_20250420T093051_B01_60m.tif?st=2025-05-07T14%3A46%3A26Z&se=2025-05-08T15%3A31%3A26Z&sp=rl&sv=2024-05-04&sr=c&skoid=9c8ff44a-6a2c-4dfb-b298-1c9212f64d9a&sktid=72f988bf-86f1-41af-91ab-2d7cd011db47&skt=2025-05-08T01%3A19%3A48Z&ske=2025-05-15T01%3A19%3A48Z&sks=b&skv=2024-05-04&sig=IDA7m2I8j2ba3YApv8Ve8y86MQBf0OQHj0C5OLBbYQI%3D with common name B01 found\n",
      "Asset href https://sentinel2l2a01.blob.core.windows.net/sentinel2-l2/35/U/LS/2025/04/20/S2C_MSIL2A_20250420T093051_N0511_R136_T35ULS_20250420T125212.SAFE/GRANULE/L2A_T35ULS_A003252_20250420T093552/IMG_DATA/R10m/T35ULS_20250420T093051_B02_10m.tif?st=2025-05-07T14%3A46%3A26Z&se=2025-05-08T15%3A31%3A26Z&sp=rl&sv=2024-05-04&sr=c&skoid=9c8ff44a-6a2c-4dfb-b298-1c9212f64d9a&sktid=72f988bf-86f1-41af-91ab-2d7cd011db47&skt=2025-05-08T01%3A19%3A48Z&ske=2025-05-15T01%3A19%3A48Z&sks=b&skv=2024-05-04&sig=IDA7m2I8j2ba3YApv8Ve8y86MQBf0OQHj0C5OLBbYQI%3D with common name B02 found\n",
      "Asset href https://sentinel2l2a01.blob.core.windows.net/sentinel2-l2/35/U/LS/2025/04/20/S2C_MSIL2A_20250420T093051_N0511_R136_T35ULS_20250420T125212.SAFE/GRANULE/L2A_T35ULS_A003252_20250420T093552/IMG_DATA/R10m/T35ULS_20250420T093051_B03_10m.tif?st=2025-05-07T14%3A46%3A26Z&se=2025-05-08T15%3A31%3A26Z&sp=rl&sv=2024-05-04&sr=c&skoid=9c8ff44a-6a2c-4dfb-b298-1c9212f64d9a&sktid=72f988bf-86f1-41af-91ab-2d7cd011db47&skt=2025-05-08T01%3A19%3A48Z&ske=2025-05-15T01%3A19%3A48Z&sks=b&skv=2024-05-04&sig=IDA7m2I8j2ba3YApv8Ve8y86MQBf0OQHj0C5OLBbYQI%3D with common name B03 found\n",
      "Asset href https://sentinel2l2a01.blob.core.windows.net/sentinel2-l2/35/U/LS/2025/04/20/S2C_MSIL2A_20250420T093051_N0511_R136_T35ULS_20250420T125212.SAFE/GRANULE/L2A_T35ULS_A003252_20250420T093552/IMG_DATA/R10m/T35ULS_20250420T093051_B04_10m.tif?st=2025-05-07T14%3A46%3A26Z&se=2025-05-08T15%3A31%3A26Z&sp=rl&sv=2024-05-04&sr=c&skoid=9c8ff44a-6a2c-4dfb-b298-1c9212f64d9a&sktid=72f988bf-86f1-41af-91ab-2d7cd011db47&skt=2025-05-08T01%3A19%3A48Z&ske=2025-05-15T01%3A19%3A48Z&sks=b&skv=2024-05-04&sig=IDA7m2I8j2ba3YApv8Ve8y86MQBf0OQHj0C5OLBbYQI%3D with common name B04 found\n",
      "Asset href https://sentinel2l2a01.blob.core.windows.net/sentinel2-l2/35/U/LS/2025/04/20/S2C_MSIL2A_20250420T093051_N0511_R136_T35ULS_20250420T125212.SAFE/GRANULE/L2A_T35ULS_A003252_20250420T093552/IMG_DATA/R20m/T35ULS_20250420T093051_B05_20m.tif?st=2025-05-07T14%3A46%3A26Z&se=2025-05-08T15%3A31%3A26Z&sp=rl&sv=2024-05-04&sr=c&skoid=9c8ff44a-6a2c-4dfb-b298-1c9212f64d9a&sktid=72f988bf-86f1-41af-91ab-2d7cd011db47&skt=2025-05-08T01%3A19%3A48Z&ske=2025-05-15T01%3A19%3A48Z&sks=b&skv=2024-05-04&sig=IDA7m2I8j2ba3YApv8Ve8y86MQBf0OQHj0C5OLBbYQI%3D with common name B05 found\n",
      "Asset href https://sentinel2l2a01.blob.core.windows.net/sentinel2-l2/35/U/LS/2025/04/20/S2C_MSIL2A_20250420T093051_N0511_R136_T35ULS_20250420T125212.SAFE/GRANULE/L2A_T35ULS_A003252_20250420T093552/IMG_DATA/R20m/T35ULS_20250420T093051_B06_20m.tif?st=2025-05-07T14%3A46%3A26Z&se=2025-05-08T15%3A31%3A26Z&sp=rl&sv=2024-05-04&sr=c&skoid=9c8ff44a-6a2c-4dfb-b298-1c9212f64d9a&sktid=72f988bf-86f1-41af-91ab-2d7cd011db47&skt=2025-05-08T01%3A19%3A48Z&ske=2025-05-15T01%3A19%3A48Z&sks=b&skv=2024-05-04&sig=IDA7m2I8j2ba3YApv8Ve8y86MQBf0OQHj0C5OLBbYQI%3D with common name B06 found\n",
      "Asset href https://sentinel2l2a01.blob.core.windows.net/sentinel2-l2/35/U/LS/2025/04/20/S2C_MSIL2A_20250420T093051_N0511_R136_T35ULS_20250420T125212.SAFE/GRANULE/L2A_T35ULS_A003252_20250420T093552/IMG_DATA/R20m/T35ULS_20250420T093051_B07_20m.tif?st=2025-05-07T14%3A46%3A26Z&se=2025-05-08T15%3A31%3A26Z&sp=rl&sv=2024-05-04&sr=c&skoid=9c8ff44a-6a2c-4dfb-b298-1c9212f64d9a&sktid=72f988bf-86f1-41af-91ab-2d7cd011db47&skt=2025-05-08T01%3A19%3A48Z&ske=2025-05-15T01%3A19%3A48Z&sks=b&skv=2024-05-04&sig=IDA7m2I8j2ba3YApv8Ve8y86MQBf0OQHj0C5OLBbYQI%3D with common name B07 found\n",
      "Asset href https://sentinel2l2a01.blob.core.windows.net/sentinel2-l2/35/U/LS/2025/04/20/S2C_MSIL2A_20250420T093051_N0511_R136_T35ULS_20250420T125212.SAFE/GRANULE/L2A_T35ULS_A003252_20250420T093552/IMG_DATA/R10m/T35ULS_20250420T093051_B08_10m.tif?st=2025-05-07T14%3A46%3A26Z&se=2025-05-08T15%3A31%3A26Z&sp=rl&sv=2024-05-04&sr=c&skoid=9c8ff44a-6a2c-4dfb-b298-1c9212f64d9a&sktid=72f988bf-86f1-41af-91ab-2d7cd011db47&skt=2025-05-08T01%3A19%3A48Z&ske=2025-05-15T01%3A19%3A48Z&sks=b&skv=2024-05-04&sig=IDA7m2I8j2ba3YApv8Ve8y86MQBf0OQHj0C5OLBbYQI%3D with common name B08 found\n",
      "Asset href https://sentinel2l2a01.blob.core.windows.net/sentinel2-l2/35/U/LS/2025/04/20/S2C_MSIL2A_20250420T093051_N0511_R136_T35ULS_20250420T125212.SAFE/GRANULE/L2A_T35ULS_A003252_20250420T093552/IMG_DATA/R20m/T35ULS_20250420T093051_B8A_20m.tif?st=2025-05-07T14%3A46%3A26Z&se=2025-05-08T15%3A31%3A26Z&sp=rl&sv=2024-05-04&sr=c&skoid=9c8ff44a-6a2c-4dfb-b298-1c9212f64d9a&sktid=72f988bf-86f1-41af-91ab-2d7cd011db47&skt=2025-05-08T01%3A19%3A48Z&ske=2025-05-15T01%3A19%3A48Z&sks=b&skv=2024-05-04&sig=IDA7m2I8j2ba3YApv8Ve8y86MQBf0OQHj0C5OLBbYQI%3D with common name B8A found\n",
      "Asset href https://sentinel2l2a01.blob.core.windows.net/sentinel2-l2/35/U/LS/2025/04/20/S2C_MSIL2A_20250420T093051_N0511_R136_T35ULS_20250420T125212.SAFE/GRANULE/L2A_T35ULS_A003252_20250420T093552/IMG_DATA/R60m/T35ULS_20250420T093051_B09_60m.tif?st=2025-05-07T14%3A46%3A26Z&se=2025-05-08T15%3A31%3A26Z&sp=rl&sv=2024-05-04&sr=c&skoid=9c8ff44a-6a2c-4dfb-b298-1c9212f64d9a&sktid=72f988bf-86f1-41af-91ab-2d7cd011db47&skt=2025-05-08T01%3A19%3A48Z&ske=2025-05-15T01%3A19%3A48Z&sks=b&skv=2024-05-04&sig=IDA7m2I8j2ba3YApv8Ve8y86MQBf0OQHj0C5OLBbYQI%3D with common name B09 found\n",
      "Asset href https://sentinel2l2a01.blob.core.windows.net/sentinel2-l2/35/U/LS/2025/04/20/S2C_MSIL2A_20250420T093051_N0511_R136_T35ULS_20250420T125212.SAFE/GRANULE/L2A_T35ULS_A003252_20250420T093552/IMG_DATA/R20m/T35ULS_20250420T093051_B11_20m.tif?st=2025-05-07T14%3A46%3A26Z&se=2025-05-08T15%3A31%3A26Z&sp=rl&sv=2024-05-04&sr=c&skoid=9c8ff44a-6a2c-4dfb-b298-1c9212f64d9a&sktid=72f988bf-86f1-41af-91ab-2d7cd011db47&skt=2025-05-08T01%3A19%3A48Z&ske=2025-05-15T01%3A19%3A48Z&sks=b&skv=2024-05-04&sig=IDA7m2I8j2ba3YApv8Ve8y86MQBf0OQHj0C5OLBbYQI%3D with common name B11 found\n",
      "Asset href https://sentinel2l2a01.blob.core.windows.net/sentinel2-l2/35/U/LS/2025/04/20/S2C_MSIL2A_20250420T093051_N0511_R136_T35ULS_20250420T125212.SAFE/GRANULE/L2A_T35ULS_A003252_20250420T093552/IMG_DATA/R20m/T35ULS_20250420T093051_B12_20m.tif?st=2025-05-07T14%3A46%3A26Z&se=2025-05-08T15%3A31%3A26Z&sp=rl&sv=2024-05-04&sr=c&skoid=9c8ff44a-6a2c-4dfb-b298-1c9212f64d9a&sktid=72f988bf-86f1-41af-91ab-2d7cd011db47&skt=2025-05-08T01%3A19%3A48Z&ske=2025-05-15T01%3A19%3A48Z&sks=b&skv=2024-05-04&sig=IDA7m2I8j2ba3YApv8Ve8y86MQBf0OQHj0C5OLBbYQI%3D with common name B12 found\n",
      "\u001b[32m2025-05-08 14:46:26.356\u001b[0m | \u001b[1mINFO    \u001b[0m | \u001b[36mmake_inference.main\u001b[0m:\u001b[36mrun_inference\u001b[0m:\u001b[36m40\u001b[0m - \u001b[1mRead https://planetarycomputer.microsoft.com/api/stac/v1/collections/sentinel-2-l2a/items/S2C_MSIL2A_20250420T093051_R136_T35ULS_20250420T125212\u001b[0m\n",
      "\u001b[32m2025-05-08 14:46:26.370\u001b[0m | \u001b[1mINFO    \u001b[0m | \u001b[36mmake_inference.main\u001b[0m:\u001b[36mrun_inference\u001b[0m:\u001b[36m42\u001b[0m - \u001b[1mItem assets keys are: dict_keys(['AOT', 'B01', 'B02', 'B03', 'B04', 'B05', 'B06', 'B07', 'B08', 'B09', 'B11', 'B12', 'B8A', 'SCL', 'WVP', 'visual', 'safe-manifest', 'granule-metadata', 'inspire-metadata', 'product-metadata', 'datastrip-metadata', 'tilejson', 'rendered_preview']) \n",
      "\n",
      "Filtered assets: dict_keys(['B01', 'B02', 'B03', 'B04', 'B05', 'B06', 'B07', 'B08', 'B8A', 'B09', 'B11', 'B12'])\u001b[0m\n",
      "\u001b[32m2025-05-08 14:46:26.639\u001b[0m | \u001b[1mINFO    \u001b[0m | \u001b[36mmake_inference.ml_helper\u001b[0m:\u001b[36mresize_and_convert_to_cog\u001b[0m:\u001b[36m312\u001b[0m - \u001b[1mResizing ./B01.tif to 10980x10980\u001b[0m\n",
      "\u001b[32m2025-05-08 14:46:37.903\u001b[0m | \u001b[1mINFO    \u001b[0m | \u001b[36mmake_inference.ml_helper\u001b[0m:\u001b[36mresize_and_convert_to_cog\u001b[0m:\u001b[36m312\u001b[0m - \u001b[1mResizing ./B05.tif to 10980x10980\u001b[0m\n",
      "\u001b[32m2025-05-08 14:47:05.262\u001b[0m | \u001b[1mINFO    \u001b[0m | \u001b[36mmake_inference.ml_helper\u001b[0m:\u001b[36mresize_and_convert_to_cog\u001b[0m:\u001b[36m312\u001b[0m - \u001b[1mResizing ./B06.tif to 10980x10980\u001b[0m\n",
      "\n",
      "Aborted!\n"
     ]
    }
   ],
   "source": [
    "PRODUCT_ID=\"S2C_MSIL2A_20250420T093051_R136_T35ULS_20250420T125212\"\n",
    "hatch run default:make-inference \\\n",
    "    --input_reference https://planetarycomputer.microsoft.com/api/stac/v1/collections/sentinel-2-l2a/items/${PRODUCT_ID}"
   ]
  },
  {
   "cell_type": "markdown",
   "metadata": {},
   "source": [
    "List the outputs:"
   ]
  },
  {
   "cell_type": "code",
   "execution_count": null,
   "metadata": {
    "vscode": {
     "languageId": "shellscript"
    }
   },
   "outputs": [],
   "source": [
    "tree ${PRODUCT_ID}"
   ]
  },
  {
   "cell_type": "code",
   "execution_count": null,
   "metadata": {
    "vscode": {
     "languageId": "shellscript"
    }
   },
   "outputs": [],
   "source": [
    "exit\n",
    "rm -fr ${RUNTIME}/envs/make_inference ${PRODUCT_ID}"
   ]
  }
 ],
 "metadata": {
  "kernelspec": {
   "display_name": "Bash",
   "language": "bash",
   "name": "bash"
  },
  "language_info": {
   "codemirror_mode": "shell",
   "file_extension": ".sh",
   "mimetype": "text/x-sh",
   "name": "bash"
  }
 },
 "nbformat": 4,
 "nbformat_minor": 2
}
