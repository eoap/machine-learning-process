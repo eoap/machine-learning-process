{
 "cells": [
  {
   "cell_type": "markdown",
   "metadata": {},
   "source": [
    "# Run the Inference step"
   ]
  },
  {
   "cell_type": "markdown",
   "metadata": {},
   "source": [
    "## Setup the environment\n",
    "\n",
    "Navigate to the target folder"
   ]
  },
  {
   "cell_type": "code",
   "execution_count": 3,
   "metadata": {
    "vscode": {
     "languageId": "shellscript"
    }
   },
   "outputs": [
    {
     "name": "stdout",
     "output_type": "stream",
     "text": [
      "/home/t2/Desktop/p/argo/machine-learning-process/inference/make-inference\n",
      "Dockerfile  environment.yml  pyproject.toml  setup.cfg\tsetup.py  src\n"
     ]
    }
   ],
   "source": [
    "WORKSPACE='inference/make-inference'\n",
    "%cd ../../{WORKSPACE}\n",
    "!ls"
   ]
  },
  {
   "cell_type": "markdown",
   "metadata": {},
   "source": [
    "## Create a hatch environment\n",
    "\n",
    "The hatch environment provides a dedicated Python where the `make-inference` step dependencies are installed. This process can be done with hatch."
   ]
  },
  {
   "cell_type": "code",
   "execution_count": 4,
   "metadata": {
    "vscode": {
     "languageId": "shellscript"
    }
   },
   "outputs": [
    {
     "name": "stdout",
     "output_type": "stream",
     "text": [
      "\u001b[2K\u001b[32m...\u001b[0m \u001b[1;35mRemoving environment: prod\u001b[0m0m\n",
      "\u001b[2K\u001b[32m.  \u001b[0m \u001b[1;35mCreating environment: default\u001b[0mefault\u001b[0m\n",
      "\u001b[2K\u001b[33mDEPRECATION: --no-python-version-warning is deprecated. pip 25.1 will enforce this behaviour change. A possible replacement is to remove the flag as it's a no-op. Discussion can be found at https://github.com/pypa/pip/issues/13154\u001b[0m\u001b[33m\n",
      "\u001b[2K\u001b[32m ..\u001b[0m \u001b[1;35mInstalling project in development mode\u001b[0m\u001b[0m\n",
      "\u001b[1A\u001b[2K\u001b[?25l\u001b[32m.  \u001b[0m \u001b[1;35mChecking dependencies\u001b[0m\n",
      "\u001b[2K\u001b[33mDEPRECATION: --no-python-version-warning is deprecated. pip 25.1 will enforce this behaviour change. A possible replacement is to remove the flag as it's a no-op. Discussion can be found at https://github.com/pypa/pip/issues/13154\u001b[0m\u001b[33m\n",
      "\u001b[2K\u001b[32m...\u001b[0m \u001b[1;35mSyncing dependencies\u001b[0m\u001b[0m\n",
      "\u001b[1A\u001b[2K"
     ]
    }
   ],
   "source": [
    "!hatch env prune\n",
    "!hatch env create default"
   ]
  },
  {
   "cell_type": "code",
   "execution_count": 5,
   "metadata": {
    "vscode": {
     "languageId": "shellscript"
    }
   },
   "outputs": [
    {
     "name": "stdout",
     "output_type": "stream",
     "text": [
      "                      Standalone                      \n",
      "┏━━━━━━━━━┳━━━━━━━━━┳━━━━━━━━━━━━━━━━━━━━┳━━━━━━━━━━━┓\n",
      "┃\u001b[1m \u001b[0m\u001b[1mName   \u001b[0m\u001b[1m \u001b[0m┃\u001b[1m \u001b[0m\u001b[1mType   \u001b[0m\u001b[1m \u001b[0m┃\u001b[1m \u001b[0m\u001b[1mDependencies      \u001b[0m\u001b[1m \u001b[0m┃\u001b[1m \u001b[0m\u001b[1mScripts  \u001b[0m\u001b[1m \u001b[0m┃\n",
      "┡━━━━━━━━━╇━━━━━━━━━╇━━━━━━━━━━━━━━━━━━━━╇━━━━━━━━━━━┩\n",
      "│\u001b[1m \u001b[0m\u001b[1mdefault\u001b[0m\u001b[1m \u001b[0m│\u001b[1m \u001b[0m\u001b[1mvirtual\u001b[0m\u001b[1m \u001b[0m│\u001b[1m \u001b[0m\u001b[1mclick             \u001b[0m\u001b[1m \u001b[0m│\u001b[1m \u001b[0m\u001b[1m         \u001b[0m\u001b[1m \u001b[0m│\n",
      "│\u001b[1m         \u001b[0m│\u001b[1m         \u001b[0m│\u001b[1m \u001b[0m\u001b[1mgeoreader-spaceml \u001b[0m\u001b[1m \u001b[0m│\u001b[1m           \u001b[0m│\n",
      "│\u001b[1m         \u001b[0m│\u001b[1m         \u001b[0m│\u001b[1m \u001b[0m\u001b[1mloguru            \u001b[0m\u001b[1m \u001b[0m│\u001b[1m           \u001b[0m│\n",
      "│\u001b[1m         \u001b[0m│\u001b[1m         \u001b[0m│\u001b[1m \u001b[0m\u001b[1mnumpy             \u001b[0m\u001b[1m \u001b[0m│\u001b[1m           \u001b[0m│\n",
      "│\u001b[1m         \u001b[0m│\u001b[1m         \u001b[0m│\u001b[1m \u001b[0m\u001b[1monnx              \u001b[0m\u001b[1m \u001b[0m│\u001b[1m           \u001b[0m│\n",
      "│\u001b[1m         \u001b[0m│\u001b[1m         \u001b[0m│\u001b[1m \u001b[0m\u001b[1monnxmltools       \u001b[0m\u001b[1m \u001b[0m│\u001b[1m           \u001b[0m│\n",
      "│\u001b[1m         \u001b[0m│\u001b[1m         \u001b[0m│\u001b[1m \u001b[0m\u001b[1monnxruntime       \u001b[0m\u001b[1m \u001b[0m│\u001b[1m           \u001b[0m│\n",
      "│\u001b[1m         \u001b[0m│\u001b[1m         \u001b[0m│\u001b[1m \u001b[0m\u001b[1mplanetary-computer\u001b[0m\u001b[1m \u001b[0m│\u001b[1m           \u001b[0m│\n",
      "│\u001b[1m         \u001b[0m│\u001b[1m         \u001b[0m│\u001b[1m \u001b[0m\u001b[1mpystac-client     \u001b[0m\u001b[1m \u001b[0m│\u001b[1m           \u001b[0m│\n",
      "│\u001b[1m         \u001b[0m│\u001b[1m         \u001b[0m│\u001b[1m \u001b[0m\u001b[1mpystac>=1.4.0     \u001b[0m\u001b[1m \u001b[0m│\u001b[1m           \u001b[0m│\n",
      "│\u001b[1m         \u001b[0m│\u001b[1m         \u001b[0m│\u001b[1m \u001b[0m\u001b[1mrasterio          \u001b[0m\u001b[1m \u001b[0m│\u001b[1m           \u001b[0m│\n",
      "│\u001b[1m         \u001b[0m│\u001b[1m         \u001b[0m│\u001b[1m \u001b[0m\u001b[1mrio-stac          \u001b[0m\u001b[1m \u001b[0m│\u001b[1m           \u001b[0m│\n",
      "│\u001b[1m         \u001b[0m│\u001b[1m         \u001b[0m│\u001b[1m \u001b[0m\u001b[1mtf2onnx           \u001b[0m\u001b[1m \u001b[0m│\u001b[1m           \u001b[0m│\n",
      "│\u001b[1m         \u001b[0m│\u001b[1m         \u001b[0m│\u001b[1m \u001b[0m\u001b[1mtqdm              \u001b[0m\u001b[1m \u001b[0m│\u001b[1m           \u001b[0m│\n",
      "├─────────┼─────────┼────────────────────┼───────────┤\n",
      "│\u001b[1m \u001b[0m\u001b[1mprod   \u001b[0m\u001b[1m \u001b[0m│\u001b[1m \u001b[0m\u001b[1mvirtual\u001b[0m\u001b[1m \u001b[0m│\u001b[1m \u001b[0m\u001b[1mclick             \u001b[0m\u001b[1m \u001b[0m│\u001b[1m \u001b[0m\u001b[1minference\u001b[0m\u001b[1m \u001b[0m│\n",
      "│\u001b[1m         \u001b[0m│\u001b[1m         \u001b[0m│\u001b[1m \u001b[0m\u001b[1mgeoreader-spaceml \u001b[0m\u001b[1m \u001b[0m│\u001b[1m           \u001b[0m│\n",
      "│\u001b[1m         \u001b[0m│\u001b[1m         \u001b[0m│\u001b[1m \u001b[0m\u001b[1mloguru            \u001b[0m\u001b[1m \u001b[0m│\u001b[1m           \u001b[0m│\n",
      "│\u001b[1m         \u001b[0m│\u001b[1m         \u001b[0m│\u001b[1m \u001b[0m\u001b[1mnumpy             \u001b[0m\u001b[1m \u001b[0m│\u001b[1m           \u001b[0m│\n",
      "│\u001b[1m         \u001b[0m│\u001b[1m         \u001b[0m│\u001b[1m \u001b[0m\u001b[1monnx              \u001b[0m\u001b[1m \u001b[0m│\u001b[1m           \u001b[0m│\n",
      "│\u001b[1m         \u001b[0m│\u001b[1m         \u001b[0m│\u001b[1m \u001b[0m\u001b[1monnxmltools       \u001b[0m\u001b[1m \u001b[0m│\u001b[1m           \u001b[0m│\n",
      "│\u001b[1m         \u001b[0m│\u001b[1m         \u001b[0m│\u001b[1m \u001b[0m\u001b[1monnxruntime       \u001b[0m\u001b[1m \u001b[0m│\u001b[1m           \u001b[0m│\n",
      "│\u001b[1m         \u001b[0m│\u001b[1m         \u001b[0m│\u001b[1m \u001b[0m\u001b[1mplanetary-computer\u001b[0m\u001b[1m \u001b[0m│\u001b[1m           \u001b[0m│\n",
      "│\u001b[1m         \u001b[0m│\u001b[1m         \u001b[0m│\u001b[1m \u001b[0m\u001b[1mpystac-client     \u001b[0m\u001b[1m \u001b[0m│\u001b[1m           \u001b[0m│\n",
      "│\u001b[1m         \u001b[0m│\u001b[1m         \u001b[0m│\u001b[1m \u001b[0m\u001b[1mpystac>=1.4.0     \u001b[0m\u001b[1m \u001b[0m│\u001b[1m           \u001b[0m│\n",
      "│\u001b[1m         \u001b[0m│\u001b[1m         \u001b[0m│\u001b[1m \u001b[0m\u001b[1mrasterio          \u001b[0m\u001b[1m \u001b[0m│\u001b[1m           \u001b[0m│\n",
      "│\u001b[1m         \u001b[0m│\u001b[1m         \u001b[0m│\u001b[1m \u001b[0m\u001b[1mrio-stac          \u001b[0m\u001b[1m \u001b[0m│\u001b[1m           \u001b[0m│\n",
      "│\u001b[1m         \u001b[0m│\u001b[1m         \u001b[0m│\u001b[1m \u001b[0m\u001b[1mtf2onnx           \u001b[0m\u001b[1m \u001b[0m│\u001b[1m           \u001b[0m│\n",
      "│\u001b[1m         \u001b[0m│\u001b[1m         \u001b[0m│\u001b[1m \u001b[0m\u001b[1mtqdm              \u001b[0m\u001b[1m \u001b[0m│\u001b[1m           \u001b[0m│\n",
      "└─────────┴─────────┴────────────────────┴───────────┘\n",
      "                      Matrices                       \n",
      "┏━━━━━━┳━━━━━━━━━┳━━━━━━━━━━━━━┳━━━━━━━━━━━━━━━━━━━━┓\n",
      "┃\u001b[1m \u001b[0m\u001b[1mName\u001b[0m\u001b[1m \u001b[0m┃\u001b[1m \u001b[0m\u001b[1mType   \u001b[0m\u001b[1m \u001b[0m┃\u001b[1m \u001b[0m\u001b[1mEnvs       \u001b[0m\u001b[1m \u001b[0m┃\u001b[1m \u001b[0m\u001b[1mDependencies      \u001b[0m\u001b[1m \u001b[0m┃\n",
      "┡━━━━━━╇━━━━━━━━━╇━━━━━━━━━━━━━╇━━━━━━━━━━━━━━━━━━━━┩\n",
      "│\u001b[1m \u001b[0m\u001b[1mtest\u001b[0m\u001b[1m \u001b[0m│\u001b[1m \u001b[0m\u001b[1mvirtual\u001b[0m\u001b[1m \u001b[0m│\u001b[1m \u001b[0m\u001b[1mtest.py3.10\u001b[0m\u001b[1m \u001b[0m│\u001b[1m \u001b[0m\u001b[1mclick             \u001b[0m\u001b[1m \u001b[0m│\n",
      "│\u001b[1m      \u001b[0m│\u001b[1m         \u001b[0m│\u001b[1m             \u001b[0m│\u001b[1m \u001b[0m\u001b[1mgeoreader-spaceml \u001b[0m\u001b[1m \u001b[0m│\n",
      "│\u001b[1m      \u001b[0m│\u001b[1m         \u001b[0m│\u001b[1m             \u001b[0m│\u001b[1m \u001b[0m\u001b[1mloguru            \u001b[0m\u001b[1m \u001b[0m│\n",
      "│\u001b[1m      \u001b[0m│\u001b[1m         \u001b[0m│\u001b[1m             \u001b[0m│\u001b[1m \u001b[0m\u001b[1mnumpy             \u001b[0m\u001b[1m \u001b[0m│\n",
      "│\u001b[1m      \u001b[0m│\u001b[1m         \u001b[0m│\u001b[1m             \u001b[0m│\u001b[1m \u001b[0m\u001b[1monnx              \u001b[0m\u001b[1m \u001b[0m│\n",
      "│\u001b[1m      \u001b[0m│\u001b[1m         \u001b[0m│\u001b[1m             \u001b[0m│\u001b[1m \u001b[0m\u001b[1monnxmltools       \u001b[0m\u001b[1m \u001b[0m│\n",
      "│\u001b[1m      \u001b[0m│\u001b[1m         \u001b[0m│\u001b[1m             \u001b[0m│\u001b[1m \u001b[0m\u001b[1monnxruntime       \u001b[0m\u001b[1m \u001b[0m│\n",
      "│\u001b[1m      \u001b[0m│\u001b[1m         \u001b[0m│\u001b[1m             \u001b[0m│\u001b[1m \u001b[0m\u001b[1mplanetary-computer\u001b[0m\u001b[1m \u001b[0m│\n",
      "│\u001b[1m      \u001b[0m│\u001b[1m         \u001b[0m│\u001b[1m             \u001b[0m│\u001b[1m \u001b[0m\u001b[1mpystac-client     \u001b[0m\u001b[1m \u001b[0m│\n",
      "│\u001b[1m      \u001b[0m│\u001b[1m         \u001b[0m│\u001b[1m             \u001b[0m│\u001b[1m \u001b[0m\u001b[1mpystac>=1.4.0     \u001b[0m\u001b[1m \u001b[0m│\n",
      "│\u001b[1m      \u001b[0m│\u001b[1m         \u001b[0m│\u001b[1m             \u001b[0m│\u001b[1m \u001b[0m\u001b[1mrasterio          \u001b[0m\u001b[1m \u001b[0m│\n",
      "│\u001b[1m      \u001b[0m│\u001b[1m         \u001b[0m│\u001b[1m             \u001b[0m│\u001b[1m \u001b[0m\u001b[1mrio-stac          \u001b[0m\u001b[1m \u001b[0m│\n",
      "│\u001b[1m      \u001b[0m│\u001b[1m         \u001b[0m│\u001b[1m             \u001b[0m│\u001b[1m \u001b[0m\u001b[1mtf2onnx           \u001b[0m\u001b[1m \u001b[0m│\n",
      "│\u001b[1m      \u001b[0m│\u001b[1m         \u001b[0m│\u001b[1m             \u001b[0m│\u001b[1m \u001b[0m\u001b[1mtqdm              \u001b[0m\u001b[1m \u001b[0m│\n",
      "└──────┴─────────┴─────────────┴────────────────────┘\n"
     ]
    }
   ],
   "source": [
    "!hatch env show"
   ]
  },
  {
   "cell_type": "markdown",
   "metadata": {},
   "source": [
    "## Run the make-inference application \n",
    "\n",
    "First dump the help:"
   ]
  },
  {
   "cell_type": "code",
   "execution_count": 6,
   "metadata": {
    "vscode": {
     "languageId": "shellscript"
    }
   },
   "outputs": [
    {
     "name": "stdout",
     "output_type": "stream",
     "text": [
      "Usage: make-inference [OPTIONS]\n",
      "\n",
      "  A selected model with highest evaluation metrics will making an inference on\n",
      "  a sentinel-2  data\n",
      "\n",
      "Options:\n",
      "  -i, --input_reference PATH  Url to sentinel-2 STAC Item to provide inference\n",
      "                              on tif images for 12 common bands(excluding\n",
      "                              cirrus)  [required]\n",
      "  --help                      Show this message and exit.\n"
     ]
    }
   ],
   "source": [
    "!hatch run default:make-inference --help"
   ]
  },
  {
   "cell_type": "code",
   "execution_count": null,
   "metadata": {
    "vscode": {
     "languageId": "shellscript"
    }
   },
   "outputs": [],
   "source": [
    "!hatch run default:make-inference \\\n",
    "    --input_reference https://planetarycomputer.microsoft.com/api/stac/v1/collections/sentinel-2-l2a/items/S2C_MSIL2A_20250420T093051_R136_T35ULS_20250420T125212"
   ]
  },
  {
   "cell_type": "markdown",
   "metadata": {},
   "source": [
    "## Clean-up"
   ]
  },
  {
   "cell_type": "code",
   "execution_count": 10,
   "metadata": {
    "vscode": {
     "languageId": "shellscript"
    }
   },
   "outputs": [],
   "source": [
    "%%bash\n",
    "exit\n",
    "rm -fr envs"
   ]
  },
  {
   "cell_type": "markdown",
   "metadata": {},
   "source": [
    "List the outputs:"
   ]
  },
  {
   "cell_type": "code",
   "execution_count": null,
   "metadata": {
    "vscode": {
     "languageId": "shellscript"
    }
   },
   "outputs": [],
   "source": [
    "tree ${RUNTIME}"
   ]
  }
 ],
 "metadata": {
  "kernelspec": {
   "display_name": "base",
   "language": "python",
   "name": "python3"
  },
  "language_info": {
   "codemirror_mode": {
    "name": "ipython",
    "version": 3
   },
   "file_extension": ".py",
   "mimetype": "text/x-python",
   "name": "python",
   "nbconvert_exporter": "python",
   "pygments_lexer": "ipython3",
   "version": "3.11.5"
  }
 },
 "nbformat": 4,
 "nbformat_minor": 2
}
