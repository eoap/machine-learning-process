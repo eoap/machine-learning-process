{
 "cells": [
  {
   "cell_type": "markdown",
   "metadata": {},
   "source": [
    "# Run the Training step"
   ]
  },
  {
   "cell_type": "markdown",
   "metadata": {},
   "source": [
    "## Setup the environment\n",
    "\n",
    "Navigate to the target folder"
   ]
  },
  {
   "cell_type": "code",
   "execution_count": null,
   "metadata": {
    "vscode": {
     "languageId": "shellscript"
    }
   },
   "outputs": [
    {
     "name": "stdout",
     "output_type": "stream",
     "text": [
      "/home/t2/Desktop/p/argo/machine-learning-process/practice-labs/1-Application_Steps\n",
      "/home/t2/Desktop/p/argo/machine-learning-process/training/make-ml-model\n",
      "config\tDockerfile  output  params.yaml  pyproject.toml  src\n"
     ]
    }
   ],
   "source": [
    "!pwd \n",
    "WORKSPACE='training/make-ml-model/'\n",
    "%cd ../../{WORKSPACE}\n",
    "!ls"
   ]
  },
  {
   "cell_type": "markdown",
   "metadata": {},
   "source": [
    "## Create a hatch environment\n",
    "\n",
    "The hatch environment provides a dedicated Python where the `make-ml-model` step dependencies are installed. This process can be done with hatch."
   ]
  },
  {
   "cell_type": "code",
   "execution_count": 2,
   "metadata": {
    "vscode": {
     "languageId": "shellscript"
    }
   },
   "outputs": [
    {
     "name": "stdout",
     "output_type": "stream",
     "text": [
      "\u001b[2K\u001b[32m.  \u001b[0m \u001b[1;35mCreating environment: default\u001b[0m0m\n",
      "\u001b[2K\u001b[33mDEPRECATION: --no-python-version-warning is deprecated. pip 25.1 will enforce this behaviour change. A possible replacement is to remove the flag as it's a no-op. Discussion can be found at https://github.com/pypa/pip/issues/13154\u001b[0m\u001b[33m\n",
      "\u001b[2K\u001b[32m.. \u001b[0m \u001b[1;35mInstalling project in development mode\u001b[0m\u001b[0m\n",
      "\u001b[1A\u001b[2K\u001b[?25l\u001b[32m.  \u001b[0m \u001b[1;35mChecking dependencies\u001b[0m\n",
      "\u001b[2K\u001b[33mDEPRECATION: --no-python-version-warning is deprecated. pip 25.1 will enforce this behaviour change. A possible replacement is to remove the flag as it's a no-op. Discussion can be found at https://github.com/pypa/pip/issues/13154\u001b[0m\u001b[33m\n",
      "\u001b[2K\u001b[32m.  \u001b[0m \u001b[1;35mSyncing dependencies\u001b[0m\u001b[0m\n",
      "\u001b[1A\u001b[2K"
     ]
    }
   ],
   "source": [
    "!hatch env prune\n",
    "!hatch env create default"
   ]
  },
  {
   "cell_type": "code",
   "execution_count": 3,
   "metadata": {
    "vscode": {
     "languageId": "shellscript"
    }
   },
   "outputs": [
    {
     "name": "stdout",
     "output_type": "stream",
     "text": [
      "                                   Standalone                                   \n",
      "┏━━┳━━┳━━━━━━━━━━━━━━━━━━━━━━━━━━━━━━━━━━━━━━━━━━━━━━━━━━━━━━━━━━━━━━━━━━━━━┳━━┓\n",
      "┃\u001b[1m  \u001b[0m┃\u001b[1m  \u001b[0m┃\u001b[1m \u001b[0m\u001b[1mDependencies                                                       \u001b[0m\u001b[1m \u001b[0m┃\u001b[1m  \u001b[0m┃\n",
      "┡━━╇━━╇━━━━━━━━━━━━━━━━━━━━━━━━━━━━━━━━━━━━━━━━━━━━━━━━━━━━━━━━━━━━━━━━━━━━━╇━━┩\n",
      "│\u001b[1m  \u001b[0m│\u001b[1m  \u001b[0m│\u001b[1m \u001b[0m\u001b[1mclick                                                              \u001b[0m\u001b[1m \u001b[0m│\u001b[1m  \u001b[0m│\n",
      "│\u001b[1m  \u001b[0m│\u001b[1m  \u001b[0m│\u001b[1m \u001b[0m\u001b[1mdataclasses                                                        \u001b[0m\u001b[1m \u001b[0m│\u001b[1m  \u001b[0m│\n",
      "│\u001b[1m  \u001b[0m│\u001b[1m  \u001b[0m│\u001b[1m \u001b[0m\u001b[1mduckdb                                                             \u001b[0m\u001b[1m \u001b[0m│\u001b[1m  \u001b[0m│\n",
      "│\u001b[1m  \u001b[0m│\u001b[1m  \u001b[0m│\u001b[1m \u001b[0m\u001b[1mensure                                                             \u001b[0m\u001b[1m \u001b[0m│\u001b[1m  \u001b[0m│\n",
      "│\u001b[1m  \u001b[0m│\u001b[1m  \u001b[0m│\u001b[1m \u001b[0m\u001b[1mipykernel                                                          \u001b[0m\u001b[1m \u001b[0m│\u001b[1m  \u001b[0m│\n",
      "│\u001b[1m  \u001b[0m│\u001b[1m  \u001b[0m│\u001b[1m \u001b[0m\u001b[1mjoblib                                                             \u001b[0m\u001b[1m \u001b[0m│\u001b[1m  \u001b[0m│\n",
      "│\u001b[1m  \u001b[0m│\u001b[1m  \u001b[0m│\u001b[1m \u001b[0m\u001b[1mloguru                                                             \u001b[0m\u001b[1m \u001b[0m│\u001b[1m  \u001b[0m│\n",
      "│\u001b[1m  \u001b[0m│\u001b[1m  \u001b[0m│\u001b[1m \u001b[0m\u001b[1mmatplotlib                                                         \u001b[0m\u001b[1m \u001b[0m│\u001b[1m  \u001b[0m│\n",
      "│\u001b[1m  \u001b[0m│\u001b[1m  \u001b[0m│\u001b[1m \u001b[0m\u001b[1mmlflow                                                             \u001b[0m\u001b[1m \u001b[0m│\u001b[1m  \u001b[0m│\n",
      "│\u001b[1m  \u001b[0m│\u001b[1m  \u001b[0m│\u001b[1m \u001b[0m\u001b[1mnumpy                                                              \u001b[0m\u001b[1m \u001b[0m│\u001b[1m  \u001b[0m│\n",
      "│\u001b[1m  \u001b[0m│\u001b[1m  \u001b[0m│\u001b[1m \u001b[0m\u001b[1mpandas                                                             \u001b[0m\u001b[1m \u001b[0m│\u001b[1m  \u001b[0m│\n",
      "│\u001b[1m  \u001b[0m│\u001b[1m  \u001b[0m│\u001b[1m \u001b[0m\u001b[1mpathlib                                                            \u001b[0m\u001b[1m \u001b[0m│\u001b[1m  \u001b[0m│\n",
      "│\u001b[1m  \u001b[0m│\u001b[1m  \u001b[0m│\u001b[1m \u001b[0m\u001b[1mpygeofilter                                                        \u001b[0m\u001b[1m \u001b[0m│\u001b[1m  \u001b[0m│\n",
      "│\u001b[1m  \u001b[0m│\u001b[1m  \u001b[0m│\u001b[1m \u001b[0m\u001b[1mpygeofilter-duckdb@ git+https://github.com/parham-membari-terradue…\u001b[0m\u001b[1m \u001b[0m│\u001b[1m  \u001b[0m│\n",
      "│\u001b[1m  \u001b[0m│\u001b[1m  \u001b[0m│\u001b[1m \u001b[0m\u001b[1mpystac-client                                                      \u001b[0m\u001b[1m \u001b[0m│\u001b[1m  \u001b[0m│\n",
      "│\u001b[1m  \u001b[0m│\u001b[1m  \u001b[0m│\u001b[1m \u001b[0m\u001b[1mpystac>=1.4.0                                                      \u001b[0m\u001b[1m \u001b[0m│\u001b[1m  \u001b[0m│\n",
      "│\u001b[1m  \u001b[0m│\u001b[1m  \u001b[0m│\u001b[1m \u001b[0m\u001b[1mpython-box                                                         \u001b[0m\u001b[1m \u001b[0m│\u001b[1m  \u001b[0m│\n",
      "│\u001b[1m  \u001b[0m│\u001b[1m  \u001b[0m│\u001b[1m \u001b[0m\u001b[1mpyyaml                                                             \u001b[0m\u001b[1m \u001b[0m│\u001b[1m  \u001b[0m│\n",
      "│\u001b[1m  \u001b[0m│\u001b[1m  \u001b[0m│\u001b[1m \u001b[0m\u001b[1mrasterio                                                           \u001b[0m\u001b[1m \u001b[0m│\u001b[1m  \u001b[0m│\n",
      "│\u001b[1m  \u001b[0m│\u001b[1m  \u001b[0m│\u001b[1m \u001b[0m\u001b[1mscikit-learn                                                       \u001b[0m\u001b[1m \u001b[0m│\u001b[1m  \u001b[0m│\n",
      "│\u001b[1m  \u001b[0m│\u001b[1m  \u001b[0m│\u001b[1m \u001b[0m\u001b[1mseaborn                                                            \u001b[0m\u001b[1m \u001b[0m│\u001b[1m  \u001b[0m│\n",
      "│\u001b[1m  \u001b[0m│\u001b[1m  \u001b[0m│\u001b[1m \u001b[0m\u001b[1mshapely                                                            \u001b[0m\u001b[1m \u001b[0m│\u001b[1m  \u001b[0m│\n",
      "│\u001b[1m  \u001b[0m│\u001b[1m  \u001b[0m│\u001b[1m \u001b[0m\u001b[1mstac-geoparquet                                                    \u001b[0m\u001b[1m \u001b[0m│\u001b[1m  \u001b[0m│\n",
      "│\u001b[1m  \u001b[0m│\u001b[1m  \u001b[0m│\u001b[1m \u001b[0m\u001b[1mtensorflow                                                         \u001b[0m\u001b[1m \u001b[0m│\u001b[1m  \u001b[0m│\n",
      "│\u001b[1m  \u001b[0m│\u001b[1m  \u001b[0m│\u001b[1m \u001b[0m\u001b[1mtqdm                                                               \u001b[0m\u001b[1m \u001b[0m│\u001b[1m  \u001b[0m│\n",
      "│\u001b[1m  \u001b[0m│\u001b[1m  \u001b[0m│\u001b[1m \u001b[0m\u001b[1mtzdata                                                             \u001b[0m\u001b[1m \u001b[0m│\u001b[1m  \u001b[0m│\n",
      "├──┼──┼─────────────────────────────────────────────────────────────────────┼──┤\n",
      "│\u001b[1m  \u001b[0m│\u001b[1m  \u001b[0m│\u001b[1m \u001b[0m\u001b[1mclick                                                              \u001b[0m\u001b[1m \u001b[0m│\u001b[1m  \u001b[0m│\n",
      "│\u001b[1m  \u001b[0m│\u001b[1m  \u001b[0m│\u001b[1m \u001b[0m\u001b[1mdataclasses                                                        \u001b[0m\u001b[1m \u001b[0m│\u001b[1m  \u001b[0m│\n",
      "│\u001b[1m  \u001b[0m│\u001b[1m  \u001b[0m│\u001b[1m \u001b[0m\u001b[1mduckdb                                                             \u001b[0m\u001b[1m \u001b[0m│\u001b[1m  \u001b[0m│\n",
      "│\u001b[1m  \u001b[0m│\u001b[1m  \u001b[0m│\u001b[1m \u001b[0m\u001b[1mensure                                                             \u001b[0m\u001b[1m \u001b[0m│\u001b[1m  \u001b[0m│\n",
      "│\u001b[1m  \u001b[0m│\u001b[1m  \u001b[0m│\u001b[1m \u001b[0m\u001b[1mipykernel                                                          \u001b[0m\u001b[1m \u001b[0m│\u001b[1m  \u001b[0m│\n",
      "│\u001b[1m  \u001b[0m│\u001b[1m  \u001b[0m│\u001b[1m \u001b[0m\u001b[1mjoblib                                                             \u001b[0m\u001b[1m \u001b[0m│\u001b[1m  \u001b[0m│\n",
      "│\u001b[1m  \u001b[0m│\u001b[1m  \u001b[0m│\u001b[1m \u001b[0m\u001b[1mloguru                                                             \u001b[0m\u001b[1m \u001b[0m│\u001b[1m  \u001b[0m│\n",
      "│\u001b[1m  \u001b[0m│\u001b[1m  \u001b[0m│\u001b[1m \u001b[0m\u001b[1mmatplotlib                                                         \u001b[0m\u001b[1m \u001b[0m│\u001b[1m  \u001b[0m│\n",
      "│\u001b[1m  \u001b[0m│\u001b[1m  \u001b[0m│\u001b[1m \u001b[0m\u001b[1mmlflow                                                             \u001b[0m\u001b[1m \u001b[0m│\u001b[1m  \u001b[0m│\n",
      "│\u001b[1m  \u001b[0m│\u001b[1m  \u001b[0m│\u001b[1m \u001b[0m\u001b[1mnumpy                                                              \u001b[0m\u001b[1m \u001b[0m│\u001b[1m  \u001b[0m│\n",
      "│\u001b[1m  \u001b[0m│\u001b[1m  \u001b[0m│\u001b[1m \u001b[0m\u001b[1mpandas                                                             \u001b[0m\u001b[1m \u001b[0m│\u001b[1m  \u001b[0m│\n",
      "│\u001b[1m  \u001b[0m│\u001b[1m  \u001b[0m│\u001b[1m \u001b[0m\u001b[1mpathlib                                                            \u001b[0m\u001b[1m \u001b[0m│\u001b[1m  \u001b[0m│\n",
      "│\u001b[1m  \u001b[0m│\u001b[1m  \u001b[0m│\u001b[1m \u001b[0m\u001b[1mpygeofilter                                                        \u001b[0m\u001b[1m \u001b[0m│\u001b[1m  \u001b[0m│\n",
      "│\u001b[1m  \u001b[0m│\u001b[1m  \u001b[0m│\u001b[1m \u001b[0m\u001b[1mpygeofilter-duckdb@ git+https://github.com/parham-membari-terradue…\u001b[0m\u001b[1m \u001b[0m│\u001b[1m  \u001b[0m│\n",
      "│\u001b[1m  \u001b[0m│\u001b[1m  \u001b[0m│\u001b[1m \u001b[0m\u001b[1mpystac-client                                                      \u001b[0m\u001b[1m \u001b[0m│\u001b[1m  \u001b[0m│\n",
      "│\u001b[1m  \u001b[0m│\u001b[1m  \u001b[0m│\u001b[1m \u001b[0m\u001b[1mpystac>=1.4.0                                                      \u001b[0m\u001b[1m \u001b[0m│\u001b[1m  \u001b[0m│\n",
      "│\u001b[1m  \u001b[0m│\u001b[1m  \u001b[0m│\u001b[1m \u001b[0m\u001b[1mpython-box                                                         \u001b[0m\u001b[1m \u001b[0m│\u001b[1m  \u001b[0m│\n",
      "│\u001b[1m  \u001b[0m│\u001b[1m  \u001b[0m│\u001b[1m \u001b[0m\u001b[1mpyyaml                                                             \u001b[0m\u001b[1m \u001b[0m│\u001b[1m  \u001b[0m│\n",
      "│\u001b[1m  \u001b[0m│\u001b[1m  \u001b[0m│\u001b[1m \u001b[0m\u001b[1mrasterio                                                           \u001b[0m\u001b[1m \u001b[0m│\u001b[1m  \u001b[0m│\n",
      "│\u001b[1m  \u001b[0m│\u001b[1m  \u001b[0m│\u001b[1m \u001b[0m\u001b[1mscikit-learn                                                       \u001b[0m\u001b[1m \u001b[0m│\u001b[1m  \u001b[0m│\n",
      "│\u001b[1m  \u001b[0m│\u001b[1m  \u001b[0m│\u001b[1m \u001b[0m\u001b[1mseaborn                                                            \u001b[0m\u001b[1m \u001b[0m│\u001b[1m  \u001b[0m│\n",
      "│\u001b[1m  \u001b[0m│\u001b[1m  \u001b[0m│\u001b[1m \u001b[0m\u001b[1mshapely                                                            \u001b[0m\u001b[1m \u001b[0m│\u001b[1m  \u001b[0m│\n",
      "│\u001b[1m  \u001b[0m│\u001b[1m  \u001b[0m│\u001b[1m \u001b[0m\u001b[1mstac-geoparquet                                                    \u001b[0m\u001b[1m \u001b[0m│\u001b[1m  \u001b[0m│\n",
      "│\u001b[1m  \u001b[0m│\u001b[1m  \u001b[0m│\u001b[1m \u001b[0m\u001b[1mtensorflow                                                         \u001b[0m\u001b[1m \u001b[0m│\u001b[1m  \u001b[0m│\n",
      "│\u001b[1m  \u001b[0m│\u001b[1m  \u001b[0m│\u001b[1m \u001b[0m\u001b[1mtqdm                                                               \u001b[0m\u001b[1m \u001b[0m│\u001b[1m  \u001b[0m│\n",
      "│\u001b[1m  \u001b[0m│\u001b[1m  \u001b[0m│\u001b[1m \u001b[0m\u001b[1mtzdata                                                             \u001b[0m\u001b[1m \u001b[0m│\u001b[1m  \u001b[0m│\n",
      "└──┴──┴─────────────────────────────────────────────────────────────────────┴──┘\n",
      "                                    Matrices                                    \n",
      "┏┳━━┳━━━━━┳━━━━━━━━━━━━━━━━━━━━━━━━━━━━━━━━━━━━━━━━━━━━━━━━━━━━━━━━━━━━━━━━━━━━┓\n",
      "┃┃\u001b[1m  \u001b[0m┃\u001b[1m \u001b[0m\u001b[1mEn…\u001b[0m\u001b[1m \u001b[0m┃\u001b[1m \u001b[0m\u001b[1mDependencies                                                      \u001b[0m\u001b[1m \u001b[0m┃\n",
      "┡╇━━╇━━━━━╇━━━━━━━━━━━━━━━━━━━━━━━━━━━━━━━━━━━━━━━━━━━━━━━━━━━━━━━━━━━━━━━━━━━━┩\n",
      "││\u001b[1m  \u001b[0m│\u001b[1m \u001b[0m\u001b[1mte…\u001b[0m\u001b[1m \u001b[0m│\u001b[1m \u001b[0m\u001b[1mclick                                                             \u001b[0m\u001b[1m \u001b[0m│\n",
      "││\u001b[1m  \u001b[0m│\u001b[1m     \u001b[0m│\u001b[1m \u001b[0m\u001b[1mdataclasses                                                       \u001b[0m\u001b[1m \u001b[0m│\n",
      "││\u001b[1m  \u001b[0m│\u001b[1m     \u001b[0m│\u001b[1m \u001b[0m\u001b[1mduckdb                                                            \u001b[0m\u001b[1m \u001b[0m│\n",
      "││\u001b[1m  \u001b[0m│\u001b[1m     \u001b[0m│\u001b[1m \u001b[0m\u001b[1mensure                                                            \u001b[0m\u001b[1m \u001b[0m│\n",
      "││\u001b[1m  \u001b[0m│\u001b[1m     \u001b[0m│\u001b[1m \u001b[0m\u001b[1mipykernel                                                         \u001b[0m\u001b[1m \u001b[0m│\n",
      "││\u001b[1m  \u001b[0m│\u001b[1m     \u001b[0m│\u001b[1m \u001b[0m\u001b[1mjoblib                                                            \u001b[0m\u001b[1m \u001b[0m│\n",
      "││\u001b[1m  \u001b[0m│\u001b[1m     \u001b[0m│\u001b[1m \u001b[0m\u001b[1mloguru                                                            \u001b[0m\u001b[1m \u001b[0m│\n",
      "││\u001b[1m  \u001b[0m│\u001b[1m     \u001b[0m│\u001b[1m \u001b[0m\u001b[1mmatplotlib                                                        \u001b[0m\u001b[1m \u001b[0m│\n",
      "││\u001b[1m  \u001b[0m│\u001b[1m     \u001b[0m│\u001b[1m \u001b[0m\u001b[1mmlflow                                                            \u001b[0m\u001b[1m \u001b[0m│\n",
      "││\u001b[1m  \u001b[0m│\u001b[1m     \u001b[0m│\u001b[1m \u001b[0m\u001b[1mnumpy                                                             \u001b[0m\u001b[1m \u001b[0m│\n",
      "││\u001b[1m  \u001b[0m│\u001b[1m     \u001b[0m│\u001b[1m \u001b[0m\u001b[1mpandas                                                            \u001b[0m\u001b[1m \u001b[0m│\n",
      "││\u001b[1m  \u001b[0m│\u001b[1m     \u001b[0m│\u001b[1m \u001b[0m\u001b[1mpathlib                                                           \u001b[0m\u001b[1m \u001b[0m│\n",
      "││\u001b[1m  \u001b[0m│\u001b[1m     \u001b[0m│\u001b[1m \u001b[0m\u001b[1mpygeofilter                                                       \u001b[0m\u001b[1m \u001b[0m│\n",
      "││\u001b[1m  \u001b[0m│\u001b[1m     \u001b[0m│\u001b[1m \u001b[0m\u001b[1mpygeofilter-duckdb@ git+https://github.com/parham-membari-terradu…\u001b[0m\u001b[1m \u001b[0m│\n",
      "││\u001b[1m  \u001b[0m│\u001b[1m     \u001b[0m│\u001b[1m \u001b[0m\u001b[1mpystac-client                                                     \u001b[0m\u001b[1m \u001b[0m│\n",
      "││\u001b[1m  \u001b[0m│\u001b[1m     \u001b[0m│\u001b[1m \u001b[0m\u001b[1mpystac>=1.4.0                                                     \u001b[0m\u001b[1m \u001b[0m│\n",
      "││\u001b[1m  \u001b[0m│\u001b[1m     \u001b[0m│\u001b[1m \u001b[0m\u001b[1mpython-box                                                        \u001b[0m\u001b[1m \u001b[0m│\n",
      "││\u001b[1m  \u001b[0m│\u001b[1m     \u001b[0m│\u001b[1m \u001b[0m\u001b[1mpyyaml                                                            \u001b[0m\u001b[1m \u001b[0m│\n",
      "││\u001b[1m  \u001b[0m│\u001b[1m     \u001b[0m│\u001b[1m \u001b[0m\u001b[1mrasterio                                                          \u001b[0m\u001b[1m \u001b[0m│\n",
      "││\u001b[1m  \u001b[0m│\u001b[1m     \u001b[0m│\u001b[1m \u001b[0m\u001b[1mscikit-learn                                                      \u001b[0m\u001b[1m \u001b[0m│\n",
      "││\u001b[1m  \u001b[0m│\u001b[1m     \u001b[0m│\u001b[1m \u001b[0m\u001b[1mseaborn                                                           \u001b[0m\u001b[1m \u001b[0m│\n",
      "││\u001b[1m  \u001b[0m│\u001b[1m     \u001b[0m│\u001b[1m \u001b[0m\u001b[1mshapely                                                           \u001b[0m\u001b[1m \u001b[0m│\n",
      "││\u001b[1m  \u001b[0m│\u001b[1m     \u001b[0m│\u001b[1m \u001b[0m\u001b[1mstac-geoparquet                                                   \u001b[0m\u001b[1m \u001b[0m│\n",
      "││\u001b[1m  \u001b[0m│\u001b[1m     \u001b[0m│\u001b[1m \u001b[0m\u001b[1mtensorflow                                                        \u001b[0m\u001b[1m \u001b[0m│\n",
      "││\u001b[1m  \u001b[0m│\u001b[1m     \u001b[0m│\u001b[1m \u001b[0m\u001b[1mtqdm                                                              \u001b[0m\u001b[1m \u001b[0m│\n",
      "││\u001b[1m  \u001b[0m│\u001b[1m     \u001b[0m│\u001b[1m \u001b[0m\u001b[1mtzdata                                                            \u001b[0m\u001b[1m \u001b[0m│\n",
      "└┴──┴─────┴────────────────────────────────────────────────────────────────────┘\n"
     ]
    }
   ],
   "source": [
    "!hatch env show"
   ]
  },
  {
   "cell_type": "markdown",
   "metadata": {},
   "source": [
    "## Run the make-ml-model application \n",
    "\n",
    "First dump the help:"
   ]
  },
  {
   "cell_type": "code",
   "execution_count": 6,
   "metadata": {
    "vscode": {
     "languageId": "shellscript"
    }
   },
   "outputs": [
    {
     "name": "stdout",
     "output_type": "stream",
     "text": [
      "2025-05-07 17:47:54.961177: I tensorflow/core/util/port.cc:153] oneDNN custom operations are on. You may see slightly different numerical results due to floating-point round-off errors from different computation orders. To turn them off, set the environment variable `TF_ENABLE_ONEDNN_OPTS=0`.\n",
      "2025-05-07 17:47:54.961718: I external/local_xla/xla/tsl/cuda/cudart_stub.cc:32] Could not find cuda drivers on your machine, GPU will not be used.\n",
      "2025-05-07 17:47:54.964413: I external/local_xla/xla/tsl/cuda/cudart_stub.cc:32] Could not find cuda drivers on your machine, GPU will not be used.\n",
      "2025-05-07 17:47:54.971075: E external/local_xla/xla/stream_executor/cuda/cuda_fft.cc:467] Unable to register cuFFT factory: Attempting to register factory for plugin cuFFT when one has already been registered\n",
      "WARNING: All log messages before absl::InitializeLog() is called are written to STDERR\n",
      "E0000 00:00:1746632874.982141 1240329 cuda_dnn.cc:8579] Unable to register cuDNN factory: Attempting to register factory for plugin cuDNN when one has already been registered\n",
      "E0000 00:00:1746632874.985461 1240329 cuda_blas.cc:1407] Unable to register cuBLAS factory: Attempting to register factory for plugin cuBLAS when one has already been registered\n",
      "W0000 00:00:1746632874.994732 1240329 computation_placer.cc:177] computation placer already registered. Please check linkage and avoid linking the same target more than once.\n",
      "W0000 00:00:1746632874.994753 1240329 computation_placer.cc:177] computation placer already registered. Please check linkage and avoid linking the same target more than once.\n",
      "W0000 00:00:1746632874.994755 1240329 computation_placer.cc:177] computation placer already registered. Please check linkage and avoid linking the same target more than once.\n",
      "W0000 00:00:1746632874.994757 1240329 computation_placer.cc:177] computation placer already registered. Please check linkage and avoid linking the same target more than once.\n",
      "2025-05-07 17:47:54.997537: I tensorflow/core/platform/cpu_feature_guard.cc:210] This TensorFlow binary is optimized to use available CPU instructions in performance-critical operations.\n",
      "To enable the following instructions: AVX2 AVX512F AVX512_VNNI FMA, in other operations, rebuild TensorFlow with the appropriate compiler flags.\n",
      "[2025-05-07 17:47:57,105: INFO: common: created directory at: config]\n",
      "\u001b[32m2025-05-07 17:47:57.106\u001b[0m | \u001b[1mINFO    \u001b[0m | \u001b[36mtile_based_training.constants\u001b[0m:\u001b[36mwrite_yaml\u001b[0m:\u001b[36m13\u001b[0m - \u001b[1mYAML file: config/config.yaml written successfully\u001b[0m\n",
      "Usage: tile-based-training [OPTIONS]\n",
      "\n",
      "  A selected model with highest evaluation metrics will making an inference on\n",
      "  a sentinel-2 L1C data\n",
      "\n",
      "Options:\n",
      "  --stac_reference, --sr TEXT     The url which point to STAC input reference\n",
      "                                  [default: https://raw.githubusercontent.com/\n",
      "                                  eoap/machine-learning-\n",
      "                                  process/main/training/app-package/EUROSAT-\n",
      "                                  Training-Dataset/catalog.json; required]\n",
      "  --BATCH_SIZE, --b INTEGER       BATCH_SIZE  [default: 2]\n",
      "  --CLASSES, --c INTEGER          Number of classes to train  [default: 10]\n",
      "  --DECAY, --d FLOAT              DECAY - model metadata  [default: 0.1]\n",
      "  --EPOCHS, --ep INTEGER          Number of epochs\n",
      "  --EPSILON, --e FLOAT            EPSILON - model metadata  [default: 1e-06]\n",
      "  --LEARNING_RATE, --lr FLOAT     LEARNING_RATE  [default: 0.0001]\n",
      "  --LOSS, --lo TEXT               loss function  [default:\n",
      "                                  categorical_crossentropy]\n",
      "  --MEMENTUM, --m FLOAT           MEMENTUM - model metadata  [default: 0.95]\n",
      "  --OPTIMIZER, --o TEXT           OPTIMIZER  [default: Adam]\n",
      "  --REGULARIZER, --r TEXT         REGULARIZER\n",
      "  --SAMPLES_PER_CLASS, --s INTEGER\n",
      "                                  number of sample for each class to train\n",
      "                                  model based on  [default: 10]\n",
      "  --help                          Show this message and exit.\n"
     ]
    }
   ],
   "source": [
    "!hatch run default:tile-based-training --help"
   ]
  },
  {
   "cell_type": "markdown",
   "metadata": {},
   "source": [
    "In the cell below, the user must set the MLFLOW_TRACKING_URI as environment variable"
   ]
  },
  {
   "cell_type": "code",
   "execution_count": 7,
   "metadata": {
    "vscode": {
     "languageId": "shellscript"
    }
   },
   "outputs": [
    {
     "name": "stdout",
     "output_type": "stream",
     "text": [
      "http://my-mlflow:5000\n"
     ]
    }
   ],
   "source": [
    "%%bash\n",
    "export MLFLOW_TRACKING_URI=http://my-mlflow:5000\n",
    "echo ${MLFLOW_TRACKING_URI} "
   ]
  },
  {
   "cell_type": "markdown",
   "metadata": {},
   "source": [
    "Now, run the `tile-based-training` command line tool with the parameters:\n",
    "\n",
    "- stac_reference: https://earth-search.aws.element84.com/v0/collections/sentinel-s2-l2a-cogs/items/S2B_10TFK_20210713_0_L2A \n",
    "- BATCH_SIZE: 2 \n",
    "- CLASSES: 10 \n",
    "- DECAY: 0.1 \n",
    "- EPOCHS: 50 \n",
    "- EPSILON: 0.000001 \n",
    "- LEARNING_RATE: 0.0001 \n",
    "- LOSS: categorical_crossentropy \n",
    "- MEMENTUM: 0.95 \n",
    "- OPTIMIZER: Adam \n",
    "- REGULARIZER: None \n",
    "- SAMPLES_PER_CLASS: 1000"
   ]
  },
  {
   "cell_type": "markdown",
   "metadata": {},
   "source": [
    "Make sure your mlflow is running "
   ]
  },
  {
   "cell_type": "code",
   "execution_count": null,
   "metadata": {
    "vscode": {
     "languageId": "shellscript"
    }
   },
   "outputs": [],
   "source": [
    "!hatch run default:tile-based-training \\\n",
    "    --stac_reference https://raw.githubusercontent.com/eoap/machine-learning-process/main/training/app-package/EUROSAT-Training-Dataset/catalog.json \\\n",
    "    --BATCH_SIZE 2 \\\n",
    "    --CLASSES 10 \\\n",
    "    --DECAY 0.1 \\\n",
    "    --EPOCHS 50 \\\n",
    "    --EPSILON 0.000001 \\\n",
    "    --LEARNING_RATE 0.0001 \\\n",
    "    --LOSS categorical_crossentropy \\\n",
    "    --MEMENTUM 0.95 \\\n",
    "    --OPTIMIZER Adam \\\n",
    "    --REGULARIZER None \\\n",
    "    --SAMPLES_PER_CLASS 1000 \n"
   ]
  },
  {
   "cell_type": "markdown",
   "metadata": {},
   "source": [
    "## Clean-up "
   ]
  },
  {
   "cell_type": "code",
   "execution_count": null,
   "metadata": {
    "vscode": {
     "languageId": "shellscript"
    }
   },
   "outputs": [
    {
     "name": "stderr",
     "output_type": "stream",
     "text": [
      "DeprecationWarning: 'source deactivate' is deprecated. Use 'conda deactivate'.\n"
     ]
    }
   ],
   "source": [
    "%%bash\n",
    "exit\n",
    "rm -fr envs"
   ]
  },
  {
   "cell_type": "markdown",
   "metadata": {},
   "source": [
    "List the outputs:"
   ]
  },
  {
   "cell_type": "code",
   "execution_count": 12,
   "metadata": {
    "vscode": {
     "languageId": "shellscript"
    }
   },
   "outputs": [
    {
     "name": "stdout",
     "output_type": "stream",
     "text": [
      "\u001b[0;33m.\u001b[0m\n",
      "├── \u001b[0;33mconfig\u001b[0m\n",
      "│   └── config.yaml\n",
      "├── Dockerfile\n",
      "├── \u001b[0;33moutput\u001b[0m\n",
      "│   └── \u001b[0;33mlogs\u001b[0m\n",
      "│       └── running_logs.log\n",
      "├── params.yaml\n",
      "├── pyproject.toml\n",
      "└── \u001b[0;33msrc\u001b[0m\n",
      "    ├── __init__.py\n",
      "    └── \u001b[0;33mtile_based_training\u001b[0m\n",
      "        ├── __about__.py\n",
      "        ├── \u001b[0;33mcomponents\u001b[0m\n",
      "        │   ├── data_ingestion.py\n",
      "        │   ├── __init__.py\n",
      "        │   ├── model_evaluation.py\n",
      "        │   ├── prepare_base_model.py\n",
      "        │   ├── \u001b[0;33m__pycache__\u001b[0m\n",
      "        │   │   ├── data_ingestion.cpython-310.pyc\n",
      "        │   │   ├── data_ingestion.cpython-311.pyc\n",
      "        │   │   ├── data_ingestion.cpython-312.pyc\n",
      "        │   │   ├── __init__.cpython-310.pyc\n",
      "        │   │   ├── __init__.cpython-311.pyc\n",
      "        │   │   ├── __init__.cpython-312.pyc\n",
      "        │   │   ├── model_evaluation.cpython-310.pyc\n",
      "        │   │   ├── model_evaluation.cpython-311.pyc\n",
      "        │   │   ├── model_evaluation.cpython-312.pyc\n",
      "        │   │   ├── prepare_base_model.cpython-310.pyc\n",
      "        │   │   ├── prepare_base_model.cpython-311.pyc\n",
      "        │   │   ├── prepare_base_model.cpython-312.pyc\n",
      "        │   │   ├── train_model.cpython-310.pyc\n",
      "        │   │   ├── train_model.cpython-311.pyc\n",
      "        │   │   └── train_model.cpython-312.pyc\n",
      "        │   └── train_model.py\n",
      "        ├── \u001b[0;33mconfig\u001b[0m\n",
      "        │   ├── configuration.py\n",
      "        │   ├── __init__.py\n",
      "        │   ├── params.yaml\n",
      "        │   └── \u001b[0;33m__pycache__\u001b[0m\n",
      "        │       ├── configuration.cpython-310.pyc\n",
      "        │       ├── configuration.cpython-311.pyc\n",
      "        │       ├── configuration.cpython-312.pyc\n",
      "        │       ├── __init__.cpython-310.pyc\n",
      "        │       ├── __init__.cpython-311.pyc\n",
      "        │       └── __init__.cpython-312.pyc\n",
      "        ├── \u001b[0;33mconstants\u001b[0m\n",
      "        │   ├── config.py\n",
      "        │   ├── __init__.py\n",
      "        │   └── \u001b[0;33m__pycache__\u001b[0m\n",
      "        │       ├── config.cpython-310.pyc\n",
      "        │       ├── config.cpython-311.pyc\n",
      "        │       ├── config.cpython-312.pyc\n",
      "        │       ├── __init__.cpython-310.pyc\n",
      "        │       ├── __init__.cpython-311.pyc\n",
      "        │       └── __init__.cpython-312.pyc\n",
      "        ├── \u001b[0;33mentity\u001b[0m\n",
      "        │   ├── config_entity.py\n",
      "        │   ├── __init__.py\n",
      "        │   └── \u001b[0;33m__pycache__\u001b[0m\n",
      "        │       ├── config_entity.cpython-310.pyc\n",
      "        │       ├── config_entity.cpython-311.pyc\n",
      "        │       ├── config_entity.cpython-312.pyc\n",
      "        │       ├── __init__.cpython-310.pyc\n",
      "        │       ├── __init__.cpython-311.pyc\n",
      "        │       └── __init__.cpython-312.pyc\n",
      "        ├── __init__.py\n",
      "        ├── main.py\n",
      "        ├── \u001b[0;33moutput\u001b[0m\n",
      "        │   └── \u001b[0;33mdata_ingestion\u001b[0m\n",
      "        ├── \u001b[0;33mpipeline\u001b[0m\n",
      "        │   ├── __init__.py\n",
      "        │   ├── \u001b[0;33m__pycache__\u001b[0m\n",
      "        │   │   ├── __init__.cpython-310.pyc\n",
      "        │   │   ├── __init__.cpython-311.pyc\n",
      "        │   │   ├── __init__.cpython-312.pyc\n",
      "        │   │   ├── stage_01_data_ingestion.cpython-310.pyc\n",
      "        │   │   ├── stage_01_data_ingestion.cpython-311.pyc\n",
      "        │   │   ├── stage_01_data_ingestion.cpython-312.pyc\n",
      "        │   │   ├── stage_02_prepare_base_model.cpython-310.pyc\n",
      "        │   │   ├── stage_02_prepare_base_model.cpython-311.pyc\n",
      "        │   │   ├── stage_02_prepare_base_model.cpython-312.pyc\n",
      "        │   │   ├── stage_03_model_training.cpython-310.pyc\n",
      "        │   │   ├── stage_03_model_training.cpython-311.pyc\n",
      "        │   │   ├── stage_03_model_training.cpython-312.pyc\n",
      "        │   │   ├── stage_04_model_evaluation.cpython-310.pyc\n",
      "        │   │   ├── stage_04_model_evaluation.cpython-311.pyc\n",
      "        │   │   └── stage_04_model_evaluation.cpython-312.pyc\n",
      "        │   ├── stage_01_data_ingestion.py\n",
      "        │   ├── stage_02_prepare_base_model.py\n",
      "        │   ├── stage_03_model_training.py\n",
      "        │   └── stage_04_model_evaluation.py\n",
      "        ├── \u001b[0;33m__pycache__\u001b[0m\n",
      "        │   ├── __init__.cpython-310.pyc\n",
      "        │   ├── __init__.cpython-311.pyc\n",
      "        │   ├── __init__.cpython-312.pyc\n",
      "        │   ├── main.cpython-310.pyc\n",
      "        │   ├── main.cpython-311.pyc\n",
      "        │   └── main.cpython-312.pyc\n",
      "        └── \u001b[0;33mutils\u001b[0m\n",
      "            ├── common.py\n",
      "            ├── __init__.py\n",
      "            └── \u001b[0;33m__pycache__\u001b[0m\n",
      "                ├── common.cpython-310.pyc\n",
      "                ├── common.cpython-311.pyc\n",
      "                ├── common.cpython-312.pyc\n",
      "                ├── __init__.cpython-310.pyc\n",
      "                ├── __init__.cpython-311.pyc\n",
      "                └── __init__.cpython-312.pyc\n",
      "\n",
      "21 directories, 88 files\n"
     ]
    }
   ],
   "source": [
    "%%bash\n",
    "tree ."
   ]
  }
 ],
 "metadata": {
  "kernelspec": {
   "display_name": "base",
   "language": "python",
   "name": "python3"
  },
  "language_info": {
   "codemirror_mode": {
    "name": "ipython",
    "version": 3
   },
   "file_extension": ".py",
   "mimetype": "text/x-python",
   "name": "python",
   "nbconvert_exporter": "python",
   "pygments_lexer": "ipython3",
   "version": "3.11.5"
  }
 },
 "nbformat": 4,
 "nbformat_minor": 2
}
